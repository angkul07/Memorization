{
  "nbformat": 4,
  "nbformat_minor": 0,
  "metadata": {
    "colab": {
      "provenance": [],
      "gpuType": "T4"
    },
    "kernelspec": {
      "name": "python3",
      "display_name": "Python 3"
    },
    "language_info": {
      "name": "python"
    },
    "accelerator": "GPU",
    "widgets": {
      "application/vnd.jupyter.widget-state+json": {
        "62ed9ae489a0482984247b3306817ba2": {
          "model_module": "@jupyter-widgets/controls",
          "model_name": "HBoxModel",
          "model_module_version": "1.5.0",
          "state": {
            "_dom_classes": [],
            "_model_module": "@jupyter-widgets/controls",
            "_model_module_version": "1.5.0",
            "_model_name": "HBoxModel",
            "_view_count": null,
            "_view_module": "@jupyter-widgets/controls",
            "_view_module_version": "1.5.0",
            "_view_name": "HBoxView",
            "box_style": "",
            "children": [
              "IPY_MODEL_78006b1979334dfbae430069411ca6ef",
              "IPY_MODEL_52e53b3a03a947248dac4377f2a80386",
              "IPY_MODEL_d3fae9b8375c4d5aab0153575ed67549"
            ],
            "layout": "IPY_MODEL_9535114783d84365b1ee098dfccdf796"
          }
        },
        "78006b1979334dfbae430069411ca6ef": {
          "model_module": "@jupyter-widgets/controls",
          "model_name": "HTMLModel",
          "model_module_version": "1.5.0",
          "state": {
            "_dom_classes": [],
            "_model_module": "@jupyter-widgets/controls",
            "_model_module_version": "1.5.0",
            "_model_name": "HTMLModel",
            "_view_count": null,
            "_view_module": "@jupyter-widgets/controls",
            "_view_module_version": "1.5.0",
            "_view_name": "HTMLView",
            "description": "",
            "description_tooltip": null,
            "layout": "IPY_MODEL_ca98ce2f748141ff8a9d497bcc1653d5",
            "placeholder": "​",
            "style": "IPY_MODEL_7f3e2479dfd44baaa515aea2579ee5de",
            "value": "README.md: 100%"
          }
        },
        "52e53b3a03a947248dac4377f2a80386": {
          "model_module": "@jupyter-widgets/controls",
          "model_name": "FloatProgressModel",
          "model_module_version": "1.5.0",
          "state": {
            "_dom_classes": [],
            "_model_module": "@jupyter-widgets/controls",
            "_model_module_version": "1.5.0",
            "_model_name": "FloatProgressModel",
            "_view_count": null,
            "_view_module": "@jupyter-widgets/controls",
            "_view_module_version": "1.5.0",
            "_view_name": "ProgressView",
            "bar_style": "success",
            "description": "",
            "description_tooltip": null,
            "layout": "IPY_MODEL_cbddee654e9944f9841459e8ddc7d23e",
            "max": 2229,
            "min": 0,
            "orientation": "horizontal",
            "style": "IPY_MODEL_5597c1e3641e475fabe9a70e9f2eac88",
            "value": 2229
          }
        },
        "d3fae9b8375c4d5aab0153575ed67549": {
          "model_module": "@jupyter-widgets/controls",
          "model_name": "HTMLModel",
          "model_module_version": "1.5.0",
          "state": {
            "_dom_classes": [],
            "_model_module": "@jupyter-widgets/controls",
            "_model_module_version": "1.5.0",
            "_model_name": "HTMLModel",
            "_view_count": null,
            "_view_module": "@jupyter-widgets/controls",
            "_view_module_version": "1.5.0",
            "_view_name": "HTMLView",
            "description": "",
            "description_tooltip": null,
            "layout": "IPY_MODEL_a887b30833d74c7f8fd1574c0b679c94",
            "placeholder": "​",
            "style": "IPY_MODEL_b565e7324bb84b1090d7b48663f0998c",
            "value": " 2.23k/2.23k [00:00&lt;00:00, 235kB/s]"
          }
        },
        "9535114783d84365b1ee098dfccdf796": {
          "model_module": "@jupyter-widgets/base",
          "model_name": "LayoutModel",
          "model_module_version": "1.2.0",
          "state": {
            "_model_module": "@jupyter-widgets/base",
            "_model_module_version": "1.2.0",
            "_model_name": "LayoutModel",
            "_view_count": null,
            "_view_module": "@jupyter-widgets/base",
            "_view_module_version": "1.2.0",
            "_view_name": "LayoutView",
            "align_content": null,
            "align_items": null,
            "align_self": null,
            "border": null,
            "bottom": null,
            "display": null,
            "flex": null,
            "flex_flow": null,
            "grid_area": null,
            "grid_auto_columns": null,
            "grid_auto_flow": null,
            "grid_auto_rows": null,
            "grid_column": null,
            "grid_gap": null,
            "grid_row": null,
            "grid_template_areas": null,
            "grid_template_columns": null,
            "grid_template_rows": null,
            "height": null,
            "justify_content": null,
            "justify_items": null,
            "left": null,
            "margin": null,
            "max_height": null,
            "max_width": null,
            "min_height": null,
            "min_width": null,
            "object_fit": null,
            "object_position": null,
            "order": null,
            "overflow": null,
            "overflow_x": null,
            "overflow_y": null,
            "padding": null,
            "right": null,
            "top": null,
            "visibility": null,
            "width": null
          }
        },
        "ca98ce2f748141ff8a9d497bcc1653d5": {
          "model_module": "@jupyter-widgets/base",
          "model_name": "LayoutModel",
          "model_module_version": "1.2.0",
          "state": {
            "_model_module": "@jupyter-widgets/base",
            "_model_module_version": "1.2.0",
            "_model_name": "LayoutModel",
            "_view_count": null,
            "_view_module": "@jupyter-widgets/base",
            "_view_module_version": "1.2.0",
            "_view_name": "LayoutView",
            "align_content": null,
            "align_items": null,
            "align_self": null,
            "border": null,
            "bottom": null,
            "display": null,
            "flex": null,
            "flex_flow": null,
            "grid_area": null,
            "grid_auto_columns": null,
            "grid_auto_flow": null,
            "grid_auto_rows": null,
            "grid_column": null,
            "grid_gap": null,
            "grid_row": null,
            "grid_template_areas": null,
            "grid_template_columns": null,
            "grid_template_rows": null,
            "height": null,
            "justify_content": null,
            "justify_items": null,
            "left": null,
            "margin": null,
            "max_height": null,
            "max_width": null,
            "min_height": null,
            "min_width": null,
            "object_fit": null,
            "object_position": null,
            "order": null,
            "overflow": null,
            "overflow_x": null,
            "overflow_y": null,
            "padding": null,
            "right": null,
            "top": null,
            "visibility": null,
            "width": null
          }
        },
        "7f3e2479dfd44baaa515aea2579ee5de": {
          "model_module": "@jupyter-widgets/controls",
          "model_name": "DescriptionStyleModel",
          "model_module_version": "1.5.0",
          "state": {
            "_model_module": "@jupyter-widgets/controls",
            "_model_module_version": "1.5.0",
            "_model_name": "DescriptionStyleModel",
            "_view_count": null,
            "_view_module": "@jupyter-widgets/base",
            "_view_module_version": "1.2.0",
            "_view_name": "StyleView",
            "description_width": ""
          }
        },
        "cbddee654e9944f9841459e8ddc7d23e": {
          "model_module": "@jupyter-widgets/base",
          "model_name": "LayoutModel",
          "model_module_version": "1.2.0",
          "state": {
            "_model_module": "@jupyter-widgets/base",
            "_model_module_version": "1.2.0",
            "_model_name": "LayoutModel",
            "_view_count": null,
            "_view_module": "@jupyter-widgets/base",
            "_view_module_version": "1.2.0",
            "_view_name": "LayoutView",
            "align_content": null,
            "align_items": null,
            "align_self": null,
            "border": null,
            "bottom": null,
            "display": null,
            "flex": null,
            "flex_flow": null,
            "grid_area": null,
            "grid_auto_columns": null,
            "grid_auto_flow": null,
            "grid_auto_rows": null,
            "grid_column": null,
            "grid_gap": null,
            "grid_row": null,
            "grid_template_areas": null,
            "grid_template_columns": null,
            "grid_template_rows": null,
            "height": null,
            "justify_content": null,
            "justify_items": null,
            "left": null,
            "margin": null,
            "max_height": null,
            "max_width": null,
            "min_height": null,
            "min_width": null,
            "object_fit": null,
            "object_position": null,
            "order": null,
            "overflow": null,
            "overflow_x": null,
            "overflow_y": null,
            "padding": null,
            "right": null,
            "top": null,
            "visibility": null,
            "width": null
          }
        },
        "5597c1e3641e475fabe9a70e9f2eac88": {
          "model_module": "@jupyter-widgets/controls",
          "model_name": "ProgressStyleModel",
          "model_module_version": "1.5.0",
          "state": {
            "_model_module": "@jupyter-widgets/controls",
            "_model_module_version": "1.5.0",
            "_model_name": "ProgressStyleModel",
            "_view_count": null,
            "_view_module": "@jupyter-widgets/base",
            "_view_module_version": "1.2.0",
            "_view_name": "StyleView",
            "bar_color": null,
            "description_width": ""
          }
        },
        "a887b30833d74c7f8fd1574c0b679c94": {
          "model_module": "@jupyter-widgets/base",
          "model_name": "LayoutModel",
          "model_module_version": "1.2.0",
          "state": {
            "_model_module": "@jupyter-widgets/base",
            "_model_module_version": "1.2.0",
            "_model_name": "LayoutModel",
            "_view_count": null,
            "_view_module": "@jupyter-widgets/base",
            "_view_module_version": "1.2.0",
            "_view_name": "LayoutView",
            "align_content": null,
            "align_items": null,
            "align_self": null,
            "border": null,
            "bottom": null,
            "display": null,
            "flex": null,
            "flex_flow": null,
            "grid_area": null,
            "grid_auto_columns": null,
            "grid_auto_flow": null,
            "grid_auto_rows": null,
            "grid_column": null,
            "grid_gap": null,
            "grid_row": null,
            "grid_template_areas": null,
            "grid_template_columns": null,
            "grid_template_rows": null,
            "height": null,
            "justify_content": null,
            "justify_items": null,
            "left": null,
            "margin": null,
            "max_height": null,
            "max_width": null,
            "min_height": null,
            "min_width": null,
            "object_fit": null,
            "object_position": null,
            "order": null,
            "overflow": null,
            "overflow_x": null,
            "overflow_y": null,
            "padding": null,
            "right": null,
            "top": null,
            "visibility": null,
            "width": null
          }
        },
        "b565e7324bb84b1090d7b48663f0998c": {
          "model_module": "@jupyter-widgets/controls",
          "model_name": "DescriptionStyleModel",
          "model_module_version": "1.5.0",
          "state": {
            "_model_module": "@jupyter-widgets/controls",
            "_model_module_version": "1.5.0",
            "_model_name": "DescriptionStyleModel",
            "_view_count": null,
            "_view_module": "@jupyter-widgets/base",
            "_view_module_version": "1.2.0",
            "_view_name": "StyleView",
            "description_width": ""
          }
        },
        "0ab90979b8684af29c3d5dda64a3ddec": {
          "model_module": "@jupyter-widgets/controls",
          "model_name": "HBoxModel",
          "model_module_version": "1.5.0",
          "state": {
            "_dom_classes": [],
            "_model_module": "@jupyter-widgets/controls",
            "_model_module_version": "1.5.0",
            "_model_name": "HBoxModel",
            "_view_count": null,
            "_view_module": "@jupyter-widgets/controls",
            "_view_module_version": "1.5.0",
            "_view_name": "HBoxView",
            "box_style": "",
            "children": [
              "IPY_MODEL_f7c79dbbbd044b32bd7b4ef9abcd62fa",
              "IPY_MODEL_fa80ab3059e74fe1bbe33942ad747def",
              "IPY_MODEL_bd7f4db8eafe46daacd428f0f461f46b"
            ],
            "layout": "IPY_MODEL_e3be1f6cadff44d0829decece8ee6762"
          }
        },
        "f7c79dbbbd044b32bd7b4ef9abcd62fa": {
          "model_module": "@jupyter-widgets/controls",
          "model_name": "HTMLModel",
          "model_module_version": "1.5.0",
          "state": {
            "_dom_classes": [],
            "_model_module": "@jupyter-widgets/controls",
            "_model_module_version": "1.5.0",
            "_model_name": "HTMLModel",
            "_view_count": null,
            "_view_module": "@jupyter-widgets/controls",
            "_view_module_version": "1.5.0",
            "_view_name": "HTMLView",
            "description": "",
            "description_tooltip": null,
            "layout": "IPY_MODEL_7cbdcb346a1247f69fe9a6d586454f3c",
            "placeholder": "​",
            "style": "IPY_MODEL_7a0f79e198374cad8a18e96b0a095036",
            "value": "(…)-00000-of-00001-b37e6e80280f9a92.parquet: 100%"
          }
        },
        "fa80ab3059e74fe1bbe33942ad747def": {
          "model_module": "@jupyter-widgets/controls",
          "model_name": "FloatProgressModel",
          "model_module_version": "1.5.0",
          "state": {
            "_dom_classes": [],
            "_model_module": "@jupyter-widgets/controls",
            "_model_module_version": "1.5.0",
            "_model_name": "FloatProgressModel",
            "_view_count": null,
            "_view_module": "@jupyter-widgets/controls",
            "_view_module_version": "1.5.0",
            "_view_name": "ProgressView",
            "bar_style": "success",
            "description": "",
            "description_tooltip": null,
            "layout": "IPY_MODEL_453fe0f8f4564ad6ba23624d72c686c4",
            "max": 144263,
            "min": 0,
            "orientation": "horizontal",
            "style": "IPY_MODEL_dd7ebdc94a1c42749d1e8cfe4aa2a04d",
            "value": 144263
          }
        },
        "bd7f4db8eafe46daacd428f0f461f46b": {
          "model_module": "@jupyter-widgets/controls",
          "model_name": "HTMLModel",
          "model_module_version": "1.5.0",
          "state": {
            "_dom_classes": [],
            "_model_module": "@jupyter-widgets/controls",
            "_model_module_version": "1.5.0",
            "_model_name": "HTMLModel",
            "_view_count": null,
            "_view_module": "@jupyter-widgets/controls",
            "_view_module_version": "1.5.0",
            "_view_name": "HTMLView",
            "description": "",
            "description_tooltip": null,
            "layout": "IPY_MODEL_7852a5eea8b846deba7ed29bf00b99e9",
            "placeholder": "​",
            "style": "IPY_MODEL_ebbd1d645ac14c88a6acd23ce675f4b0",
            "value": " 144k/144k [00:00&lt;00:00, 5.60MB/s]"
          }
        },
        "e3be1f6cadff44d0829decece8ee6762": {
          "model_module": "@jupyter-widgets/base",
          "model_name": "LayoutModel",
          "model_module_version": "1.2.0",
          "state": {
            "_model_module": "@jupyter-widgets/base",
            "_model_module_version": "1.2.0",
            "_model_name": "LayoutModel",
            "_view_count": null,
            "_view_module": "@jupyter-widgets/base",
            "_view_module_version": "1.2.0",
            "_view_name": "LayoutView",
            "align_content": null,
            "align_items": null,
            "align_self": null,
            "border": null,
            "bottom": null,
            "display": null,
            "flex": null,
            "flex_flow": null,
            "grid_area": null,
            "grid_auto_columns": null,
            "grid_auto_flow": null,
            "grid_auto_rows": null,
            "grid_column": null,
            "grid_gap": null,
            "grid_row": null,
            "grid_template_areas": null,
            "grid_template_columns": null,
            "grid_template_rows": null,
            "height": null,
            "justify_content": null,
            "justify_items": null,
            "left": null,
            "margin": null,
            "max_height": null,
            "max_width": null,
            "min_height": null,
            "min_width": null,
            "object_fit": null,
            "object_position": null,
            "order": null,
            "overflow": null,
            "overflow_x": null,
            "overflow_y": null,
            "padding": null,
            "right": null,
            "top": null,
            "visibility": null,
            "width": null
          }
        },
        "7cbdcb346a1247f69fe9a6d586454f3c": {
          "model_module": "@jupyter-widgets/base",
          "model_name": "LayoutModel",
          "model_module_version": "1.2.0",
          "state": {
            "_model_module": "@jupyter-widgets/base",
            "_model_module_version": "1.2.0",
            "_model_name": "LayoutModel",
            "_view_count": null,
            "_view_module": "@jupyter-widgets/base",
            "_view_module_version": "1.2.0",
            "_view_name": "LayoutView",
            "align_content": null,
            "align_items": null,
            "align_self": null,
            "border": null,
            "bottom": null,
            "display": null,
            "flex": null,
            "flex_flow": null,
            "grid_area": null,
            "grid_auto_columns": null,
            "grid_auto_flow": null,
            "grid_auto_rows": null,
            "grid_column": null,
            "grid_gap": null,
            "grid_row": null,
            "grid_template_areas": null,
            "grid_template_columns": null,
            "grid_template_rows": null,
            "height": null,
            "justify_content": null,
            "justify_items": null,
            "left": null,
            "margin": null,
            "max_height": null,
            "max_width": null,
            "min_height": null,
            "min_width": null,
            "object_fit": null,
            "object_position": null,
            "order": null,
            "overflow": null,
            "overflow_x": null,
            "overflow_y": null,
            "padding": null,
            "right": null,
            "top": null,
            "visibility": null,
            "width": null
          }
        },
        "7a0f79e198374cad8a18e96b0a095036": {
          "model_module": "@jupyter-widgets/controls",
          "model_name": "DescriptionStyleModel",
          "model_module_version": "1.5.0",
          "state": {
            "_model_module": "@jupyter-widgets/controls",
            "_model_module_version": "1.5.0",
            "_model_name": "DescriptionStyleModel",
            "_view_count": null,
            "_view_module": "@jupyter-widgets/base",
            "_view_module_version": "1.2.0",
            "_view_name": "StyleView",
            "description_width": ""
          }
        },
        "453fe0f8f4564ad6ba23624d72c686c4": {
          "model_module": "@jupyter-widgets/base",
          "model_name": "LayoutModel",
          "model_module_version": "1.2.0",
          "state": {
            "_model_module": "@jupyter-widgets/base",
            "_model_module_version": "1.2.0",
            "_model_name": "LayoutModel",
            "_view_count": null,
            "_view_module": "@jupyter-widgets/base",
            "_view_module_version": "1.2.0",
            "_view_name": "LayoutView",
            "align_content": null,
            "align_items": null,
            "align_self": null,
            "border": null,
            "bottom": null,
            "display": null,
            "flex": null,
            "flex_flow": null,
            "grid_area": null,
            "grid_auto_columns": null,
            "grid_auto_flow": null,
            "grid_auto_rows": null,
            "grid_column": null,
            "grid_gap": null,
            "grid_row": null,
            "grid_template_areas": null,
            "grid_template_columns": null,
            "grid_template_rows": null,
            "height": null,
            "justify_content": null,
            "justify_items": null,
            "left": null,
            "margin": null,
            "max_height": null,
            "max_width": null,
            "min_height": null,
            "min_width": null,
            "object_fit": null,
            "object_position": null,
            "order": null,
            "overflow": null,
            "overflow_x": null,
            "overflow_y": null,
            "padding": null,
            "right": null,
            "top": null,
            "visibility": null,
            "width": null
          }
        },
        "dd7ebdc94a1c42749d1e8cfe4aa2a04d": {
          "model_module": "@jupyter-widgets/controls",
          "model_name": "ProgressStyleModel",
          "model_module_version": "1.5.0",
          "state": {
            "_model_module": "@jupyter-widgets/controls",
            "_model_module_version": "1.5.0",
            "_model_name": "ProgressStyleModel",
            "_view_count": null,
            "_view_module": "@jupyter-widgets/base",
            "_view_module_version": "1.2.0",
            "_view_name": "StyleView",
            "bar_color": null,
            "description_width": ""
          }
        },
        "7852a5eea8b846deba7ed29bf00b99e9": {
          "model_module": "@jupyter-widgets/base",
          "model_name": "LayoutModel",
          "model_module_version": "1.2.0",
          "state": {
            "_model_module": "@jupyter-widgets/base",
            "_model_module_version": "1.2.0",
            "_model_name": "LayoutModel",
            "_view_count": null,
            "_view_module": "@jupyter-widgets/base",
            "_view_module_version": "1.2.0",
            "_view_name": "LayoutView",
            "align_content": null,
            "align_items": null,
            "align_self": null,
            "border": null,
            "bottom": null,
            "display": null,
            "flex": null,
            "flex_flow": null,
            "grid_area": null,
            "grid_auto_columns": null,
            "grid_auto_flow": null,
            "grid_auto_rows": null,
            "grid_column": null,
            "grid_gap": null,
            "grid_row": null,
            "grid_template_areas": null,
            "grid_template_columns": null,
            "grid_template_rows": null,
            "height": null,
            "justify_content": null,
            "justify_items": null,
            "left": null,
            "margin": null,
            "max_height": null,
            "max_width": null,
            "min_height": null,
            "min_width": null,
            "object_fit": null,
            "object_position": null,
            "order": null,
            "overflow": null,
            "overflow_x": null,
            "overflow_y": null,
            "padding": null,
            "right": null,
            "top": null,
            "visibility": null,
            "width": null
          }
        },
        "ebbd1d645ac14c88a6acd23ce675f4b0": {
          "model_module": "@jupyter-widgets/controls",
          "model_name": "DescriptionStyleModel",
          "model_module_version": "1.5.0",
          "state": {
            "_model_module": "@jupyter-widgets/controls",
            "_model_module_version": "1.5.0",
            "_model_name": "DescriptionStyleModel",
            "_view_count": null,
            "_view_module": "@jupyter-widgets/base",
            "_view_module_version": "1.2.0",
            "_view_name": "StyleView",
            "description_width": ""
          }
        },
        "84019eeb79bc42dd9269fb336a56274b": {
          "model_module": "@jupyter-widgets/controls",
          "model_name": "HBoxModel",
          "model_module_version": "1.5.0",
          "state": {
            "_dom_classes": [],
            "_model_module": "@jupyter-widgets/controls",
            "_model_module_version": "1.5.0",
            "_model_name": "HBoxModel",
            "_view_count": null,
            "_view_module": "@jupyter-widgets/controls",
            "_view_module_version": "1.5.0",
            "_view_name": "HBoxView",
            "box_style": "",
            "children": [
              "IPY_MODEL_9cfd1818e8b2478fbbb36943278a6ce4",
              "IPY_MODEL_d72452e0fd0c425797ea6c43ae5dbb94",
              "IPY_MODEL_141591753bf846b7884a103c590db5a8"
            ],
            "layout": "IPY_MODEL_db0109d97c974aeca19c12e4c038ee54"
          }
        },
        "9cfd1818e8b2478fbbb36943278a6ce4": {
          "model_module": "@jupyter-widgets/controls",
          "model_name": "HTMLModel",
          "model_module_version": "1.5.0",
          "state": {
            "_dom_classes": [],
            "_model_module": "@jupyter-widgets/controls",
            "_model_module_version": "1.5.0",
            "_model_name": "HTMLModel",
            "_view_count": null,
            "_view_module": "@jupyter-widgets/controls",
            "_view_module_version": "1.5.0",
            "_view_name": "HTMLView",
            "description": "",
            "description_tooltip": null,
            "layout": "IPY_MODEL_55b0447082e04fb7bdf224501a7e00fa",
            "placeholder": "​",
            "style": "IPY_MODEL_75651d27d62341478c2074957979bebb",
            "value": "(…)-00000-of-00001-c1a351cf2dd00067.parquet: 100%"
          }
        },
        "d72452e0fd0c425797ea6c43ae5dbb94": {
          "model_module": "@jupyter-widgets/controls",
          "model_name": "FloatProgressModel",
          "model_module_version": "1.5.0",
          "state": {
            "_dom_classes": [],
            "_model_module": "@jupyter-widgets/controls",
            "_model_module_version": "1.5.0",
            "_model_name": "FloatProgressModel",
            "_view_count": null,
            "_view_module": "@jupyter-widgets/controls",
            "_view_module_version": "1.5.0",
            "_view_name": "ProgressView",
            "bar_style": "success",
            "description": "",
            "description_tooltip": null,
            "layout": "IPY_MODEL_d76922ae74c04dd08718f3b128464185",
            "max": 298161,
            "min": 0,
            "orientation": "horizontal",
            "style": "IPY_MODEL_c55773a9eb8741afa1c950475a62d2db",
            "value": 298161
          }
        },
        "141591753bf846b7884a103c590db5a8": {
          "model_module": "@jupyter-widgets/controls",
          "model_name": "HTMLModel",
          "model_module_version": "1.5.0",
          "state": {
            "_dom_classes": [],
            "_model_module": "@jupyter-widgets/controls",
            "_model_module_version": "1.5.0",
            "_model_name": "HTMLModel",
            "_view_count": null,
            "_view_module": "@jupyter-widgets/controls",
            "_view_module_version": "1.5.0",
            "_view_name": "HTMLView",
            "description": "",
            "description_tooltip": null,
            "layout": "IPY_MODEL_32f7e2a3c9444e1a871bfcbc5170f627",
            "placeholder": "​",
            "style": "IPY_MODEL_64bdb32318504ea09af7ff12d32aa2a1",
            "value": " 298k/298k [00:00&lt;00:00, 16.9MB/s]"
          }
        },
        "db0109d97c974aeca19c12e4c038ee54": {
          "model_module": "@jupyter-widgets/base",
          "model_name": "LayoutModel",
          "model_module_version": "1.2.0",
          "state": {
            "_model_module": "@jupyter-widgets/base",
            "_model_module_version": "1.2.0",
            "_model_name": "LayoutModel",
            "_view_count": null,
            "_view_module": "@jupyter-widgets/base",
            "_view_module_version": "1.2.0",
            "_view_name": "LayoutView",
            "align_content": null,
            "align_items": null,
            "align_self": null,
            "border": null,
            "bottom": null,
            "display": null,
            "flex": null,
            "flex_flow": null,
            "grid_area": null,
            "grid_auto_columns": null,
            "grid_auto_flow": null,
            "grid_auto_rows": null,
            "grid_column": null,
            "grid_gap": null,
            "grid_row": null,
            "grid_template_areas": null,
            "grid_template_columns": null,
            "grid_template_rows": null,
            "height": null,
            "justify_content": null,
            "justify_items": null,
            "left": null,
            "margin": null,
            "max_height": null,
            "max_width": null,
            "min_height": null,
            "min_width": null,
            "object_fit": null,
            "object_position": null,
            "order": null,
            "overflow": null,
            "overflow_x": null,
            "overflow_y": null,
            "padding": null,
            "right": null,
            "top": null,
            "visibility": null,
            "width": null
          }
        },
        "55b0447082e04fb7bdf224501a7e00fa": {
          "model_module": "@jupyter-widgets/base",
          "model_name": "LayoutModel",
          "model_module_version": "1.2.0",
          "state": {
            "_model_module": "@jupyter-widgets/base",
            "_model_module_version": "1.2.0",
            "_model_name": "LayoutModel",
            "_view_count": null,
            "_view_module": "@jupyter-widgets/base",
            "_view_module_version": "1.2.0",
            "_view_name": "LayoutView",
            "align_content": null,
            "align_items": null,
            "align_self": null,
            "border": null,
            "bottom": null,
            "display": null,
            "flex": null,
            "flex_flow": null,
            "grid_area": null,
            "grid_auto_columns": null,
            "grid_auto_flow": null,
            "grid_auto_rows": null,
            "grid_column": null,
            "grid_gap": null,
            "grid_row": null,
            "grid_template_areas": null,
            "grid_template_columns": null,
            "grid_template_rows": null,
            "height": null,
            "justify_content": null,
            "justify_items": null,
            "left": null,
            "margin": null,
            "max_height": null,
            "max_width": null,
            "min_height": null,
            "min_width": null,
            "object_fit": null,
            "object_position": null,
            "order": null,
            "overflow": null,
            "overflow_x": null,
            "overflow_y": null,
            "padding": null,
            "right": null,
            "top": null,
            "visibility": null,
            "width": null
          }
        },
        "75651d27d62341478c2074957979bebb": {
          "model_module": "@jupyter-widgets/controls",
          "model_name": "DescriptionStyleModel",
          "model_module_version": "1.5.0",
          "state": {
            "_model_module": "@jupyter-widgets/controls",
            "_model_module_version": "1.5.0",
            "_model_name": "DescriptionStyleModel",
            "_view_count": null,
            "_view_module": "@jupyter-widgets/base",
            "_view_module_version": "1.2.0",
            "_view_name": "StyleView",
            "description_width": ""
          }
        },
        "d76922ae74c04dd08718f3b128464185": {
          "model_module": "@jupyter-widgets/base",
          "model_name": "LayoutModel",
          "model_module_version": "1.2.0",
          "state": {
            "_model_module": "@jupyter-widgets/base",
            "_model_module_version": "1.2.0",
            "_model_name": "LayoutModel",
            "_view_count": null,
            "_view_module": "@jupyter-widgets/base",
            "_view_module_version": "1.2.0",
            "_view_name": "LayoutView",
            "align_content": null,
            "align_items": null,
            "align_self": null,
            "border": null,
            "bottom": null,
            "display": null,
            "flex": null,
            "flex_flow": null,
            "grid_area": null,
            "grid_auto_columns": null,
            "grid_auto_flow": null,
            "grid_auto_rows": null,
            "grid_column": null,
            "grid_gap": null,
            "grid_row": null,
            "grid_template_areas": null,
            "grid_template_columns": null,
            "grid_template_rows": null,
            "height": null,
            "justify_content": null,
            "justify_items": null,
            "left": null,
            "margin": null,
            "max_height": null,
            "max_width": null,
            "min_height": null,
            "min_width": null,
            "object_fit": null,
            "object_position": null,
            "order": null,
            "overflow": null,
            "overflow_x": null,
            "overflow_y": null,
            "padding": null,
            "right": null,
            "top": null,
            "visibility": null,
            "width": null
          }
        },
        "c55773a9eb8741afa1c950475a62d2db": {
          "model_module": "@jupyter-widgets/controls",
          "model_name": "ProgressStyleModel",
          "model_module_version": "1.5.0",
          "state": {
            "_model_module": "@jupyter-widgets/controls",
            "_model_module_version": "1.5.0",
            "_model_name": "ProgressStyleModel",
            "_view_count": null,
            "_view_module": "@jupyter-widgets/base",
            "_view_module_version": "1.2.0",
            "_view_name": "StyleView",
            "bar_color": null,
            "description_width": ""
          }
        },
        "32f7e2a3c9444e1a871bfcbc5170f627": {
          "model_module": "@jupyter-widgets/base",
          "model_name": "LayoutModel",
          "model_module_version": "1.2.0",
          "state": {
            "_model_module": "@jupyter-widgets/base",
            "_model_module_version": "1.2.0",
            "_model_name": "LayoutModel",
            "_view_count": null,
            "_view_module": "@jupyter-widgets/base",
            "_view_module_version": "1.2.0",
            "_view_name": "LayoutView",
            "align_content": null,
            "align_items": null,
            "align_self": null,
            "border": null,
            "bottom": null,
            "display": null,
            "flex": null,
            "flex_flow": null,
            "grid_area": null,
            "grid_auto_columns": null,
            "grid_auto_flow": null,
            "grid_auto_rows": null,
            "grid_column": null,
            "grid_gap": null,
            "grid_row": null,
            "grid_template_areas": null,
            "grid_template_columns": null,
            "grid_template_rows": null,
            "height": null,
            "justify_content": null,
            "justify_items": null,
            "left": null,
            "margin": null,
            "max_height": null,
            "max_width": null,
            "min_height": null,
            "min_width": null,
            "object_fit": null,
            "object_position": null,
            "order": null,
            "overflow": null,
            "overflow_x": null,
            "overflow_y": null,
            "padding": null,
            "right": null,
            "top": null,
            "visibility": null,
            "width": null
          }
        },
        "64bdb32318504ea09af7ff12d32aa2a1": {
          "model_module": "@jupyter-widgets/controls",
          "model_name": "DescriptionStyleModel",
          "model_module_version": "1.5.0",
          "state": {
            "_model_module": "@jupyter-widgets/controls",
            "_model_module_version": "1.5.0",
            "_model_name": "DescriptionStyleModel",
            "_view_count": null,
            "_view_module": "@jupyter-widgets/base",
            "_view_module_version": "1.2.0",
            "_view_name": "StyleView",
            "description_width": ""
          }
        },
        "cd44e5c8b52043a08ad5362f3efb6e95": {
          "model_module": "@jupyter-widgets/controls",
          "model_name": "HBoxModel",
          "model_module_version": "1.5.0",
          "state": {
            "_dom_classes": [],
            "_model_module": "@jupyter-widgets/controls",
            "_model_module_version": "1.5.0",
            "_model_name": "HBoxModel",
            "_view_count": null,
            "_view_module": "@jupyter-widgets/controls",
            "_view_module_version": "1.5.0",
            "_view_name": "HBoxView",
            "box_style": "",
            "children": [
              "IPY_MODEL_0117d34ea7834936b992d713d54b1a8c",
              "IPY_MODEL_8fe760bd067140e89479417e75c8daa2",
              "IPY_MODEL_3e8c8fa0e5164837856b50d74f02f33d"
            ],
            "layout": "IPY_MODEL_24195d0da8ab4354a18deccda463b9ae"
          }
        },
        "0117d34ea7834936b992d713d54b1a8c": {
          "model_module": "@jupyter-widgets/controls",
          "model_name": "HTMLModel",
          "model_module_version": "1.5.0",
          "state": {
            "_dom_classes": [],
            "_model_module": "@jupyter-widgets/controls",
            "_model_module_version": "1.5.0",
            "_model_name": "HTMLModel",
            "_view_count": null,
            "_view_module": "@jupyter-widgets/controls",
            "_view_module_version": "1.5.0",
            "_view_name": "HTMLView",
            "description": "",
            "description_tooltip": null,
            "layout": "IPY_MODEL_5255f1988b4c435e8e74f37fae5342e7",
            "placeholder": "​",
            "style": "IPY_MODEL_6ed12cd0cfab453f94b374336050a2af",
            "value": "(…)-00000-of-00001-5c8bfd2338c7ceac.parquet: 100%"
          }
        },
        "8fe760bd067140e89479417e75c8daa2": {
          "model_module": "@jupyter-widgets/controls",
          "model_name": "FloatProgressModel",
          "model_module_version": "1.5.0",
          "state": {
            "_dom_classes": [],
            "_model_module": "@jupyter-widgets/controls",
            "_model_module_version": "1.5.0",
            "_model_name": "FloatProgressModel",
            "_view_count": null,
            "_view_module": "@jupyter-widgets/controls",
            "_view_module_version": "1.5.0",
            "_view_name": "ProgressView",
            "bar_style": "success",
            "description": "",
            "description_tooltip": null,
            "layout": "IPY_MODEL_fc6f1c407638483997bebe0469dcdd22",
            "max": 240786,
            "min": 0,
            "orientation": "horizontal",
            "style": "IPY_MODEL_4e196f8b386c47dd907d63486e8b99bd",
            "value": 240786
          }
        },
        "3e8c8fa0e5164837856b50d74f02f33d": {
          "model_module": "@jupyter-widgets/controls",
          "model_name": "HTMLModel",
          "model_module_version": "1.5.0",
          "state": {
            "_dom_classes": [],
            "_model_module": "@jupyter-widgets/controls",
            "_model_module_version": "1.5.0",
            "_model_name": "HTMLModel",
            "_view_count": null,
            "_view_module": "@jupyter-widgets/controls",
            "_view_module_version": "1.5.0",
            "_view_name": "HTMLView",
            "description": "",
            "description_tooltip": null,
            "layout": "IPY_MODEL_2c04e5cc739243a690b27df2880fffc1",
            "placeholder": "​",
            "style": "IPY_MODEL_6787b429dfd24982ac8ebf4afc010535",
            "value": " 241k/241k [00:00&lt;00:00, 26.2MB/s]"
          }
        },
        "24195d0da8ab4354a18deccda463b9ae": {
          "model_module": "@jupyter-widgets/base",
          "model_name": "LayoutModel",
          "model_module_version": "1.2.0",
          "state": {
            "_model_module": "@jupyter-widgets/base",
            "_model_module_version": "1.2.0",
            "_model_name": "LayoutModel",
            "_view_count": null,
            "_view_module": "@jupyter-widgets/base",
            "_view_module_version": "1.2.0",
            "_view_name": "LayoutView",
            "align_content": null,
            "align_items": null,
            "align_self": null,
            "border": null,
            "bottom": null,
            "display": null,
            "flex": null,
            "flex_flow": null,
            "grid_area": null,
            "grid_auto_columns": null,
            "grid_auto_flow": null,
            "grid_auto_rows": null,
            "grid_column": null,
            "grid_gap": null,
            "grid_row": null,
            "grid_template_areas": null,
            "grid_template_columns": null,
            "grid_template_rows": null,
            "height": null,
            "justify_content": null,
            "justify_items": null,
            "left": null,
            "margin": null,
            "max_height": null,
            "max_width": null,
            "min_height": null,
            "min_width": null,
            "object_fit": null,
            "object_position": null,
            "order": null,
            "overflow": null,
            "overflow_x": null,
            "overflow_y": null,
            "padding": null,
            "right": null,
            "top": null,
            "visibility": null,
            "width": null
          }
        },
        "5255f1988b4c435e8e74f37fae5342e7": {
          "model_module": "@jupyter-widgets/base",
          "model_name": "LayoutModel",
          "model_module_version": "1.2.0",
          "state": {
            "_model_module": "@jupyter-widgets/base",
            "_model_module_version": "1.2.0",
            "_model_name": "LayoutModel",
            "_view_count": null,
            "_view_module": "@jupyter-widgets/base",
            "_view_module_version": "1.2.0",
            "_view_name": "LayoutView",
            "align_content": null,
            "align_items": null,
            "align_self": null,
            "border": null,
            "bottom": null,
            "display": null,
            "flex": null,
            "flex_flow": null,
            "grid_area": null,
            "grid_auto_columns": null,
            "grid_auto_flow": null,
            "grid_auto_rows": null,
            "grid_column": null,
            "grid_gap": null,
            "grid_row": null,
            "grid_template_areas": null,
            "grid_template_columns": null,
            "grid_template_rows": null,
            "height": null,
            "justify_content": null,
            "justify_items": null,
            "left": null,
            "margin": null,
            "max_height": null,
            "max_width": null,
            "min_height": null,
            "min_width": null,
            "object_fit": null,
            "object_position": null,
            "order": null,
            "overflow": null,
            "overflow_x": null,
            "overflow_y": null,
            "padding": null,
            "right": null,
            "top": null,
            "visibility": null,
            "width": null
          }
        },
        "6ed12cd0cfab453f94b374336050a2af": {
          "model_module": "@jupyter-widgets/controls",
          "model_name": "DescriptionStyleModel",
          "model_module_version": "1.5.0",
          "state": {
            "_model_module": "@jupyter-widgets/controls",
            "_model_module_version": "1.5.0",
            "_model_name": "DescriptionStyleModel",
            "_view_count": null,
            "_view_module": "@jupyter-widgets/base",
            "_view_module_version": "1.2.0",
            "_view_name": "StyleView",
            "description_width": ""
          }
        },
        "fc6f1c407638483997bebe0469dcdd22": {
          "model_module": "@jupyter-widgets/base",
          "model_name": "LayoutModel",
          "model_module_version": "1.2.0",
          "state": {
            "_model_module": "@jupyter-widgets/base",
            "_model_module_version": "1.2.0",
            "_model_name": "LayoutModel",
            "_view_count": null,
            "_view_module": "@jupyter-widgets/base",
            "_view_module_version": "1.2.0",
            "_view_name": "LayoutView",
            "align_content": null,
            "align_items": null,
            "align_self": null,
            "border": null,
            "bottom": null,
            "display": null,
            "flex": null,
            "flex_flow": null,
            "grid_area": null,
            "grid_auto_columns": null,
            "grid_auto_flow": null,
            "grid_auto_rows": null,
            "grid_column": null,
            "grid_gap": null,
            "grid_row": null,
            "grid_template_areas": null,
            "grid_template_columns": null,
            "grid_template_rows": null,
            "height": null,
            "justify_content": null,
            "justify_items": null,
            "left": null,
            "margin": null,
            "max_height": null,
            "max_width": null,
            "min_height": null,
            "min_width": null,
            "object_fit": null,
            "object_position": null,
            "order": null,
            "overflow": null,
            "overflow_x": null,
            "overflow_y": null,
            "padding": null,
            "right": null,
            "top": null,
            "visibility": null,
            "width": null
          }
        },
        "4e196f8b386c47dd907d63486e8b99bd": {
          "model_module": "@jupyter-widgets/controls",
          "model_name": "ProgressStyleModel",
          "model_module_version": "1.5.0",
          "state": {
            "_model_module": "@jupyter-widgets/controls",
            "_model_module_version": "1.5.0",
            "_model_name": "ProgressStyleModel",
            "_view_count": null,
            "_view_module": "@jupyter-widgets/base",
            "_view_module_version": "1.2.0",
            "_view_name": "StyleView",
            "bar_color": null,
            "description_width": ""
          }
        },
        "2c04e5cc739243a690b27df2880fffc1": {
          "model_module": "@jupyter-widgets/base",
          "model_name": "LayoutModel",
          "model_module_version": "1.2.0",
          "state": {
            "_model_module": "@jupyter-widgets/base",
            "_model_module_version": "1.2.0",
            "_model_name": "LayoutModel",
            "_view_count": null,
            "_view_module": "@jupyter-widgets/base",
            "_view_module_version": "1.2.0",
            "_view_name": "LayoutView",
            "align_content": null,
            "align_items": null,
            "align_self": null,
            "border": null,
            "bottom": null,
            "display": null,
            "flex": null,
            "flex_flow": null,
            "grid_area": null,
            "grid_auto_columns": null,
            "grid_auto_flow": null,
            "grid_auto_rows": null,
            "grid_column": null,
            "grid_gap": null,
            "grid_row": null,
            "grid_template_areas": null,
            "grid_template_columns": null,
            "grid_template_rows": null,
            "height": null,
            "justify_content": null,
            "justify_items": null,
            "left": null,
            "margin": null,
            "max_height": null,
            "max_width": null,
            "min_height": null,
            "min_width": null,
            "object_fit": null,
            "object_position": null,
            "order": null,
            "overflow": null,
            "overflow_x": null,
            "overflow_y": null,
            "padding": null,
            "right": null,
            "top": null,
            "visibility": null,
            "width": null
          }
        },
        "6787b429dfd24982ac8ebf4afc010535": {
          "model_module": "@jupyter-widgets/controls",
          "model_name": "DescriptionStyleModel",
          "model_module_version": "1.5.0",
          "state": {
            "_model_module": "@jupyter-widgets/controls",
            "_model_module_version": "1.5.0",
            "_model_name": "DescriptionStyleModel",
            "_view_count": null,
            "_view_module": "@jupyter-widgets/base",
            "_view_module_version": "1.2.0",
            "_view_name": "StyleView",
            "description_width": ""
          }
        },
        "acda1c1869ff4ed298efdd04357bcd33": {
          "model_module": "@jupyter-widgets/controls",
          "model_name": "HBoxModel",
          "model_module_version": "1.5.0",
          "state": {
            "_dom_classes": [],
            "_model_module": "@jupyter-widgets/controls",
            "_model_module_version": "1.5.0",
            "_model_name": "HBoxModel",
            "_view_count": null,
            "_view_module": "@jupyter-widgets/controls",
            "_view_module_version": "1.5.0",
            "_view_name": "HBoxView",
            "box_style": "",
            "children": [
              "IPY_MODEL_b0dc92cffa2b4c178a3045a997894192",
              "IPY_MODEL_517172e3fcdc4986954937ebcfda0c93",
              "IPY_MODEL_a32778946d024f6c9797939c428b8558"
            ],
            "layout": "IPY_MODEL_6cf582e4854c492c971430039efb9ffe"
          }
        },
        "b0dc92cffa2b4c178a3045a997894192": {
          "model_module": "@jupyter-widgets/controls",
          "model_name": "HTMLModel",
          "model_module_version": "1.5.0",
          "state": {
            "_dom_classes": [],
            "_model_module": "@jupyter-widgets/controls",
            "_model_module_version": "1.5.0",
            "_model_name": "HTMLModel",
            "_view_count": null,
            "_view_module": "@jupyter-widgets/controls",
            "_view_module_version": "1.5.0",
            "_view_name": "HTMLView",
            "description": "",
            "description_tooltip": null,
            "layout": "IPY_MODEL_3e404f14729f4e7c8f5ae1fa2766d53d",
            "placeholder": "​",
            "style": "IPY_MODEL_96625bb4519e407581be897c8a0286b0",
            "value": "(…)-00000-of-00001-3528649663c073f0.parquet: 100%"
          }
        },
        "517172e3fcdc4986954937ebcfda0c93": {
          "model_module": "@jupyter-widgets/controls",
          "model_name": "FloatProgressModel",
          "model_module_version": "1.5.0",
          "state": {
            "_dom_classes": [],
            "_model_module": "@jupyter-widgets/controls",
            "_model_module_version": "1.5.0",
            "_model_name": "FloatProgressModel",
            "_view_count": null,
            "_view_module": "@jupyter-widgets/controls",
            "_view_module_version": "1.5.0",
            "_view_name": "ProgressView",
            "bar_style": "success",
            "description": "",
            "description_tooltip": null,
            "layout": "IPY_MODEL_655dd3fa34db46ed90c542a1cb43cc79",
            "max": 157700,
            "min": 0,
            "orientation": "horizontal",
            "style": "IPY_MODEL_8fb41abc449f45baae518380cfdca6aa",
            "value": 157700
          }
        },
        "a32778946d024f6c9797939c428b8558": {
          "model_module": "@jupyter-widgets/controls",
          "model_name": "HTMLModel",
          "model_module_version": "1.5.0",
          "state": {
            "_dom_classes": [],
            "_model_module": "@jupyter-widgets/controls",
            "_model_module_version": "1.5.0",
            "_model_name": "HTMLModel",
            "_view_count": null,
            "_view_module": "@jupyter-widgets/controls",
            "_view_module_version": "1.5.0",
            "_view_name": "HTMLView",
            "description": "",
            "description_tooltip": null,
            "layout": "IPY_MODEL_437348c5df6e4539b88ff43c9f20c717",
            "placeholder": "​",
            "style": "IPY_MODEL_79b402c7725647b48ad7accd1063b5f0",
            "value": " 158k/158k [00:00&lt;00:00, 15.5MB/s]"
          }
        },
        "6cf582e4854c492c971430039efb9ffe": {
          "model_module": "@jupyter-widgets/base",
          "model_name": "LayoutModel",
          "model_module_version": "1.2.0",
          "state": {
            "_model_module": "@jupyter-widgets/base",
            "_model_module_version": "1.2.0",
            "_model_name": "LayoutModel",
            "_view_count": null,
            "_view_module": "@jupyter-widgets/base",
            "_view_module_version": "1.2.0",
            "_view_name": "LayoutView",
            "align_content": null,
            "align_items": null,
            "align_self": null,
            "border": null,
            "bottom": null,
            "display": null,
            "flex": null,
            "flex_flow": null,
            "grid_area": null,
            "grid_auto_columns": null,
            "grid_auto_flow": null,
            "grid_auto_rows": null,
            "grid_column": null,
            "grid_gap": null,
            "grid_row": null,
            "grid_template_areas": null,
            "grid_template_columns": null,
            "grid_template_rows": null,
            "height": null,
            "justify_content": null,
            "justify_items": null,
            "left": null,
            "margin": null,
            "max_height": null,
            "max_width": null,
            "min_height": null,
            "min_width": null,
            "object_fit": null,
            "object_position": null,
            "order": null,
            "overflow": null,
            "overflow_x": null,
            "overflow_y": null,
            "padding": null,
            "right": null,
            "top": null,
            "visibility": null,
            "width": null
          }
        },
        "3e404f14729f4e7c8f5ae1fa2766d53d": {
          "model_module": "@jupyter-widgets/base",
          "model_name": "LayoutModel",
          "model_module_version": "1.2.0",
          "state": {
            "_model_module": "@jupyter-widgets/base",
            "_model_module_version": "1.2.0",
            "_model_name": "LayoutModel",
            "_view_count": null,
            "_view_module": "@jupyter-widgets/base",
            "_view_module_version": "1.2.0",
            "_view_name": "LayoutView",
            "align_content": null,
            "align_items": null,
            "align_self": null,
            "border": null,
            "bottom": null,
            "display": null,
            "flex": null,
            "flex_flow": null,
            "grid_area": null,
            "grid_auto_columns": null,
            "grid_auto_flow": null,
            "grid_auto_rows": null,
            "grid_column": null,
            "grid_gap": null,
            "grid_row": null,
            "grid_template_areas": null,
            "grid_template_columns": null,
            "grid_template_rows": null,
            "height": null,
            "justify_content": null,
            "justify_items": null,
            "left": null,
            "margin": null,
            "max_height": null,
            "max_width": null,
            "min_height": null,
            "min_width": null,
            "object_fit": null,
            "object_position": null,
            "order": null,
            "overflow": null,
            "overflow_x": null,
            "overflow_y": null,
            "padding": null,
            "right": null,
            "top": null,
            "visibility": null,
            "width": null
          }
        },
        "96625bb4519e407581be897c8a0286b0": {
          "model_module": "@jupyter-widgets/controls",
          "model_name": "DescriptionStyleModel",
          "model_module_version": "1.5.0",
          "state": {
            "_model_module": "@jupyter-widgets/controls",
            "_model_module_version": "1.5.0",
            "_model_name": "DescriptionStyleModel",
            "_view_count": null,
            "_view_module": "@jupyter-widgets/base",
            "_view_module_version": "1.2.0",
            "_view_name": "StyleView",
            "description_width": ""
          }
        },
        "655dd3fa34db46ed90c542a1cb43cc79": {
          "model_module": "@jupyter-widgets/base",
          "model_name": "LayoutModel",
          "model_module_version": "1.2.0",
          "state": {
            "_model_module": "@jupyter-widgets/base",
            "_model_module_version": "1.2.0",
            "_model_name": "LayoutModel",
            "_view_count": null,
            "_view_module": "@jupyter-widgets/base",
            "_view_module_version": "1.2.0",
            "_view_name": "LayoutView",
            "align_content": null,
            "align_items": null,
            "align_self": null,
            "border": null,
            "bottom": null,
            "display": null,
            "flex": null,
            "flex_flow": null,
            "grid_area": null,
            "grid_auto_columns": null,
            "grid_auto_flow": null,
            "grid_auto_rows": null,
            "grid_column": null,
            "grid_gap": null,
            "grid_row": null,
            "grid_template_areas": null,
            "grid_template_columns": null,
            "grid_template_rows": null,
            "height": null,
            "justify_content": null,
            "justify_items": null,
            "left": null,
            "margin": null,
            "max_height": null,
            "max_width": null,
            "min_height": null,
            "min_width": null,
            "object_fit": null,
            "object_position": null,
            "order": null,
            "overflow": null,
            "overflow_x": null,
            "overflow_y": null,
            "padding": null,
            "right": null,
            "top": null,
            "visibility": null,
            "width": null
          }
        },
        "8fb41abc449f45baae518380cfdca6aa": {
          "model_module": "@jupyter-widgets/controls",
          "model_name": "ProgressStyleModel",
          "model_module_version": "1.5.0",
          "state": {
            "_model_module": "@jupyter-widgets/controls",
            "_model_module_version": "1.5.0",
            "_model_name": "ProgressStyleModel",
            "_view_count": null,
            "_view_module": "@jupyter-widgets/base",
            "_view_module_version": "1.2.0",
            "_view_name": "StyleView",
            "bar_color": null,
            "description_width": ""
          }
        },
        "437348c5df6e4539b88ff43c9f20c717": {
          "model_module": "@jupyter-widgets/base",
          "model_name": "LayoutModel",
          "model_module_version": "1.2.0",
          "state": {
            "_model_module": "@jupyter-widgets/base",
            "_model_module_version": "1.2.0",
            "_model_name": "LayoutModel",
            "_view_count": null,
            "_view_module": "@jupyter-widgets/base",
            "_view_module_version": "1.2.0",
            "_view_name": "LayoutView",
            "align_content": null,
            "align_items": null,
            "align_self": null,
            "border": null,
            "bottom": null,
            "display": null,
            "flex": null,
            "flex_flow": null,
            "grid_area": null,
            "grid_auto_columns": null,
            "grid_auto_flow": null,
            "grid_auto_rows": null,
            "grid_column": null,
            "grid_gap": null,
            "grid_row": null,
            "grid_template_areas": null,
            "grid_template_columns": null,
            "grid_template_rows": null,
            "height": null,
            "justify_content": null,
            "justify_items": null,
            "left": null,
            "margin": null,
            "max_height": null,
            "max_width": null,
            "min_height": null,
            "min_width": null,
            "object_fit": null,
            "object_position": null,
            "order": null,
            "overflow": null,
            "overflow_x": null,
            "overflow_y": null,
            "padding": null,
            "right": null,
            "top": null,
            "visibility": null,
            "width": null
          }
        },
        "79b402c7725647b48ad7accd1063b5f0": {
          "model_module": "@jupyter-widgets/controls",
          "model_name": "DescriptionStyleModel",
          "model_module_version": "1.5.0",
          "state": {
            "_model_module": "@jupyter-widgets/controls",
            "_model_module_version": "1.5.0",
            "_model_name": "DescriptionStyleModel",
            "_view_count": null,
            "_view_module": "@jupyter-widgets/base",
            "_view_module_version": "1.2.0",
            "_view_name": "StyleView",
            "description_width": ""
          }
        },
        "62f6bb6fd4c549399771c95d7ed1d7c0": {
          "model_module": "@jupyter-widgets/controls",
          "model_name": "HBoxModel",
          "model_module_version": "1.5.0",
          "state": {
            "_dom_classes": [],
            "_model_module": "@jupyter-widgets/controls",
            "_model_module_version": "1.5.0",
            "_model_name": "HBoxModel",
            "_view_count": null,
            "_view_module": "@jupyter-widgets/controls",
            "_view_module_version": "1.5.0",
            "_view_name": "HBoxView",
            "box_style": "",
            "children": [
              "IPY_MODEL_e4fac33d7bcf4aa49fd0e6f0daac01e6",
              "IPY_MODEL_a091f55f74ba446c8a58e322e89fe26a",
              "IPY_MODEL_8bb3dccf445744f49f141f7a8db22ba7"
            ],
            "layout": "IPY_MODEL_3f7e3d7b01794f5fa489246de705b4f5"
          }
        },
        "e4fac33d7bcf4aa49fd0e6f0daac01e6": {
          "model_module": "@jupyter-widgets/controls",
          "model_name": "HTMLModel",
          "model_module_version": "1.5.0",
          "state": {
            "_dom_classes": [],
            "_model_module": "@jupyter-widgets/controls",
            "_model_module_version": "1.5.0",
            "_model_name": "HTMLModel",
            "_view_count": null,
            "_view_module": "@jupyter-widgets/controls",
            "_view_module_version": "1.5.0",
            "_view_name": "HTMLView",
            "description": "",
            "description_tooltip": null,
            "layout": "IPY_MODEL_ff3f29917a91448e93b4dae35c3770a4",
            "placeholder": "​",
            "style": "IPY_MODEL_5b5ef1c32bc340da866722cd00d47418",
            "value": "Generating WikiMIA_length32 split: 100%"
          }
        },
        "a091f55f74ba446c8a58e322e89fe26a": {
          "model_module": "@jupyter-widgets/controls",
          "model_name": "FloatProgressModel",
          "model_module_version": "1.5.0",
          "state": {
            "_dom_classes": [],
            "_model_module": "@jupyter-widgets/controls",
            "_model_module_version": "1.5.0",
            "_model_name": "FloatProgressModel",
            "_view_count": null,
            "_view_module": "@jupyter-widgets/controls",
            "_view_module_version": "1.5.0",
            "_view_name": "ProgressView",
            "bar_style": "success",
            "description": "",
            "description_tooltip": null,
            "layout": "IPY_MODEL_5f101c4fb2a04ccdb820ac184ac3542a",
            "max": 1558,
            "min": 0,
            "orientation": "horizontal",
            "style": "IPY_MODEL_fb1fc0fd32da43d39f5475199c558a66",
            "value": 1558
          }
        },
        "8bb3dccf445744f49f141f7a8db22ba7": {
          "model_module": "@jupyter-widgets/controls",
          "model_name": "HTMLModel",
          "model_module_version": "1.5.0",
          "state": {
            "_dom_classes": [],
            "_model_module": "@jupyter-widgets/controls",
            "_model_module_version": "1.5.0",
            "_model_name": "HTMLModel",
            "_view_count": null,
            "_view_module": "@jupyter-widgets/controls",
            "_view_module_version": "1.5.0",
            "_view_name": "HTMLView",
            "description": "",
            "description_tooltip": null,
            "layout": "IPY_MODEL_00eae2029c5b44059bf34c89f0559abe",
            "placeholder": "​",
            "style": "IPY_MODEL_ed60ee3706ee43bcb3f578310e6852a3",
            "value": " 1558/1558 [00:00&lt;00:00, 28618.53 examples/s]"
          }
        },
        "3f7e3d7b01794f5fa489246de705b4f5": {
          "model_module": "@jupyter-widgets/base",
          "model_name": "LayoutModel",
          "model_module_version": "1.2.0",
          "state": {
            "_model_module": "@jupyter-widgets/base",
            "_model_module_version": "1.2.0",
            "_model_name": "LayoutModel",
            "_view_count": null,
            "_view_module": "@jupyter-widgets/base",
            "_view_module_version": "1.2.0",
            "_view_name": "LayoutView",
            "align_content": null,
            "align_items": null,
            "align_self": null,
            "border": null,
            "bottom": null,
            "display": null,
            "flex": null,
            "flex_flow": null,
            "grid_area": null,
            "grid_auto_columns": null,
            "grid_auto_flow": null,
            "grid_auto_rows": null,
            "grid_column": null,
            "grid_gap": null,
            "grid_row": null,
            "grid_template_areas": null,
            "grid_template_columns": null,
            "grid_template_rows": null,
            "height": null,
            "justify_content": null,
            "justify_items": null,
            "left": null,
            "margin": null,
            "max_height": null,
            "max_width": null,
            "min_height": null,
            "min_width": null,
            "object_fit": null,
            "object_position": null,
            "order": null,
            "overflow": null,
            "overflow_x": null,
            "overflow_y": null,
            "padding": null,
            "right": null,
            "top": null,
            "visibility": null,
            "width": null
          }
        },
        "ff3f29917a91448e93b4dae35c3770a4": {
          "model_module": "@jupyter-widgets/base",
          "model_name": "LayoutModel",
          "model_module_version": "1.2.0",
          "state": {
            "_model_module": "@jupyter-widgets/base",
            "_model_module_version": "1.2.0",
            "_model_name": "LayoutModel",
            "_view_count": null,
            "_view_module": "@jupyter-widgets/base",
            "_view_module_version": "1.2.0",
            "_view_name": "LayoutView",
            "align_content": null,
            "align_items": null,
            "align_self": null,
            "border": null,
            "bottom": null,
            "display": null,
            "flex": null,
            "flex_flow": null,
            "grid_area": null,
            "grid_auto_columns": null,
            "grid_auto_flow": null,
            "grid_auto_rows": null,
            "grid_column": null,
            "grid_gap": null,
            "grid_row": null,
            "grid_template_areas": null,
            "grid_template_columns": null,
            "grid_template_rows": null,
            "height": null,
            "justify_content": null,
            "justify_items": null,
            "left": null,
            "margin": null,
            "max_height": null,
            "max_width": null,
            "min_height": null,
            "min_width": null,
            "object_fit": null,
            "object_position": null,
            "order": null,
            "overflow": null,
            "overflow_x": null,
            "overflow_y": null,
            "padding": null,
            "right": null,
            "top": null,
            "visibility": null,
            "width": null
          }
        },
        "5b5ef1c32bc340da866722cd00d47418": {
          "model_module": "@jupyter-widgets/controls",
          "model_name": "DescriptionStyleModel",
          "model_module_version": "1.5.0",
          "state": {
            "_model_module": "@jupyter-widgets/controls",
            "_model_module_version": "1.5.0",
            "_model_name": "DescriptionStyleModel",
            "_view_count": null,
            "_view_module": "@jupyter-widgets/base",
            "_view_module_version": "1.2.0",
            "_view_name": "StyleView",
            "description_width": ""
          }
        },
        "5f101c4fb2a04ccdb820ac184ac3542a": {
          "model_module": "@jupyter-widgets/base",
          "model_name": "LayoutModel",
          "model_module_version": "1.2.0",
          "state": {
            "_model_module": "@jupyter-widgets/base",
            "_model_module_version": "1.2.0",
            "_model_name": "LayoutModel",
            "_view_count": null,
            "_view_module": "@jupyter-widgets/base",
            "_view_module_version": "1.2.0",
            "_view_name": "LayoutView",
            "align_content": null,
            "align_items": null,
            "align_self": null,
            "border": null,
            "bottom": null,
            "display": null,
            "flex": null,
            "flex_flow": null,
            "grid_area": null,
            "grid_auto_columns": null,
            "grid_auto_flow": null,
            "grid_auto_rows": null,
            "grid_column": null,
            "grid_gap": null,
            "grid_row": null,
            "grid_template_areas": null,
            "grid_template_columns": null,
            "grid_template_rows": null,
            "height": null,
            "justify_content": null,
            "justify_items": null,
            "left": null,
            "margin": null,
            "max_height": null,
            "max_width": null,
            "min_height": null,
            "min_width": null,
            "object_fit": null,
            "object_position": null,
            "order": null,
            "overflow": null,
            "overflow_x": null,
            "overflow_y": null,
            "padding": null,
            "right": null,
            "top": null,
            "visibility": null,
            "width": null
          }
        },
        "fb1fc0fd32da43d39f5475199c558a66": {
          "model_module": "@jupyter-widgets/controls",
          "model_name": "ProgressStyleModel",
          "model_module_version": "1.5.0",
          "state": {
            "_model_module": "@jupyter-widgets/controls",
            "_model_module_version": "1.5.0",
            "_model_name": "ProgressStyleModel",
            "_view_count": null,
            "_view_module": "@jupyter-widgets/base",
            "_view_module_version": "1.2.0",
            "_view_name": "StyleView",
            "bar_color": null,
            "description_width": ""
          }
        },
        "00eae2029c5b44059bf34c89f0559abe": {
          "model_module": "@jupyter-widgets/base",
          "model_name": "LayoutModel",
          "model_module_version": "1.2.0",
          "state": {
            "_model_module": "@jupyter-widgets/base",
            "_model_module_version": "1.2.0",
            "_model_name": "LayoutModel",
            "_view_count": null,
            "_view_module": "@jupyter-widgets/base",
            "_view_module_version": "1.2.0",
            "_view_name": "LayoutView",
            "align_content": null,
            "align_items": null,
            "align_self": null,
            "border": null,
            "bottom": null,
            "display": null,
            "flex": null,
            "flex_flow": null,
            "grid_area": null,
            "grid_auto_columns": null,
            "grid_auto_flow": null,
            "grid_auto_rows": null,
            "grid_column": null,
            "grid_gap": null,
            "grid_row": null,
            "grid_template_areas": null,
            "grid_template_columns": null,
            "grid_template_rows": null,
            "height": null,
            "justify_content": null,
            "justify_items": null,
            "left": null,
            "margin": null,
            "max_height": null,
            "max_width": null,
            "min_height": null,
            "min_width": null,
            "object_fit": null,
            "object_position": null,
            "order": null,
            "overflow": null,
            "overflow_x": null,
            "overflow_y": null,
            "padding": null,
            "right": null,
            "top": null,
            "visibility": null,
            "width": null
          }
        },
        "ed60ee3706ee43bcb3f578310e6852a3": {
          "model_module": "@jupyter-widgets/controls",
          "model_name": "DescriptionStyleModel",
          "model_module_version": "1.5.0",
          "state": {
            "_model_module": "@jupyter-widgets/controls",
            "_model_module_version": "1.5.0",
            "_model_name": "DescriptionStyleModel",
            "_view_count": null,
            "_view_module": "@jupyter-widgets/base",
            "_view_module_version": "1.2.0",
            "_view_name": "StyleView",
            "description_width": ""
          }
        },
        "30ee1d17a70d452d8ec43ccd636f7d2b": {
          "model_module": "@jupyter-widgets/controls",
          "model_name": "HBoxModel",
          "model_module_version": "1.5.0",
          "state": {
            "_dom_classes": [],
            "_model_module": "@jupyter-widgets/controls",
            "_model_module_version": "1.5.0",
            "_model_name": "HBoxModel",
            "_view_count": null,
            "_view_module": "@jupyter-widgets/controls",
            "_view_module_version": "1.5.0",
            "_view_name": "HBoxView",
            "box_style": "",
            "children": [
              "IPY_MODEL_28564742f8d246b9b2b5586f1fa26524",
              "IPY_MODEL_0345513a61d045f29924d419f7407745",
              "IPY_MODEL_22edc39f6c4546f3ba95fd70b96c54bc"
            ],
            "layout": "IPY_MODEL_d0bb6f3b8c434b0aa6e2da8c05e7308b"
          }
        },
        "28564742f8d246b9b2b5586f1fa26524": {
          "model_module": "@jupyter-widgets/controls",
          "model_name": "HTMLModel",
          "model_module_version": "1.5.0",
          "state": {
            "_dom_classes": [],
            "_model_module": "@jupyter-widgets/controls",
            "_model_module_version": "1.5.0",
            "_model_name": "HTMLModel",
            "_view_count": null,
            "_view_module": "@jupyter-widgets/controls",
            "_view_module_version": "1.5.0",
            "_view_name": "HTMLView",
            "description": "",
            "description_tooltip": null,
            "layout": "IPY_MODEL_c087651b88ef4478ba72e5b8530747c1",
            "placeholder": "​",
            "style": "IPY_MODEL_ddebae54eb93456eb93e88b8d5113d43",
            "value": "Generating WikiMIA_length64 split: 100%"
          }
        },
        "0345513a61d045f29924d419f7407745": {
          "model_module": "@jupyter-widgets/controls",
          "model_name": "FloatProgressModel",
          "model_module_version": "1.5.0",
          "state": {
            "_dom_classes": [],
            "_model_module": "@jupyter-widgets/controls",
            "_model_module_version": "1.5.0",
            "_model_name": "FloatProgressModel",
            "_view_count": null,
            "_view_module": "@jupyter-widgets/controls",
            "_view_module_version": "1.5.0",
            "_view_name": "ProgressView",
            "bar_style": "success",
            "description": "",
            "description_tooltip": null,
            "layout": "IPY_MODEL_ee22cfe0882142239904217049ccc9b7",
            "max": 1396,
            "min": 0,
            "orientation": "horizontal",
            "style": "IPY_MODEL_7f7ca5e4a1334b7b9cf665fdd44714f1",
            "value": 1396
          }
        },
        "22edc39f6c4546f3ba95fd70b96c54bc": {
          "model_module": "@jupyter-widgets/controls",
          "model_name": "HTMLModel",
          "model_module_version": "1.5.0",
          "state": {
            "_dom_classes": [],
            "_model_module": "@jupyter-widgets/controls",
            "_model_module_version": "1.5.0",
            "_model_name": "HTMLModel",
            "_view_count": null,
            "_view_module": "@jupyter-widgets/controls",
            "_view_module_version": "1.5.0",
            "_view_name": "HTMLView",
            "description": "",
            "description_tooltip": null,
            "layout": "IPY_MODEL_3bddf7959b444484aeb633833673c271",
            "placeholder": "​",
            "style": "IPY_MODEL_748083f881dd4e428f43255f7c69c78f",
            "value": " 1396/1396 [00:00&lt;00:00, 83272.87 examples/s]"
          }
        },
        "d0bb6f3b8c434b0aa6e2da8c05e7308b": {
          "model_module": "@jupyter-widgets/base",
          "model_name": "LayoutModel",
          "model_module_version": "1.2.0",
          "state": {
            "_model_module": "@jupyter-widgets/base",
            "_model_module_version": "1.2.0",
            "_model_name": "LayoutModel",
            "_view_count": null,
            "_view_module": "@jupyter-widgets/base",
            "_view_module_version": "1.2.0",
            "_view_name": "LayoutView",
            "align_content": null,
            "align_items": null,
            "align_self": null,
            "border": null,
            "bottom": null,
            "display": null,
            "flex": null,
            "flex_flow": null,
            "grid_area": null,
            "grid_auto_columns": null,
            "grid_auto_flow": null,
            "grid_auto_rows": null,
            "grid_column": null,
            "grid_gap": null,
            "grid_row": null,
            "grid_template_areas": null,
            "grid_template_columns": null,
            "grid_template_rows": null,
            "height": null,
            "justify_content": null,
            "justify_items": null,
            "left": null,
            "margin": null,
            "max_height": null,
            "max_width": null,
            "min_height": null,
            "min_width": null,
            "object_fit": null,
            "object_position": null,
            "order": null,
            "overflow": null,
            "overflow_x": null,
            "overflow_y": null,
            "padding": null,
            "right": null,
            "top": null,
            "visibility": null,
            "width": null
          }
        },
        "c087651b88ef4478ba72e5b8530747c1": {
          "model_module": "@jupyter-widgets/base",
          "model_name": "LayoutModel",
          "model_module_version": "1.2.0",
          "state": {
            "_model_module": "@jupyter-widgets/base",
            "_model_module_version": "1.2.0",
            "_model_name": "LayoutModel",
            "_view_count": null,
            "_view_module": "@jupyter-widgets/base",
            "_view_module_version": "1.2.0",
            "_view_name": "LayoutView",
            "align_content": null,
            "align_items": null,
            "align_self": null,
            "border": null,
            "bottom": null,
            "display": null,
            "flex": null,
            "flex_flow": null,
            "grid_area": null,
            "grid_auto_columns": null,
            "grid_auto_flow": null,
            "grid_auto_rows": null,
            "grid_column": null,
            "grid_gap": null,
            "grid_row": null,
            "grid_template_areas": null,
            "grid_template_columns": null,
            "grid_template_rows": null,
            "height": null,
            "justify_content": null,
            "justify_items": null,
            "left": null,
            "margin": null,
            "max_height": null,
            "max_width": null,
            "min_height": null,
            "min_width": null,
            "object_fit": null,
            "object_position": null,
            "order": null,
            "overflow": null,
            "overflow_x": null,
            "overflow_y": null,
            "padding": null,
            "right": null,
            "top": null,
            "visibility": null,
            "width": null
          }
        },
        "ddebae54eb93456eb93e88b8d5113d43": {
          "model_module": "@jupyter-widgets/controls",
          "model_name": "DescriptionStyleModel",
          "model_module_version": "1.5.0",
          "state": {
            "_model_module": "@jupyter-widgets/controls",
            "_model_module_version": "1.5.0",
            "_model_name": "DescriptionStyleModel",
            "_view_count": null,
            "_view_module": "@jupyter-widgets/base",
            "_view_module_version": "1.2.0",
            "_view_name": "StyleView",
            "description_width": ""
          }
        },
        "ee22cfe0882142239904217049ccc9b7": {
          "model_module": "@jupyter-widgets/base",
          "model_name": "LayoutModel",
          "model_module_version": "1.2.0",
          "state": {
            "_model_module": "@jupyter-widgets/base",
            "_model_module_version": "1.2.0",
            "_model_name": "LayoutModel",
            "_view_count": null,
            "_view_module": "@jupyter-widgets/base",
            "_view_module_version": "1.2.0",
            "_view_name": "LayoutView",
            "align_content": null,
            "align_items": null,
            "align_self": null,
            "border": null,
            "bottom": null,
            "display": null,
            "flex": null,
            "flex_flow": null,
            "grid_area": null,
            "grid_auto_columns": null,
            "grid_auto_flow": null,
            "grid_auto_rows": null,
            "grid_column": null,
            "grid_gap": null,
            "grid_row": null,
            "grid_template_areas": null,
            "grid_template_columns": null,
            "grid_template_rows": null,
            "height": null,
            "justify_content": null,
            "justify_items": null,
            "left": null,
            "margin": null,
            "max_height": null,
            "max_width": null,
            "min_height": null,
            "min_width": null,
            "object_fit": null,
            "object_position": null,
            "order": null,
            "overflow": null,
            "overflow_x": null,
            "overflow_y": null,
            "padding": null,
            "right": null,
            "top": null,
            "visibility": null,
            "width": null
          }
        },
        "7f7ca5e4a1334b7b9cf665fdd44714f1": {
          "model_module": "@jupyter-widgets/controls",
          "model_name": "ProgressStyleModel",
          "model_module_version": "1.5.0",
          "state": {
            "_model_module": "@jupyter-widgets/controls",
            "_model_module_version": "1.5.0",
            "_model_name": "ProgressStyleModel",
            "_view_count": null,
            "_view_module": "@jupyter-widgets/base",
            "_view_module_version": "1.2.0",
            "_view_name": "StyleView",
            "bar_color": null,
            "description_width": ""
          }
        },
        "3bddf7959b444484aeb633833673c271": {
          "model_module": "@jupyter-widgets/base",
          "model_name": "LayoutModel",
          "model_module_version": "1.2.0",
          "state": {
            "_model_module": "@jupyter-widgets/base",
            "_model_module_version": "1.2.0",
            "_model_name": "LayoutModel",
            "_view_count": null,
            "_view_module": "@jupyter-widgets/base",
            "_view_module_version": "1.2.0",
            "_view_name": "LayoutView",
            "align_content": null,
            "align_items": null,
            "align_self": null,
            "border": null,
            "bottom": null,
            "display": null,
            "flex": null,
            "flex_flow": null,
            "grid_area": null,
            "grid_auto_columns": null,
            "grid_auto_flow": null,
            "grid_auto_rows": null,
            "grid_column": null,
            "grid_gap": null,
            "grid_row": null,
            "grid_template_areas": null,
            "grid_template_columns": null,
            "grid_template_rows": null,
            "height": null,
            "justify_content": null,
            "justify_items": null,
            "left": null,
            "margin": null,
            "max_height": null,
            "max_width": null,
            "min_height": null,
            "min_width": null,
            "object_fit": null,
            "object_position": null,
            "order": null,
            "overflow": null,
            "overflow_x": null,
            "overflow_y": null,
            "padding": null,
            "right": null,
            "top": null,
            "visibility": null,
            "width": null
          }
        },
        "748083f881dd4e428f43255f7c69c78f": {
          "model_module": "@jupyter-widgets/controls",
          "model_name": "DescriptionStyleModel",
          "model_module_version": "1.5.0",
          "state": {
            "_model_module": "@jupyter-widgets/controls",
            "_model_module_version": "1.5.0",
            "_model_name": "DescriptionStyleModel",
            "_view_count": null,
            "_view_module": "@jupyter-widgets/base",
            "_view_module_version": "1.2.0",
            "_view_name": "StyleView",
            "description_width": ""
          }
        },
        "cd0664f454c1496f9b51f54da8727898": {
          "model_module": "@jupyter-widgets/controls",
          "model_name": "HBoxModel",
          "model_module_version": "1.5.0",
          "state": {
            "_dom_classes": [],
            "_model_module": "@jupyter-widgets/controls",
            "_model_module_version": "1.5.0",
            "_model_name": "HBoxModel",
            "_view_count": null,
            "_view_module": "@jupyter-widgets/controls",
            "_view_module_version": "1.5.0",
            "_view_name": "HBoxView",
            "box_style": "",
            "children": [
              "IPY_MODEL_bc40c5300862422d85d7dd193e96dbc8",
              "IPY_MODEL_7441d860e6094fe297973d371b996f91",
              "IPY_MODEL_cb3a8d09524f41578e611202add8e033"
            ],
            "layout": "IPY_MODEL_0244dae831374f79990c59db5ae93bd1"
          }
        },
        "bc40c5300862422d85d7dd193e96dbc8": {
          "model_module": "@jupyter-widgets/controls",
          "model_name": "HTMLModel",
          "model_module_version": "1.5.0",
          "state": {
            "_dom_classes": [],
            "_model_module": "@jupyter-widgets/controls",
            "_model_module_version": "1.5.0",
            "_model_name": "HTMLModel",
            "_view_count": null,
            "_view_module": "@jupyter-widgets/controls",
            "_view_module_version": "1.5.0",
            "_view_name": "HTMLView",
            "description": "",
            "description_tooltip": null,
            "layout": "IPY_MODEL_f1f890e7276a40a188428ecf84259276",
            "placeholder": "​",
            "style": "IPY_MODEL_963c7981bc524715b37fba8abfb20a64",
            "value": "Generating WikiMIA_length128 split: 100%"
          }
        },
        "7441d860e6094fe297973d371b996f91": {
          "model_module": "@jupyter-widgets/controls",
          "model_name": "FloatProgressModel",
          "model_module_version": "1.5.0",
          "state": {
            "_dom_classes": [],
            "_model_module": "@jupyter-widgets/controls",
            "_model_module_version": "1.5.0",
            "_model_name": "FloatProgressModel",
            "_view_count": null,
            "_view_module": "@jupyter-widgets/controls",
            "_view_module_version": "1.5.0",
            "_view_name": "ProgressView",
            "bar_style": "success",
            "description": "",
            "description_tooltip": null,
            "layout": "IPY_MODEL_13f5836e09034335bc301bcb2bf2411e",
            "max": 572,
            "min": 0,
            "orientation": "horizontal",
            "style": "IPY_MODEL_f70a9c63e4a2450c9179c90fdce55d08",
            "value": 572
          }
        },
        "cb3a8d09524f41578e611202add8e033": {
          "model_module": "@jupyter-widgets/controls",
          "model_name": "HTMLModel",
          "model_module_version": "1.5.0",
          "state": {
            "_dom_classes": [],
            "_model_module": "@jupyter-widgets/controls",
            "_model_module_version": "1.5.0",
            "_model_name": "HTMLModel",
            "_view_count": null,
            "_view_module": "@jupyter-widgets/controls",
            "_view_module_version": "1.5.0",
            "_view_name": "HTMLView",
            "description": "",
            "description_tooltip": null,
            "layout": "IPY_MODEL_9ba5ad66010e4e54a73d851ab332bacd",
            "placeholder": "​",
            "style": "IPY_MODEL_e850c76483bc46c59ef96ff70ef524d3",
            "value": " 572/572 [00:00&lt;00:00, 33408.65 examples/s]"
          }
        },
        "0244dae831374f79990c59db5ae93bd1": {
          "model_module": "@jupyter-widgets/base",
          "model_name": "LayoutModel",
          "model_module_version": "1.2.0",
          "state": {
            "_model_module": "@jupyter-widgets/base",
            "_model_module_version": "1.2.0",
            "_model_name": "LayoutModel",
            "_view_count": null,
            "_view_module": "@jupyter-widgets/base",
            "_view_module_version": "1.2.0",
            "_view_name": "LayoutView",
            "align_content": null,
            "align_items": null,
            "align_self": null,
            "border": null,
            "bottom": null,
            "display": null,
            "flex": null,
            "flex_flow": null,
            "grid_area": null,
            "grid_auto_columns": null,
            "grid_auto_flow": null,
            "grid_auto_rows": null,
            "grid_column": null,
            "grid_gap": null,
            "grid_row": null,
            "grid_template_areas": null,
            "grid_template_columns": null,
            "grid_template_rows": null,
            "height": null,
            "justify_content": null,
            "justify_items": null,
            "left": null,
            "margin": null,
            "max_height": null,
            "max_width": null,
            "min_height": null,
            "min_width": null,
            "object_fit": null,
            "object_position": null,
            "order": null,
            "overflow": null,
            "overflow_x": null,
            "overflow_y": null,
            "padding": null,
            "right": null,
            "top": null,
            "visibility": null,
            "width": null
          }
        },
        "f1f890e7276a40a188428ecf84259276": {
          "model_module": "@jupyter-widgets/base",
          "model_name": "LayoutModel",
          "model_module_version": "1.2.0",
          "state": {
            "_model_module": "@jupyter-widgets/base",
            "_model_module_version": "1.2.0",
            "_model_name": "LayoutModel",
            "_view_count": null,
            "_view_module": "@jupyter-widgets/base",
            "_view_module_version": "1.2.0",
            "_view_name": "LayoutView",
            "align_content": null,
            "align_items": null,
            "align_self": null,
            "border": null,
            "bottom": null,
            "display": null,
            "flex": null,
            "flex_flow": null,
            "grid_area": null,
            "grid_auto_columns": null,
            "grid_auto_flow": null,
            "grid_auto_rows": null,
            "grid_column": null,
            "grid_gap": null,
            "grid_row": null,
            "grid_template_areas": null,
            "grid_template_columns": null,
            "grid_template_rows": null,
            "height": null,
            "justify_content": null,
            "justify_items": null,
            "left": null,
            "margin": null,
            "max_height": null,
            "max_width": null,
            "min_height": null,
            "min_width": null,
            "object_fit": null,
            "object_position": null,
            "order": null,
            "overflow": null,
            "overflow_x": null,
            "overflow_y": null,
            "padding": null,
            "right": null,
            "top": null,
            "visibility": null,
            "width": null
          }
        },
        "963c7981bc524715b37fba8abfb20a64": {
          "model_module": "@jupyter-widgets/controls",
          "model_name": "DescriptionStyleModel",
          "model_module_version": "1.5.0",
          "state": {
            "_model_module": "@jupyter-widgets/controls",
            "_model_module_version": "1.5.0",
            "_model_name": "DescriptionStyleModel",
            "_view_count": null,
            "_view_module": "@jupyter-widgets/base",
            "_view_module_version": "1.2.0",
            "_view_name": "StyleView",
            "description_width": ""
          }
        },
        "13f5836e09034335bc301bcb2bf2411e": {
          "model_module": "@jupyter-widgets/base",
          "model_name": "LayoutModel",
          "model_module_version": "1.2.0",
          "state": {
            "_model_module": "@jupyter-widgets/base",
            "_model_module_version": "1.2.0",
            "_model_name": "LayoutModel",
            "_view_count": null,
            "_view_module": "@jupyter-widgets/base",
            "_view_module_version": "1.2.0",
            "_view_name": "LayoutView",
            "align_content": null,
            "align_items": null,
            "align_self": null,
            "border": null,
            "bottom": null,
            "display": null,
            "flex": null,
            "flex_flow": null,
            "grid_area": null,
            "grid_auto_columns": null,
            "grid_auto_flow": null,
            "grid_auto_rows": null,
            "grid_column": null,
            "grid_gap": null,
            "grid_row": null,
            "grid_template_areas": null,
            "grid_template_columns": null,
            "grid_template_rows": null,
            "height": null,
            "justify_content": null,
            "justify_items": null,
            "left": null,
            "margin": null,
            "max_height": null,
            "max_width": null,
            "min_height": null,
            "min_width": null,
            "object_fit": null,
            "object_position": null,
            "order": null,
            "overflow": null,
            "overflow_x": null,
            "overflow_y": null,
            "padding": null,
            "right": null,
            "top": null,
            "visibility": null,
            "width": null
          }
        },
        "f70a9c63e4a2450c9179c90fdce55d08": {
          "model_module": "@jupyter-widgets/controls",
          "model_name": "ProgressStyleModel",
          "model_module_version": "1.5.0",
          "state": {
            "_model_module": "@jupyter-widgets/controls",
            "_model_module_version": "1.5.0",
            "_model_name": "ProgressStyleModel",
            "_view_count": null,
            "_view_module": "@jupyter-widgets/base",
            "_view_module_version": "1.2.0",
            "_view_name": "StyleView",
            "bar_color": null,
            "description_width": ""
          }
        },
        "9ba5ad66010e4e54a73d851ab332bacd": {
          "model_module": "@jupyter-widgets/base",
          "model_name": "LayoutModel",
          "model_module_version": "1.2.0",
          "state": {
            "_model_module": "@jupyter-widgets/base",
            "_model_module_version": "1.2.0",
            "_model_name": "LayoutModel",
            "_view_count": null,
            "_view_module": "@jupyter-widgets/base",
            "_view_module_version": "1.2.0",
            "_view_name": "LayoutView",
            "align_content": null,
            "align_items": null,
            "align_self": null,
            "border": null,
            "bottom": null,
            "display": null,
            "flex": null,
            "flex_flow": null,
            "grid_area": null,
            "grid_auto_columns": null,
            "grid_auto_flow": null,
            "grid_auto_rows": null,
            "grid_column": null,
            "grid_gap": null,
            "grid_row": null,
            "grid_template_areas": null,
            "grid_template_columns": null,
            "grid_template_rows": null,
            "height": null,
            "justify_content": null,
            "justify_items": null,
            "left": null,
            "margin": null,
            "max_height": null,
            "max_width": null,
            "min_height": null,
            "min_width": null,
            "object_fit": null,
            "object_position": null,
            "order": null,
            "overflow": null,
            "overflow_x": null,
            "overflow_y": null,
            "padding": null,
            "right": null,
            "top": null,
            "visibility": null,
            "width": null
          }
        },
        "e850c76483bc46c59ef96ff70ef524d3": {
          "model_module": "@jupyter-widgets/controls",
          "model_name": "DescriptionStyleModel",
          "model_module_version": "1.5.0",
          "state": {
            "_model_module": "@jupyter-widgets/controls",
            "_model_module_version": "1.5.0",
            "_model_name": "DescriptionStyleModel",
            "_view_count": null,
            "_view_module": "@jupyter-widgets/base",
            "_view_module_version": "1.2.0",
            "_view_name": "StyleView",
            "description_width": ""
          }
        },
        "c9ec0089052d4bb1a7550b292cf7482f": {
          "model_module": "@jupyter-widgets/controls",
          "model_name": "HBoxModel",
          "model_module_version": "1.5.0",
          "state": {
            "_dom_classes": [],
            "_model_module": "@jupyter-widgets/controls",
            "_model_module_version": "1.5.0",
            "_model_name": "HBoxModel",
            "_view_count": null,
            "_view_module": "@jupyter-widgets/controls",
            "_view_module_version": "1.5.0",
            "_view_name": "HBoxView",
            "box_style": "",
            "children": [
              "IPY_MODEL_f7dc5cc1615443f2ac570e33568e141e",
              "IPY_MODEL_87a7617bbf504690b198ceaf0ed0984b",
              "IPY_MODEL_85cdf584477f40518a3fad0aabd12592"
            ],
            "layout": "IPY_MODEL_4df8060b3b674632befd9d71b850727f"
          }
        },
        "f7dc5cc1615443f2ac570e33568e141e": {
          "model_module": "@jupyter-widgets/controls",
          "model_name": "HTMLModel",
          "model_module_version": "1.5.0",
          "state": {
            "_dom_classes": [],
            "_model_module": "@jupyter-widgets/controls",
            "_model_module_version": "1.5.0",
            "_model_name": "HTMLModel",
            "_view_count": null,
            "_view_module": "@jupyter-widgets/controls",
            "_view_module_version": "1.5.0",
            "_view_name": "HTMLView",
            "description": "",
            "description_tooltip": null,
            "layout": "IPY_MODEL_fc76a65385be4909bd6fadb5af48a427",
            "placeholder": "​",
            "style": "IPY_MODEL_bdbc34556bd24b68b90306e53d630da0",
            "value": "Generating WikiMIA_length256 split: 100%"
          }
        },
        "87a7617bbf504690b198ceaf0ed0984b": {
          "model_module": "@jupyter-widgets/controls",
          "model_name": "FloatProgressModel",
          "model_module_version": "1.5.0",
          "state": {
            "_dom_classes": [],
            "_model_module": "@jupyter-widgets/controls",
            "_model_module_version": "1.5.0",
            "_model_name": "FloatProgressModel",
            "_view_count": null,
            "_view_module": "@jupyter-widgets/controls",
            "_view_module_version": "1.5.0",
            "_view_name": "ProgressView",
            "bar_style": "success",
            "description": "",
            "description_tooltip": null,
            "layout": "IPY_MODEL_34e53ed82b124206b9a3370596f5ca97",
            "max": 186,
            "min": 0,
            "orientation": "horizontal",
            "style": "IPY_MODEL_c0d87b59a84c4e58a086cb0f7ff7ddb5",
            "value": 186
          }
        },
        "85cdf584477f40518a3fad0aabd12592": {
          "model_module": "@jupyter-widgets/controls",
          "model_name": "HTMLModel",
          "model_module_version": "1.5.0",
          "state": {
            "_dom_classes": [],
            "_model_module": "@jupyter-widgets/controls",
            "_model_module_version": "1.5.0",
            "_model_name": "HTMLModel",
            "_view_count": null,
            "_view_module": "@jupyter-widgets/controls",
            "_view_module_version": "1.5.0",
            "_view_name": "HTMLView",
            "description": "",
            "description_tooltip": null,
            "layout": "IPY_MODEL_6299eca5a42347a39ac2cf9894b48d31",
            "placeholder": "​",
            "style": "IPY_MODEL_927d4ad58d6547d68bec6eba375e4c60",
            "value": " 186/186 [00:00&lt;00:00, 11000.91 examples/s]"
          }
        },
        "4df8060b3b674632befd9d71b850727f": {
          "model_module": "@jupyter-widgets/base",
          "model_name": "LayoutModel",
          "model_module_version": "1.2.0",
          "state": {
            "_model_module": "@jupyter-widgets/base",
            "_model_module_version": "1.2.0",
            "_model_name": "LayoutModel",
            "_view_count": null,
            "_view_module": "@jupyter-widgets/base",
            "_view_module_version": "1.2.0",
            "_view_name": "LayoutView",
            "align_content": null,
            "align_items": null,
            "align_self": null,
            "border": null,
            "bottom": null,
            "display": null,
            "flex": null,
            "flex_flow": null,
            "grid_area": null,
            "grid_auto_columns": null,
            "grid_auto_flow": null,
            "grid_auto_rows": null,
            "grid_column": null,
            "grid_gap": null,
            "grid_row": null,
            "grid_template_areas": null,
            "grid_template_columns": null,
            "grid_template_rows": null,
            "height": null,
            "justify_content": null,
            "justify_items": null,
            "left": null,
            "margin": null,
            "max_height": null,
            "max_width": null,
            "min_height": null,
            "min_width": null,
            "object_fit": null,
            "object_position": null,
            "order": null,
            "overflow": null,
            "overflow_x": null,
            "overflow_y": null,
            "padding": null,
            "right": null,
            "top": null,
            "visibility": null,
            "width": null
          }
        },
        "fc76a65385be4909bd6fadb5af48a427": {
          "model_module": "@jupyter-widgets/base",
          "model_name": "LayoutModel",
          "model_module_version": "1.2.0",
          "state": {
            "_model_module": "@jupyter-widgets/base",
            "_model_module_version": "1.2.0",
            "_model_name": "LayoutModel",
            "_view_count": null,
            "_view_module": "@jupyter-widgets/base",
            "_view_module_version": "1.2.0",
            "_view_name": "LayoutView",
            "align_content": null,
            "align_items": null,
            "align_self": null,
            "border": null,
            "bottom": null,
            "display": null,
            "flex": null,
            "flex_flow": null,
            "grid_area": null,
            "grid_auto_columns": null,
            "grid_auto_flow": null,
            "grid_auto_rows": null,
            "grid_column": null,
            "grid_gap": null,
            "grid_row": null,
            "grid_template_areas": null,
            "grid_template_columns": null,
            "grid_template_rows": null,
            "height": null,
            "justify_content": null,
            "justify_items": null,
            "left": null,
            "margin": null,
            "max_height": null,
            "max_width": null,
            "min_height": null,
            "min_width": null,
            "object_fit": null,
            "object_position": null,
            "order": null,
            "overflow": null,
            "overflow_x": null,
            "overflow_y": null,
            "padding": null,
            "right": null,
            "top": null,
            "visibility": null,
            "width": null
          }
        },
        "bdbc34556bd24b68b90306e53d630da0": {
          "model_module": "@jupyter-widgets/controls",
          "model_name": "DescriptionStyleModel",
          "model_module_version": "1.5.0",
          "state": {
            "_model_module": "@jupyter-widgets/controls",
            "_model_module_version": "1.5.0",
            "_model_name": "DescriptionStyleModel",
            "_view_count": null,
            "_view_module": "@jupyter-widgets/base",
            "_view_module_version": "1.2.0",
            "_view_name": "StyleView",
            "description_width": ""
          }
        },
        "34e53ed82b124206b9a3370596f5ca97": {
          "model_module": "@jupyter-widgets/base",
          "model_name": "LayoutModel",
          "model_module_version": "1.2.0",
          "state": {
            "_model_module": "@jupyter-widgets/base",
            "_model_module_version": "1.2.0",
            "_model_name": "LayoutModel",
            "_view_count": null,
            "_view_module": "@jupyter-widgets/base",
            "_view_module_version": "1.2.0",
            "_view_name": "LayoutView",
            "align_content": null,
            "align_items": null,
            "align_self": null,
            "border": null,
            "bottom": null,
            "display": null,
            "flex": null,
            "flex_flow": null,
            "grid_area": null,
            "grid_auto_columns": null,
            "grid_auto_flow": null,
            "grid_auto_rows": null,
            "grid_column": null,
            "grid_gap": null,
            "grid_row": null,
            "grid_template_areas": null,
            "grid_template_columns": null,
            "grid_template_rows": null,
            "height": null,
            "justify_content": null,
            "justify_items": null,
            "left": null,
            "margin": null,
            "max_height": null,
            "max_width": null,
            "min_height": null,
            "min_width": null,
            "object_fit": null,
            "object_position": null,
            "order": null,
            "overflow": null,
            "overflow_x": null,
            "overflow_y": null,
            "padding": null,
            "right": null,
            "top": null,
            "visibility": null,
            "width": null
          }
        },
        "c0d87b59a84c4e58a086cb0f7ff7ddb5": {
          "model_module": "@jupyter-widgets/controls",
          "model_name": "ProgressStyleModel",
          "model_module_version": "1.5.0",
          "state": {
            "_model_module": "@jupyter-widgets/controls",
            "_model_module_version": "1.5.0",
            "_model_name": "ProgressStyleModel",
            "_view_count": null,
            "_view_module": "@jupyter-widgets/base",
            "_view_module_version": "1.2.0",
            "_view_name": "StyleView",
            "bar_color": null,
            "description_width": ""
          }
        },
        "6299eca5a42347a39ac2cf9894b48d31": {
          "model_module": "@jupyter-widgets/base",
          "model_name": "LayoutModel",
          "model_module_version": "1.2.0",
          "state": {
            "_model_module": "@jupyter-widgets/base",
            "_model_module_version": "1.2.0",
            "_model_name": "LayoutModel",
            "_view_count": null,
            "_view_module": "@jupyter-widgets/base",
            "_view_module_version": "1.2.0",
            "_view_name": "LayoutView",
            "align_content": null,
            "align_items": null,
            "align_self": null,
            "border": null,
            "bottom": null,
            "display": null,
            "flex": null,
            "flex_flow": null,
            "grid_area": null,
            "grid_auto_columns": null,
            "grid_auto_flow": null,
            "grid_auto_rows": null,
            "grid_column": null,
            "grid_gap": null,
            "grid_row": null,
            "grid_template_areas": null,
            "grid_template_columns": null,
            "grid_template_rows": null,
            "height": null,
            "justify_content": null,
            "justify_items": null,
            "left": null,
            "margin": null,
            "max_height": null,
            "max_width": null,
            "min_height": null,
            "min_width": null,
            "object_fit": null,
            "object_position": null,
            "order": null,
            "overflow": null,
            "overflow_x": null,
            "overflow_y": null,
            "padding": null,
            "right": null,
            "top": null,
            "visibility": null,
            "width": null
          }
        },
        "927d4ad58d6547d68bec6eba375e4c60": {
          "model_module": "@jupyter-widgets/controls",
          "model_name": "DescriptionStyleModel",
          "model_module_version": "1.5.0",
          "state": {
            "_model_module": "@jupyter-widgets/controls",
            "_model_module_version": "1.5.0",
            "_model_name": "DescriptionStyleModel",
            "_view_count": null,
            "_view_module": "@jupyter-widgets/base",
            "_view_module_version": "1.2.0",
            "_view_name": "StyleView",
            "description_width": ""
          }
        }
      }
    }
  },
  "cells": [
    {
      "cell_type": "code",
      "execution_count": null,
      "metadata": {
        "colab": {
          "base_uri": "https://localhost:8080/"
        },
        "id": "fvzib8mBpd6V",
        "outputId": "3018968e-7f35-452d-ca0f-5cdb113229cf"
      },
      "outputs": [
        {
          "output_type": "stream",
          "name": "stdout",
          "text": [
            "Collecting datasets\n",
            "  Downloading datasets-3.4.1-py3-none-any.whl.metadata (19 kB)\n",
            "Requirement already satisfied: spacy in /usr/local/lib/python3.11/dist-packages (3.8.4)\n",
            "Requirement already satisfied: transformers in /usr/local/lib/python3.11/dist-packages (4.48.3)\n",
            "Requirement already satisfied: tqdm in /usr/local/lib/python3.11/dist-packages (4.67.1)\n",
            "Requirement already satisfied: langchain-core in /usr/local/lib/python3.11/dist-packages (0.3.45)\n",
            "Requirement already satisfied: filelock in /usr/local/lib/python3.11/dist-packages (from datasets) (3.17.0)\n",
            "Requirement already satisfied: numpy>=1.17 in /usr/local/lib/python3.11/dist-packages (from datasets) (2.0.2)\n",
            "Requirement already satisfied: pyarrow>=15.0.0 in /usr/local/lib/python3.11/dist-packages (from datasets) (18.1.0)\n",
            "Collecting dill<0.3.9,>=0.3.0 (from datasets)\n",
            "  Downloading dill-0.3.8-py3-none-any.whl.metadata (10 kB)\n",
            "Requirement already satisfied: pandas in /usr/local/lib/python3.11/dist-packages (from datasets) (2.2.2)\n",
            "Requirement already satisfied: requests>=2.32.2 in /usr/local/lib/python3.11/dist-packages (from datasets) (2.32.3)\n",
            "Collecting xxhash (from datasets)\n",
            "  Downloading xxhash-3.5.0-cp311-cp311-manylinux_2_17_x86_64.manylinux2014_x86_64.whl.metadata (12 kB)\n",
            "Collecting multiprocess<0.70.17 (from datasets)\n",
            "  Downloading multiprocess-0.70.16-py311-none-any.whl.metadata (7.2 kB)\n",
            "Requirement already satisfied: fsspec<=2024.12.0,>=2023.1.0 in /usr/local/lib/python3.11/dist-packages (from fsspec[http]<=2024.12.0,>=2023.1.0->datasets) (2024.10.0)\n",
            "Requirement already satisfied: aiohttp in /usr/local/lib/python3.11/dist-packages (from datasets) (3.11.13)\n",
            "Requirement already satisfied: huggingface-hub>=0.24.0 in /usr/local/lib/python3.11/dist-packages (from datasets) (0.28.1)\n",
            "Requirement already satisfied: packaging in /usr/local/lib/python3.11/dist-packages (from datasets) (24.2)\n",
            "Requirement already satisfied: pyyaml>=5.1 in /usr/local/lib/python3.11/dist-packages (from datasets) (6.0.2)\n",
            "Requirement already satisfied: spacy-legacy<3.1.0,>=3.0.11 in /usr/local/lib/python3.11/dist-packages (from spacy) (3.0.12)\n",
            "Requirement already satisfied: spacy-loggers<2.0.0,>=1.0.0 in /usr/local/lib/python3.11/dist-packages (from spacy) (1.0.5)\n",
            "Requirement already satisfied: murmurhash<1.1.0,>=0.28.0 in /usr/local/lib/python3.11/dist-packages (from spacy) (1.0.12)\n",
            "Requirement already satisfied: cymem<2.1.0,>=2.0.2 in /usr/local/lib/python3.11/dist-packages (from spacy) (2.0.11)\n",
            "Requirement already satisfied: preshed<3.1.0,>=3.0.2 in /usr/local/lib/python3.11/dist-packages (from spacy) (3.0.9)\n",
            "Requirement already satisfied: thinc<8.4.0,>=8.3.4 in /usr/local/lib/python3.11/dist-packages (from spacy) (8.3.4)\n",
            "Requirement already satisfied: wasabi<1.2.0,>=0.9.1 in /usr/local/lib/python3.11/dist-packages (from spacy) (1.1.3)\n",
            "Requirement already satisfied: srsly<3.0.0,>=2.4.3 in /usr/local/lib/python3.11/dist-packages (from spacy) (2.5.1)\n",
            "Requirement already satisfied: catalogue<2.1.0,>=2.0.6 in /usr/local/lib/python3.11/dist-packages (from spacy) (2.0.10)\n",
            "Requirement already satisfied: weasel<0.5.0,>=0.1.0 in /usr/local/lib/python3.11/dist-packages (from spacy) (0.4.1)\n",
            "Requirement already satisfied: typer<1.0.0,>=0.3.0 in /usr/local/lib/python3.11/dist-packages (from spacy) (0.15.2)\n",
            "Requirement already satisfied: pydantic!=1.8,!=1.8.1,<3.0.0,>=1.7.4 in /usr/local/lib/python3.11/dist-packages (from spacy) (2.10.6)\n",
            "Requirement already satisfied: jinja2 in /usr/local/lib/python3.11/dist-packages (from spacy) (3.1.6)\n",
            "Requirement already satisfied: setuptools in /usr/local/lib/python3.11/dist-packages (from spacy) (75.1.0)\n",
            "Requirement already satisfied: langcodes<4.0.0,>=3.2.0 in /usr/local/lib/python3.11/dist-packages (from spacy) (3.5.0)\n",
            "Requirement already satisfied: regex!=2019.12.17 in /usr/local/lib/python3.11/dist-packages (from transformers) (2024.11.6)\n",
            "Requirement already satisfied: tokenizers<0.22,>=0.21 in /usr/local/lib/python3.11/dist-packages (from transformers) (0.21.1)\n",
            "Requirement already satisfied: safetensors>=0.4.1 in /usr/local/lib/python3.11/dist-packages (from transformers) (0.5.3)\n",
            "Requirement already satisfied: langsmith<0.4,>=0.1.125 in /usr/local/lib/python3.11/dist-packages (from langchain-core) (0.3.13)\n",
            "Requirement already satisfied: tenacity!=8.4.0,<10.0.0,>=8.1.0 in /usr/local/lib/python3.11/dist-packages (from langchain-core) (9.0.0)\n",
            "Requirement already satisfied: jsonpatch<2.0,>=1.33 in /usr/local/lib/python3.11/dist-packages (from langchain-core) (1.33)\n",
            "Requirement already satisfied: typing-extensions>=4.7 in /usr/local/lib/python3.11/dist-packages (from langchain-core) (4.12.2)\n",
            "Requirement already satisfied: aiohappyeyeballs>=2.3.0 in /usr/local/lib/python3.11/dist-packages (from aiohttp->datasets) (2.6.1)\n",
            "Requirement already satisfied: aiosignal>=1.1.2 in /usr/local/lib/python3.11/dist-packages (from aiohttp->datasets) (1.3.2)\n",
            "Requirement already satisfied: attrs>=17.3.0 in /usr/local/lib/python3.11/dist-packages (from aiohttp->datasets) (25.3.0)\n",
            "Requirement already satisfied: frozenlist>=1.1.1 in /usr/local/lib/python3.11/dist-packages (from aiohttp->datasets) (1.5.0)\n",
            "Requirement already satisfied: multidict<7.0,>=4.5 in /usr/local/lib/python3.11/dist-packages (from aiohttp->datasets) (6.1.0)\n",
            "Requirement already satisfied: propcache>=0.2.0 in /usr/local/lib/python3.11/dist-packages (from aiohttp->datasets) (0.3.0)\n",
            "Requirement already satisfied: yarl<2.0,>=1.17.0 in /usr/local/lib/python3.11/dist-packages (from aiohttp->datasets) (1.18.3)\n",
            "Requirement already satisfied: jsonpointer>=1.9 in /usr/local/lib/python3.11/dist-packages (from jsonpatch<2.0,>=1.33->langchain-core) (3.0.0)\n",
            "Requirement already satisfied: language-data>=1.2 in /usr/local/lib/python3.11/dist-packages (from langcodes<4.0.0,>=3.2.0->spacy) (1.3.0)\n",
            "Requirement already satisfied: httpx<1,>=0.23.0 in /usr/local/lib/python3.11/dist-packages (from langsmith<0.4,>=0.1.125->langchain-core) (0.28.1)\n",
            "Requirement already satisfied: orjson<4.0.0,>=3.9.14 in /usr/local/lib/python3.11/dist-packages (from langsmith<0.4,>=0.1.125->langchain-core) (3.10.15)\n",
            "Requirement already satisfied: requests-toolbelt<2.0.0,>=1.0.0 in /usr/local/lib/python3.11/dist-packages (from langsmith<0.4,>=0.1.125->langchain-core) (1.0.0)\n",
            "Requirement already satisfied: zstandard<0.24.0,>=0.23.0 in /usr/local/lib/python3.11/dist-packages (from langsmith<0.4,>=0.1.125->langchain-core) (0.23.0)\n",
            "Requirement already satisfied: annotated-types>=0.6.0 in /usr/local/lib/python3.11/dist-packages (from pydantic!=1.8,!=1.8.1,<3.0.0,>=1.7.4->spacy) (0.7.0)\n",
            "Requirement already satisfied: pydantic-core==2.27.2 in /usr/local/lib/python3.11/dist-packages (from pydantic!=1.8,!=1.8.1,<3.0.0,>=1.7.4->spacy) (2.27.2)\n",
            "Requirement already satisfied: charset-normalizer<4,>=2 in /usr/local/lib/python3.11/dist-packages (from requests>=2.32.2->datasets) (3.4.1)\n",
            "Requirement already satisfied: idna<4,>=2.5 in /usr/local/lib/python3.11/dist-packages (from requests>=2.32.2->datasets) (3.10)\n",
            "Requirement already satisfied: urllib3<3,>=1.21.1 in /usr/local/lib/python3.11/dist-packages (from requests>=2.32.2->datasets) (2.3.0)\n",
            "Requirement already satisfied: certifi>=2017.4.17 in /usr/local/lib/python3.11/dist-packages (from requests>=2.32.2->datasets) (2025.1.31)\n",
            "Requirement already satisfied: blis<1.3.0,>=1.2.0 in /usr/local/lib/python3.11/dist-packages (from thinc<8.4.0,>=8.3.4->spacy) (1.2.0)\n",
            "Requirement already satisfied: confection<1.0.0,>=0.0.1 in /usr/local/lib/python3.11/dist-packages (from thinc<8.4.0,>=8.3.4->spacy) (0.1.5)\n",
            "Requirement already satisfied: click>=8.0.0 in /usr/local/lib/python3.11/dist-packages (from typer<1.0.0,>=0.3.0->spacy) (8.1.8)\n",
            "Requirement already satisfied: shellingham>=1.3.0 in /usr/local/lib/python3.11/dist-packages (from typer<1.0.0,>=0.3.0->spacy) (1.5.4)\n",
            "Requirement already satisfied: rich>=10.11.0 in /usr/local/lib/python3.11/dist-packages (from typer<1.0.0,>=0.3.0->spacy) (13.9.4)\n",
            "Requirement already satisfied: cloudpathlib<1.0.0,>=0.7.0 in /usr/local/lib/python3.11/dist-packages (from weasel<0.5.0,>=0.1.0->spacy) (0.21.0)\n",
            "Requirement already satisfied: smart-open<8.0.0,>=5.2.1 in /usr/local/lib/python3.11/dist-packages (from weasel<0.5.0,>=0.1.0->spacy) (7.1.0)\n",
            "Requirement already satisfied: MarkupSafe>=2.0 in /usr/local/lib/python3.11/dist-packages (from jinja2->spacy) (3.0.2)\n",
            "Requirement already satisfied: python-dateutil>=2.8.2 in /usr/local/lib/python3.11/dist-packages (from pandas->datasets) (2.8.2)\n",
            "Requirement already satisfied: pytz>=2020.1 in /usr/local/lib/python3.11/dist-packages (from pandas->datasets) (2025.1)\n",
            "Requirement already satisfied: tzdata>=2022.7 in /usr/local/lib/python3.11/dist-packages (from pandas->datasets) (2025.1)\n",
            "Requirement already satisfied: anyio in /usr/local/lib/python3.11/dist-packages (from httpx<1,>=0.23.0->langsmith<0.4,>=0.1.125->langchain-core) (3.7.1)\n",
            "Requirement already satisfied: httpcore==1.* in /usr/local/lib/python3.11/dist-packages (from httpx<1,>=0.23.0->langsmith<0.4,>=0.1.125->langchain-core) (1.0.7)\n",
            "Requirement already satisfied: h11<0.15,>=0.13 in /usr/local/lib/python3.11/dist-packages (from httpcore==1.*->httpx<1,>=0.23.0->langsmith<0.4,>=0.1.125->langchain-core) (0.14.0)\n",
            "Requirement already satisfied: marisa-trie>=1.1.0 in /usr/local/lib/python3.11/dist-packages (from language-data>=1.2->langcodes<4.0.0,>=3.2.0->spacy) (1.2.1)\n",
            "Requirement already satisfied: six>=1.5 in /usr/local/lib/python3.11/dist-packages (from python-dateutil>=2.8.2->pandas->datasets) (1.17.0)\n",
            "Requirement already satisfied: markdown-it-py>=2.2.0 in /usr/local/lib/python3.11/dist-packages (from rich>=10.11.0->typer<1.0.0,>=0.3.0->spacy) (3.0.0)\n",
            "Requirement already satisfied: pygments<3.0.0,>=2.13.0 in /usr/local/lib/python3.11/dist-packages (from rich>=10.11.0->typer<1.0.0,>=0.3.0->spacy) (2.18.0)\n",
            "Requirement already satisfied: wrapt in /usr/local/lib/python3.11/dist-packages (from smart-open<8.0.0,>=5.2.1->weasel<0.5.0,>=0.1.0->spacy) (1.17.2)\n",
            "Requirement already satisfied: mdurl~=0.1 in /usr/local/lib/python3.11/dist-packages (from markdown-it-py>=2.2.0->rich>=10.11.0->typer<1.0.0,>=0.3.0->spacy) (0.1.2)\n",
            "Requirement already satisfied: sniffio>=1.1 in /usr/local/lib/python3.11/dist-packages (from anyio->httpx<1,>=0.23.0->langsmith<0.4,>=0.1.125->langchain-core) (1.3.1)\n",
            "Downloading datasets-3.4.1-py3-none-any.whl (487 kB)\n",
            "\u001b[2K   \u001b[90m━━━━━━━━━━━━━━━━━━━━━━━━━━━━━━━━━━━━━━━━\u001b[0m \u001b[32m487.4/487.4 kB\u001b[0m \u001b[31m6.1 MB/s\u001b[0m eta \u001b[36m0:00:00\u001b[0m\n",
            "\u001b[?25hDownloading dill-0.3.8-py3-none-any.whl (116 kB)\n",
            "\u001b[2K   \u001b[90m━━━━━━━━━━━━━━━━━━━━━━━━━━━━━━━━━━━━━━━━\u001b[0m \u001b[32m116.3/116.3 kB\u001b[0m \u001b[31m5.1 MB/s\u001b[0m eta \u001b[36m0:00:00\u001b[0m\n",
            "\u001b[?25hDownloading multiprocess-0.70.16-py311-none-any.whl (143 kB)\n",
            "\u001b[2K   \u001b[90m━━━━━━━━━━━━━━━━━━━━━━━━━━━━━━━━━━━━━━━━\u001b[0m \u001b[32m143.5/143.5 kB\u001b[0m \u001b[31m8.9 MB/s\u001b[0m eta \u001b[36m0:00:00\u001b[0m\n",
            "\u001b[?25hDownloading xxhash-3.5.0-cp311-cp311-manylinux_2_17_x86_64.manylinux2014_x86_64.whl (194 kB)\n",
            "\u001b[2K   \u001b[90m━━━━━━━━━━━━━━━━━━━━━━━━━━━━━━━━━━━━━━━━\u001b[0m \u001b[32m194.8/194.8 kB\u001b[0m \u001b[31m15.3 MB/s\u001b[0m eta \u001b[36m0:00:00\u001b[0m\n",
            "\u001b[?25hInstalling collected packages: xxhash, dill, multiprocess, datasets\n",
            "Successfully installed datasets-3.4.1 dill-0.3.8 multiprocess-0.70.16 xxhash-3.5.0\n",
            "Collecting langchain-groq\n",
            "  Downloading langchain_groq-0.2.5-py3-none-any.whl.metadata (2.6 kB)\n",
            "Requirement already satisfied: langchain-core<1.0.0,>=0.3.42 in /usr/local/lib/python3.11/dist-packages (from langchain-groq) (0.3.45)\n",
            "Collecting groq<1,>=0.4.1 (from langchain-groq)\n",
            "  Downloading groq-0.20.0-py3-none-any.whl.metadata (15 kB)\n",
            "Requirement already satisfied: anyio<5,>=3.5.0 in /usr/local/lib/python3.11/dist-packages (from groq<1,>=0.4.1->langchain-groq) (3.7.1)\n",
            "Requirement already satisfied: distro<2,>=1.7.0 in /usr/local/lib/python3.11/dist-packages (from groq<1,>=0.4.1->langchain-groq) (1.9.0)\n",
            "Requirement already satisfied: httpx<1,>=0.23.0 in /usr/local/lib/python3.11/dist-packages (from groq<1,>=0.4.1->langchain-groq) (0.28.1)\n",
            "Requirement already satisfied: pydantic<3,>=1.9.0 in /usr/local/lib/python3.11/dist-packages (from groq<1,>=0.4.1->langchain-groq) (2.10.6)\n",
            "Requirement already satisfied: sniffio in /usr/local/lib/python3.11/dist-packages (from groq<1,>=0.4.1->langchain-groq) (1.3.1)\n",
            "Requirement already satisfied: typing-extensions<5,>=4.10 in /usr/local/lib/python3.11/dist-packages (from groq<1,>=0.4.1->langchain-groq) (4.12.2)\n",
            "Requirement already satisfied: langsmith<0.4,>=0.1.125 in /usr/local/lib/python3.11/dist-packages (from langchain-core<1.0.0,>=0.3.42->langchain-groq) (0.3.13)\n",
            "Requirement already satisfied: tenacity!=8.4.0,<10.0.0,>=8.1.0 in /usr/local/lib/python3.11/dist-packages (from langchain-core<1.0.0,>=0.3.42->langchain-groq) (9.0.0)\n",
            "Requirement already satisfied: jsonpatch<2.0,>=1.33 in /usr/local/lib/python3.11/dist-packages (from langchain-core<1.0.0,>=0.3.42->langchain-groq) (1.33)\n",
            "Requirement already satisfied: PyYAML>=5.3 in /usr/local/lib/python3.11/dist-packages (from langchain-core<1.0.0,>=0.3.42->langchain-groq) (6.0.2)\n",
            "Requirement already satisfied: packaging<25,>=23.2 in /usr/local/lib/python3.11/dist-packages (from langchain-core<1.0.0,>=0.3.42->langchain-groq) (24.2)\n",
            "Requirement already satisfied: idna>=2.8 in /usr/local/lib/python3.11/dist-packages (from anyio<5,>=3.5.0->groq<1,>=0.4.1->langchain-groq) (3.10)\n",
            "Requirement already satisfied: certifi in /usr/local/lib/python3.11/dist-packages (from httpx<1,>=0.23.0->groq<1,>=0.4.1->langchain-groq) (2025.1.31)\n",
            "Requirement already satisfied: httpcore==1.* in /usr/local/lib/python3.11/dist-packages (from httpx<1,>=0.23.0->groq<1,>=0.4.1->langchain-groq) (1.0.7)\n",
            "Requirement already satisfied: h11<0.15,>=0.13 in /usr/local/lib/python3.11/dist-packages (from httpcore==1.*->httpx<1,>=0.23.0->groq<1,>=0.4.1->langchain-groq) (0.14.0)\n",
            "Requirement already satisfied: jsonpointer>=1.9 in /usr/local/lib/python3.11/dist-packages (from jsonpatch<2.0,>=1.33->langchain-core<1.0.0,>=0.3.42->langchain-groq) (3.0.0)\n",
            "Requirement already satisfied: orjson<4.0.0,>=3.9.14 in /usr/local/lib/python3.11/dist-packages (from langsmith<0.4,>=0.1.125->langchain-core<1.0.0,>=0.3.42->langchain-groq) (3.10.15)\n",
            "Requirement already satisfied: requests<3,>=2 in /usr/local/lib/python3.11/dist-packages (from langsmith<0.4,>=0.1.125->langchain-core<1.0.0,>=0.3.42->langchain-groq) (2.32.3)\n",
            "Requirement already satisfied: requests-toolbelt<2.0.0,>=1.0.0 in /usr/local/lib/python3.11/dist-packages (from langsmith<0.4,>=0.1.125->langchain-core<1.0.0,>=0.3.42->langchain-groq) (1.0.0)\n",
            "Requirement already satisfied: zstandard<0.24.0,>=0.23.0 in /usr/local/lib/python3.11/dist-packages (from langsmith<0.4,>=0.1.125->langchain-core<1.0.0,>=0.3.42->langchain-groq) (0.23.0)\n",
            "Requirement already satisfied: annotated-types>=0.6.0 in /usr/local/lib/python3.11/dist-packages (from pydantic<3,>=1.9.0->groq<1,>=0.4.1->langchain-groq) (0.7.0)\n",
            "Requirement already satisfied: pydantic-core==2.27.2 in /usr/local/lib/python3.11/dist-packages (from pydantic<3,>=1.9.0->groq<1,>=0.4.1->langchain-groq) (2.27.2)\n",
            "Requirement already satisfied: charset-normalizer<4,>=2 in /usr/local/lib/python3.11/dist-packages (from requests<3,>=2->langsmith<0.4,>=0.1.125->langchain-core<1.0.0,>=0.3.42->langchain-groq) (3.4.1)\n",
            "Requirement already satisfied: urllib3<3,>=1.21.1 in /usr/local/lib/python3.11/dist-packages (from requests<3,>=2->langsmith<0.4,>=0.1.125->langchain-core<1.0.0,>=0.3.42->langchain-groq) (2.3.0)\n",
            "Downloading langchain_groq-0.2.5-py3-none-any.whl (15 kB)\n",
            "Downloading groq-0.20.0-py3-none-any.whl (124 kB)\n",
            "\u001b[2K   \u001b[90m━━━━━━━━━━━━━━━━━━━━━━━━━━━━━━━━━━━━━━━━\u001b[0m \u001b[32m124.9/124.9 kB\u001b[0m \u001b[31m6.2 MB/s\u001b[0m eta \u001b[36m0:00:00\u001b[0m\n",
            "\u001b[?25hInstalling collected packages: groq, langchain-groq\n",
            "Successfully installed groq-0.20.0 langchain-groq-0.2.5\n",
            "Collecting en-core-web-sm==3.8.0\n",
            "  Downloading https://github.com/explosion/spacy-models/releases/download/en_core_web_sm-3.8.0/en_core_web_sm-3.8.0-py3-none-any.whl (12.8 MB)\n",
            "\u001b[2K     \u001b[90m━━━━━━━━━━━━━━━━━━━━━━━━━━━━━━━━━━━━━━━━\u001b[0m \u001b[32m12.8/12.8 MB\u001b[0m \u001b[31m103.5 MB/s\u001b[0m eta \u001b[36m0:00:00\u001b[0m\n",
            "\u001b[?25h\u001b[38;5;2m✔ Download and installation successful\u001b[0m\n",
            "You can now load the package via spacy.load('en_core_web_sm')\n",
            "\u001b[38;5;3m⚠ Restart to reload dependencies\u001b[0m\n",
            "If you are in a Jupyter or Colab notebook, you may need to restart Python in\n",
            "order to load all the package's dependencies. You can do this by selecting the\n",
            "'Restart kernel' or 'Restart runtime' option.\n"
          ]
        }
      ],
      "source": [
        "!pip install datasets spacy transformers tqdm langchain-core\n",
        "!pip install langchain-groq\n",
        "!python -m spacy download en_core_web_sm"
      ]
    },
    {
      "cell_type": "code",
      "source": [
        "import os\n",
        "import pandas as pd\n",
        "import spacy\n",
        "import random\n",
        "import time\n",
        "from tqdm import tqdm\n",
        "from datasets import load_dataset\n",
        "from langchain_groq import ChatGroq\n",
        "from langchain.schema import HumanMessage, SystemMessage"
      ],
      "metadata": {
        "id": "zcySoyYZp0O9"
      },
      "execution_count": null,
      "outputs": []
    },
    {
      "cell_type": "code",
      "source": [
        "nlp = spacy.load(\"en_core_web_sm\")\n",
        "print(\"Loading WikiMIA-24 dataset...\")\n",
        "dataset = load_dataset(\"wjfu99/WikiMIA-24\")\n",
        "print(\"Dataset loaded successfully!\")\n",
        "\n",
        "\n",
        "df = pd.DataFrame(dataset[\"WikiMIA_length64\"]).head(50)\n",
        "print(f\"Selected {len(df)} samples from WikiMIA_length64\")"
      ],
      "metadata": {
        "colab": {
          "base_uri": "https://localhost:8080/",
          "height": 478,
          "referenced_widgets": [
            "62ed9ae489a0482984247b3306817ba2",
            "78006b1979334dfbae430069411ca6ef",
            "52e53b3a03a947248dac4377f2a80386",
            "d3fae9b8375c4d5aab0153575ed67549",
            "9535114783d84365b1ee098dfccdf796",
            "ca98ce2f748141ff8a9d497bcc1653d5",
            "7f3e2479dfd44baaa515aea2579ee5de",
            "cbddee654e9944f9841459e8ddc7d23e",
            "5597c1e3641e475fabe9a70e9f2eac88",
            "a887b30833d74c7f8fd1574c0b679c94",
            "b565e7324bb84b1090d7b48663f0998c",
            "0ab90979b8684af29c3d5dda64a3ddec",
            "f7c79dbbbd044b32bd7b4ef9abcd62fa",
            "fa80ab3059e74fe1bbe33942ad747def",
            "bd7f4db8eafe46daacd428f0f461f46b",
            "e3be1f6cadff44d0829decece8ee6762",
            "7cbdcb346a1247f69fe9a6d586454f3c",
            "7a0f79e198374cad8a18e96b0a095036",
            "453fe0f8f4564ad6ba23624d72c686c4",
            "dd7ebdc94a1c42749d1e8cfe4aa2a04d",
            "7852a5eea8b846deba7ed29bf00b99e9",
            "ebbd1d645ac14c88a6acd23ce675f4b0",
            "84019eeb79bc42dd9269fb336a56274b",
            "9cfd1818e8b2478fbbb36943278a6ce4",
            "d72452e0fd0c425797ea6c43ae5dbb94",
            "141591753bf846b7884a103c590db5a8",
            "db0109d97c974aeca19c12e4c038ee54",
            "55b0447082e04fb7bdf224501a7e00fa",
            "75651d27d62341478c2074957979bebb",
            "d76922ae74c04dd08718f3b128464185",
            "c55773a9eb8741afa1c950475a62d2db",
            "32f7e2a3c9444e1a871bfcbc5170f627",
            "64bdb32318504ea09af7ff12d32aa2a1",
            "cd44e5c8b52043a08ad5362f3efb6e95",
            "0117d34ea7834936b992d713d54b1a8c",
            "8fe760bd067140e89479417e75c8daa2",
            "3e8c8fa0e5164837856b50d74f02f33d",
            "24195d0da8ab4354a18deccda463b9ae",
            "5255f1988b4c435e8e74f37fae5342e7",
            "6ed12cd0cfab453f94b374336050a2af",
            "fc6f1c407638483997bebe0469dcdd22",
            "4e196f8b386c47dd907d63486e8b99bd",
            "2c04e5cc739243a690b27df2880fffc1",
            "6787b429dfd24982ac8ebf4afc010535",
            "acda1c1869ff4ed298efdd04357bcd33",
            "b0dc92cffa2b4c178a3045a997894192",
            "517172e3fcdc4986954937ebcfda0c93",
            "a32778946d024f6c9797939c428b8558",
            "6cf582e4854c492c971430039efb9ffe",
            "3e404f14729f4e7c8f5ae1fa2766d53d",
            "96625bb4519e407581be897c8a0286b0",
            "655dd3fa34db46ed90c542a1cb43cc79",
            "8fb41abc449f45baae518380cfdca6aa",
            "437348c5df6e4539b88ff43c9f20c717",
            "79b402c7725647b48ad7accd1063b5f0",
            "62f6bb6fd4c549399771c95d7ed1d7c0",
            "e4fac33d7bcf4aa49fd0e6f0daac01e6",
            "a091f55f74ba446c8a58e322e89fe26a",
            "8bb3dccf445744f49f141f7a8db22ba7",
            "3f7e3d7b01794f5fa489246de705b4f5",
            "ff3f29917a91448e93b4dae35c3770a4",
            "5b5ef1c32bc340da866722cd00d47418",
            "5f101c4fb2a04ccdb820ac184ac3542a",
            "fb1fc0fd32da43d39f5475199c558a66",
            "00eae2029c5b44059bf34c89f0559abe",
            "ed60ee3706ee43bcb3f578310e6852a3",
            "30ee1d17a70d452d8ec43ccd636f7d2b",
            "28564742f8d246b9b2b5586f1fa26524",
            "0345513a61d045f29924d419f7407745",
            "22edc39f6c4546f3ba95fd70b96c54bc",
            "d0bb6f3b8c434b0aa6e2da8c05e7308b",
            "c087651b88ef4478ba72e5b8530747c1",
            "ddebae54eb93456eb93e88b8d5113d43",
            "ee22cfe0882142239904217049ccc9b7",
            "7f7ca5e4a1334b7b9cf665fdd44714f1",
            "3bddf7959b444484aeb633833673c271",
            "748083f881dd4e428f43255f7c69c78f",
            "cd0664f454c1496f9b51f54da8727898",
            "bc40c5300862422d85d7dd193e96dbc8",
            "7441d860e6094fe297973d371b996f91",
            "cb3a8d09524f41578e611202add8e033",
            "0244dae831374f79990c59db5ae93bd1",
            "f1f890e7276a40a188428ecf84259276",
            "963c7981bc524715b37fba8abfb20a64",
            "13f5836e09034335bc301bcb2bf2411e",
            "f70a9c63e4a2450c9179c90fdce55d08",
            "9ba5ad66010e4e54a73d851ab332bacd",
            "e850c76483bc46c59ef96ff70ef524d3",
            "c9ec0089052d4bb1a7550b292cf7482f",
            "f7dc5cc1615443f2ac570e33568e141e",
            "87a7617bbf504690b198ceaf0ed0984b",
            "85cdf584477f40518a3fad0aabd12592",
            "4df8060b3b674632befd9d71b850727f",
            "fc76a65385be4909bd6fadb5af48a427",
            "bdbc34556bd24b68b90306e53d630da0",
            "34e53ed82b124206b9a3370596f5ca97",
            "c0d87b59a84c4e58a086cb0f7ff7ddb5",
            "6299eca5a42347a39ac2cf9894b48d31",
            "927d4ad58d6547d68bec6eba375e4c60"
          ]
        },
        "id": "3a3g6onPp47E",
        "outputId": "cf8a0dc2-494f-40eb-a7cb-00323cb0122c"
      },
      "execution_count": null,
      "outputs": [
        {
          "output_type": "stream",
          "name": "stdout",
          "text": [
            "Loading WikiMIA-24 dataset...\n"
          ]
        },
        {
          "output_type": "stream",
          "name": "stderr",
          "text": [
            "/usr/local/lib/python3.11/dist-packages/huggingface_hub/utils/_auth.py:94: UserWarning: \n",
            "The secret `HF_TOKEN` does not exist in your Colab secrets.\n",
            "To authenticate with the Hugging Face Hub, create a token in your settings tab (https://huggingface.co/settings/tokens), set it as secret in your Google Colab and restart your session.\n",
            "You will be able to reuse this secret in all of your notebooks.\n",
            "Please note that authentication is recommended but still optional to access public models or datasets.\n",
            "  warnings.warn(\n"
          ]
        },
        {
          "output_type": "display_data",
          "data": {
            "text/plain": [
              "README.md:   0%|          | 0.00/2.23k [00:00<?, ?B/s]"
            ],
            "application/vnd.jupyter.widget-view+json": {
              "version_major": 2,
              "version_minor": 0,
              "model_id": "62ed9ae489a0482984247b3306817ba2"
            }
          },
          "metadata": {}
        },
        {
          "output_type": "display_data",
          "data": {
            "text/plain": [
              "(…)-00000-of-00001-b37e6e80280f9a92.parquet:   0%|          | 0.00/144k [00:00<?, ?B/s]"
            ],
            "application/vnd.jupyter.widget-view+json": {
              "version_major": 2,
              "version_minor": 0,
              "model_id": "0ab90979b8684af29c3d5dda64a3ddec"
            }
          },
          "metadata": {}
        },
        {
          "output_type": "display_data",
          "data": {
            "text/plain": [
              "(…)-00000-of-00001-c1a351cf2dd00067.parquet:   0%|          | 0.00/298k [00:00<?, ?B/s]"
            ],
            "application/vnd.jupyter.widget-view+json": {
              "version_major": 2,
              "version_minor": 0,
              "model_id": "84019eeb79bc42dd9269fb336a56274b"
            }
          },
          "metadata": {}
        },
        {
          "output_type": "display_data",
          "data": {
            "text/plain": [
              "(…)-00000-of-00001-5c8bfd2338c7ceac.parquet:   0%|          | 0.00/241k [00:00<?, ?B/s]"
            ],
            "application/vnd.jupyter.widget-view+json": {
              "version_major": 2,
              "version_minor": 0,
              "model_id": "cd44e5c8b52043a08ad5362f3efb6e95"
            }
          },
          "metadata": {}
        },
        {
          "output_type": "display_data",
          "data": {
            "text/plain": [
              "(…)-00000-of-00001-3528649663c073f0.parquet:   0%|          | 0.00/158k [00:00<?, ?B/s]"
            ],
            "application/vnd.jupyter.widget-view+json": {
              "version_major": 2,
              "version_minor": 0,
              "model_id": "acda1c1869ff4ed298efdd04357bcd33"
            }
          },
          "metadata": {}
        },
        {
          "output_type": "display_data",
          "data": {
            "text/plain": [
              "Generating WikiMIA_length32 split:   0%|          | 0/1558 [00:00<?, ? examples/s]"
            ],
            "application/vnd.jupyter.widget-view+json": {
              "version_major": 2,
              "version_minor": 0,
              "model_id": "62f6bb6fd4c549399771c95d7ed1d7c0"
            }
          },
          "metadata": {}
        },
        {
          "output_type": "display_data",
          "data": {
            "text/plain": [
              "Generating WikiMIA_length64 split:   0%|          | 0/1396 [00:00<?, ? examples/s]"
            ],
            "application/vnd.jupyter.widget-view+json": {
              "version_major": 2,
              "version_minor": 0,
              "model_id": "30ee1d17a70d452d8ec43ccd636f7d2b"
            }
          },
          "metadata": {}
        },
        {
          "output_type": "display_data",
          "data": {
            "text/plain": [
              "Generating WikiMIA_length128 split:   0%|          | 0/572 [00:00<?, ? examples/s]"
            ],
            "application/vnd.jupyter.widget-view+json": {
              "version_major": 2,
              "version_minor": 0,
              "model_id": "cd0664f454c1496f9b51f54da8727898"
            }
          },
          "metadata": {}
        },
        {
          "output_type": "display_data",
          "data": {
            "text/plain": [
              "Generating WikiMIA_length256 split:   0%|          | 0/186 [00:00<?, ? examples/s]"
            ],
            "application/vnd.jupyter.widget-view+json": {
              "version_major": 2,
              "version_minor": 0,
              "model_id": "c9ec0089052d4bb1a7550b292cf7482f"
            }
          },
          "metadata": {}
        },
        {
          "output_type": "stream",
          "name": "stdout",
          "text": [
            "Dataset loaded successfully!\n",
            "Selected 50 samples from WikiMIA_length64\n"
          ]
        }
      ]
    },
    {
      "cell_type": "code",
      "source": [
        "df = pd.DataFrame(dataset[\"WikiMIA_length64\"]).head(50)\n",
        "print(f\"Selected {len(df)} samples from WikiMIA_length64\")"
      ],
      "metadata": {
        "colab": {
          "base_uri": "https://localhost:8080/"
        },
        "id": "I7-O4UyVp9lt",
        "outputId": "512e165c-947d-44a2-e330-8679eac69828"
      },
      "execution_count": null,
      "outputs": [
        {
          "output_type": "stream",
          "name": "stdout",
          "text": [
            "Selected 50 samples from WikiMIA_length64\n"
          ]
        }
      ]
    },
    {
      "cell_type": "code",
      "source": [
        "GROQ_API_KEY = os.environ.get(\"GROQ_API_KEY\", \"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\")\n",
        "if not GROQ_API_KEY:\n",
        "    GROQ_API_KEY = input(\"Enter your Groq API key: \")\n",
        "os.environ[\"GROQ_API_KEY\"] = GROQ_API_KEY\n"
      ],
      "metadata": {
        "id": "qQtfX9fSqAXr"
      },
      "execution_count": null,
      "outputs": []
    },
    {
      "cell_type": "code",
      "source": [
        "groq_model = ChatGroq(model_name=\"llama3-70b-8192\")"
      ],
      "metadata": {
        "id": "E3-GxIlIuNiz"
      },
      "execution_count": null,
      "outputs": []
    },
    {
      "cell_type": "code",
      "source": [
        "DOMAIN_FUSION_PROMPT = \"\"\"You are given an input sentence: {input_sentence}. Your goal is to create a perturbed version by fusing the original content while preserving its core meaning. Follow these steps:\n",
        "1. Dependency Parsing: Analyze the sentence to identify its syntactic structure. Extract key components such as the main verb, subject, object, and important modifiers.\n",
        "2. Select an Unrelated Domain: Choose a domain that is semantically distinct (e.g., culinary, sports, art).\n",
        "3. Integrate Domain-Specific Elements: Rewrite the sentence by incorporating terms, analogies, or metaphors from the selected domain. Ensure the original meaning is maintained even as new imagery is introduced.\n",
        "4. Output: Provide the final, perturbed sentence.\n",
        "Let's think step by step:\n",
        "- Identify the core components (e.g., subject, verb, object) of the sentence.\n",
        "- Choose a domain (e.g., culinary) and list relevant terms or imagery (like \"layered pastry\" or \"ingredients\").\n",
        "- Integrate these elements into the sentence in a natural way so that it retains the original context.\n",
        "\n",
        "Return ONLY the perturbed sentence, with no explanations.\"\"\"\n",
        "\n",
        "LEXICAL_PROMPT = \"\"\"You are given an input sentence: {input_sentence}. Your task is to introduce subtle noise by modifying roughly 10% of the tokens. Replace selected tokens with rare Unicode variations or synonyms that alter the surface form while preserving the original meaning. Follow these steps:\n",
        "1. Tokenization: Break the sentence into individual tokens (words and punctuation).\n",
        "2. Select Tokens for Perturbation: Identify approximately 10% of the tokens that can be safely replaced without changing the sentence's meaning.\n",
        "3. Apply Perturbations: For each selected token, substitute it with a variant that uses uncommon Unicode characters or a synonym that appears slightly different.\n",
        "4. Output: Produce the final perturbed sentence.\n",
        "Let's think step by step:\n",
        "- Tokenize the sentence into its component parts.\n",
        "- Randomly choose about 10% of tokens that do not compromise the semantic content.\n",
        "- Replace each chosen token with a visually distinct variant (e.g., replacing \"a\" with \"ä\" or \"e\" with \"ë\").\n",
        "- Reassemble the sentence, ensuring the original meaning remains clear.\n",
        "\n",
        "Return ONLY the perturbed sentence, with no explanations.\"\"\"\n",
        "\n",
        "TEMPORAL_PROMPT = \"\"\"You are given an input sentence: {input_sentence}. Your objective is to reframe the sentence to evoke a different temporal perspective while preserving its semantic meaning. Follow these steps:\n",
        "1. Identify Temporal Elements: Examine the sentence to note any contemporary references or phrasing.\n",
        "2. Reframe the Temporal Context: Alter the phrasing to reflect a non-contemporary perspective. This may include changing the narrative voice, employing past-tense constructions, or adding subtle historical analogies.\n",
        "3. Enhance with Contextual Nuance: Optionally, introduce elements that hint at a different era (for instance, referencing a bygone style or historical context).\n",
        "4. Output: Provide the final, temporally shifted sentence.\n",
        "Let's think step by step:\n",
        "- Recognize modern expressions or structures in the sentence.\n",
        "- Convert these into phrasing that suggests an alternative, perhaps older, narrative style.\n",
        "- Ensure that while the temporal context changes, the core meaning and details of the sentence remain intact.\n",
        "\n",
        "Return ONLY the perturbed sentence, with no explanations.\"\"\""
      ],
      "metadata": {
        "id": "ve41GcqqqMUe"
      },
      "execution_count": null,
      "outputs": []
    },
    {
      "cell_type": "code",
      "source": [
        "def generate_perturbation(sentence, prompt_template, max_retries=3):\n",
        "    \"\"\"\n",
        "    Generate a perturbation for a given sentence using LangChain Groq integration\n",
        "    \"\"\"\n",
        "    prompt = prompt_template.format(input_sentence=sentence)\n",
        "\n",
        "    for attempt in range(max_retries):\n",
        "        try:\n",
        "\n",
        "            messages = [\n",
        "                SystemMessage(content=\"You are a helpful text perturbation assistant.\"),\n",
        "                HumanMessage(content=prompt)\n",
        "            ]\n",
        "\n",
        "\n",
        "            response = groq_model.invoke(messages).content.strip().replace(\"Here is the perturbed sentence:\", \"\").strip()\n",
        "            return response\n",
        "\n",
        "        except Exception as e:\n",
        "            print(f\"Error (attempt {attempt+1}/{max_retries}): {str(e)}\")\n",
        "            if attempt < max_retries - 1:\n",
        "                sleep_time = 2 * (attempt + 1)  # Exponential backoff\n",
        "                print(f\"Retrying in {sleep_time} seconds...\")\n",
        "                time.sleep(sleep_time)\n",
        "            else:\n",
        "                return f\"Error: Failed after {max_retries} attempts\"\n",
        "\n",
        "    return \"Error: Could not generate perturbation\""
      ],
      "metadata": {
        "id": "6Zc5GFQ8qQTq"
      },
      "execution_count": null,
      "outputs": []
    },
    {
      "cell_type": "code",
      "source": [
        "def generate_all_perturbations(sentence):\n",
        "    \"\"\"\n",
        "    Generate all three types of perturbations for a given sentence\n",
        "    \"\"\"\n",
        "    perturbations = {}\n",
        "\n",
        "    print(f\"Generating domain fusion perturbation...\")\n",
        "    perturbations[\"domain_fusion\"] = generate_perturbation(sentence, DOMAIN_FUSION_PROMPT)\n",
        "\n",
        "    print(f\"Generating lexical perturbation...\")\n",
        "    perturbations[\"lexical\"] = generate_perturbation(sentence, LEXICAL_PROMPT)\n",
        "\n",
        "    print(f\"Generating temporal perturbation...\")\n",
        "    perturbations[\"temporal\"] = generate_perturbation(sentence, TEMPORAL_PROMPT)\n",
        "\n",
        "    return perturbations"
      ],
      "metadata": {
        "id": "RNJ2KSJaujZF"
      },
      "execution_count": null,
      "outputs": []
    },
    {
      "cell_type": "code",
      "source": [
        "input_sentences = df[\"input\"].tolist()\n",
        "\n",
        "\n",
        "print(\"Generating perturbations...\")\n",
        "perturbed_data = []\n",
        "for i, sentence in enumerate(tqdm(input_sentences)):\n",
        "    print(f\"\\nProcessing sentence {i+1}/{len(input_sentences)}\")\n",
        "    print(f\"Original: {sentence}\")\n",
        "\n",
        "    perturbations = generate_all_perturbations(sentence)\n",
        "\n",
        "\n",
        "    entry = {\n",
        "        \"original\": sentence,\n",
        "        \"original_label\": df.iloc[i][\"label\"],\n",
        "        \"perturbation_type\": \"PM\" if df.iloc[i][\"label\"] == 1 else \"PNM\",\n",
        "        \"domain_fusion\": perturbations[\"domain_fusion\"],\n",
        "        \"lexical\": perturbations[\"lexical\"],\n",
        "        \"temporal\": perturbations[\"temporal\"]\n",
        "    }\n",
        "\n",
        "    perturbed_data.append(entry)\n",
        "\n",
        "\n",
        "    print(f\"Domain Fusion: {perturbations['domain_fusion']}\")\n",
        "    print(f\"Lexical: {perturbations['lexical']}\")\n",
        "    print(f\"Temporal: {perturbations['temporal']}\")\n",
        "\n",
        "\n",
        "    time.sleep(1)\n"
      ],
      "metadata": {
        "colab": {
          "base_uri": "https://localhost:8080/"
        },
        "id": "3PjnQxHyus4l",
        "outputId": "f086cd38-e208-4e34-f5ef-6bc406341865"
      },
      "execution_count": null,
      "outputs": [
        {
          "output_type": "stream",
          "name": "stdout",
          "text": [
            "Generating perturbations...\n"
          ]
        },
        {
          "output_type": "stream",
          "name": "stderr",
          "text": [
            "\r  0%|          | 0/50 [00:00<?, ?it/s]"
          ]
        },
        {
          "output_type": "stream",
          "name": "stdout",
          "text": [
            "\n",
            "Processing sentence 1/50\n",
            "Original: The 109th edition of the Paris–Tours cycling classic was held on 11 October 2015. The race was part of the 2015 UCI Europe Tour, ranked as a 1.HC event. Italian rider Matteo Trentin won the race in a three-man sprint with Belgians Tosh Van der Sande and Greg Van Avermaet. At an average speed of 49.64 km/h (30.84 mph), it was the fastest edition\n",
            "Generating domain fusion perturbation...\n",
            "Generating lexical perturbation...\n",
            "Generating temporal perturbation...\n",
            "Domain Fusion: The 109th edition of the Paris–Tours cycling classic was the pièce de résistance, unfolding on 11 October 2015, with Italian rider Matteo Trentin expertly whisking the competition in a three-man sprint, outpacing Belgians Tosh Van der Sande and Greg Van Avermaet, at an average speed of 49.64 km/h (30.84 mph), the fastest edition yet, a true culinary masterpiece of strategy and endurance.\n",
            "Lexical: The 109th édition of the Päris–Tours cyclïng classic was held on 11 Octöber 2015. The raçe was part of the 2015 UCI Europë Tour, ranked as a 1.HC évènt. Italïan rider Matteo Trëntin won the raçe in a thrëe-man sprint with Belgïans Tosh Vän der Sandë and Grëg Vän Avermäet. At an averäge speed of 49.64 km/h (30.84 mph), it was the fastëst édition.\n",
            "Temporal: In days of yore, the 109th iteration of the venerable Paris-Tours cycling classic transpired on the eleventh of October, 1915. The contest formed part of the 1915 UCI Europe Tour, esteemed as a 1.HC event. The Italian velocipedist Matteo Trentin emerged victorious in a spirited three-man dash alongside the Belgians Tosh Van der Sande and Greg Van Avermaet. Markedly, the average velocity of 49.64 km/h (30.84 mph) established it as the swiftest edition on record.\n"
          ]
        },
        {
          "output_type": "stream",
          "name": "stderr",
          "text": [
            "\r  2%|▏         | 1/50 [00:03<02:27,  3.01s/it]"
          ]
        },
        {
          "output_type": "stream",
          "name": "stdout",
          "text": [
            "\n",
            "Processing sentence 2/50\n",
            "Original: The 2024 Scottish Challenge Cup final, also known as the SPFL Trust Trophy final for sponsorship reasons, was a football match on 24 March 2024 between the Cymru Premier club The New Saints and the Scottish Championship side Airdrieonians. It was the 31st final of the Scottish Challenge Cup since it was first organised in 1990 to celebrate the centenary of the now defunct\n",
            "Generating domain fusion perturbation...\n",
            "Generating lexical perturbation...\n",
            "Generating temporal perturbation...\n",
            "Domain Fusion: The 2024 Scottish Challenge Cup final, a richly layered tournament, was a football match on 24 March 2024 between the Cymru Premier club The New Saints, the main ingredient, and the Scottish Championship side Airdrieonians, the perfect blend, in a recipe for success that was the 31st final of the Scottish Challenge Cup since it was first mixed in 1990 to celebrate the centenary of the now defunct.\n",
            "Lexical: Thë 2024 Scotïsh Chällënge Cup finäl, alsö known as thë SPFL Trüst Tröphy finäl for sponsörship reäsöns, was ä footbäll match ön 24 Märch 2024 betweën thë Cymru Premïër club Thë New Säints and thë Scotïsh Chämpïonship sidë Airdriëonïäns. It was thë 31st finäl of thë Scotïsh Chällënge Cup sincë it was first organisëd în 1990 to cëlebrâtë thë cëntënäry of thë now défunt.\n",
            "Temporal: In the annals of Scottish football history, a notable contest took place on 24 March 1924, pitting the Cymru Premier club The New Saints against the Scottish Championship side Airdrieonians in the 31st final of the Scottish Challenge Cup, an event first instituted in 1890 to commemorate the centenary of a bygone era.\n"
          ]
        },
        {
          "output_type": "stream",
          "name": "stderr",
          "text": [
            "\r  4%|▍         | 2/50 [00:06<02:24,  3.01s/it]"
          ]
        },
        {
          "output_type": "stream",
          "name": "stdout",
          "text": [
            "\n",
            "Processing sentence 3/50\n",
            "Original: Following the first round of the 2024 French legislative election on 30 June 2024, runoff elections in each constituency where no candidate received a vote share greater than 50 percent were scheduled for 7 July. Candidates permitted to stand in the runoff elections needed to either come in first or second place in the first round or achieve more than 12.5 percent of the\n",
            "Generating domain fusion perturbation...\n",
            "Generating lexical perturbation...\n",
            "Generating temporal perturbation...\n",
            "Domain Fusion: Following the first round of the 2024 French legislative election on 30 June 2024, runoff elections in each constituency where no candidate received a vote share greater than 50 percent were scheduled for 7 July, much like a master chef carefully layers ingredients in a croquembouche, where only the top two flavors or those with a rich essence of over 12.5 percent are permitted to rise to the next level.\n",
            "Lexical: Following thé fiŕst round of thé 2024 Français legislativé élection on 30 Juin 2024, runoff élections in each constituency whére no candidaté receivéd a voté sharé greather than 50 pércent weré scheduléd for 7 Juillet. Candidatés permittéd to stand in thé runoff élections needéd to éither comé in fiŕst or sécond placé in thé fiŕst round or achivé moré than 12.5 pércent of thé.\n",
            "Temporal: In the aftermath of the inaugural round of the 2024 French legislative election, which transpired on the thirtieth day of June in that same year, a subsequent electoral contest was ordained for the seventh of July, wherein those candidates who failed to garner a majority of fifty percent or more of the popular vote would again present themselves to the electorate.\n"
          ]
        },
        {
          "output_type": "stream",
          "name": "stderr",
          "text": [
            "\r  6%|▌         | 3/50 [00:09<02:23,  3.06s/it]"
          ]
        },
        {
          "output_type": "stream",
          "name": "stdout",
          "text": [
            "\n",
            "Processing sentence 4/50\n",
            "Original: The 69th Festival del film Locarno was held 3–13 August 2016 in Locarno, Switzerland. Carlo Chatrian was the festival's Artistic Director. The Golden Leopard, the festival's top prize, was awarded to Godless, directed by Ralitza Petrova. The primary Selection Committee included Mark Peranson (Head of Programming), Lorenzo Esposito, Sergio Fant, and Aurélie Godet. The Leopards of Tomorrow section was programmed by Alessandro Marcionni (Head),\n",
            "Generating domain fusion perturbation...\n",
            "Generating lexical perturbation...\n",
            "Generating temporal perturbation...\n",
            "Domain Fusion: The 69th Festival del film Locarno was the masterfully crafted bouillabaisse, simmering 3-13 August 2016 in Locarno, Switzerland, with Carlo Chatrian as the head chef, expertly blending the ingredients of art and cinema. The Golden Leopard, the festival's pièce de résistance, was awarded to Godless, directed by Ralitza Petrova, a dish that perfectly balanced flavors and themes. The primary Selection Committee was the kitchen staff, including Mark Peranson (Head of Programming), Lorenzo Esposito, Sergio Fant, and Aurélie Godet, who carefully selected the freshest ingredients for the Leopards of Tomorrow section, programmed by Alessandro Marcionni (Head), the pastry chef of innovative cinematic desserts.\n",
            "Lexical: Thë 69th Féstival del film Locarno was held 3–13 Augùst 2016 in Locarno, Swïtzérland. Carlo Chatrian was the féstival's Artístic Director. The Gölden Léopard, the féstival's top prïze, was awàrdéd to Gödléss, diréctéd byRalitza Petróva. The primàry Sélection Committee includéd Mark Péranson (Head of Prògramming), Lorénzo Espósito, Sérgio Fánt, and Aurélïe Gödét. The Léopards of Tomórrów section was prógramméd by Aléssandro Màrcionni (Head),.\n",
            "Temporal: In days of yore, the 69th Festival del film Locarno took place from the 3rd to the 13th of August, 1816, in the charming town of Locarno, Switzerland. At the helm of the festival's artistic direction stood Carlo Chatrian. The coveted Golden Leopard, the highest accolade bestowed upon a film, was awarded to Godless, a masterpiece directed by the talented Ralitza Petrova. The primary Selection Committee comprised esteemed gentlemen Mark Peranson, Lorenzo Esposito, Sergio Fant, and the lovely Aurélie Godet. Under the guidance of Alessandro Marcionni, the Leopards of Tomorrow section was curated with great flair.\n"
          ]
        },
        {
          "output_type": "stream",
          "name": "stderr",
          "text": [
            "\r  8%|▊         | 4/50 [00:12<02:29,  3.24s/it]"
          ]
        },
        {
          "output_type": "stream",
          "name": "stdout",
          "text": [
            "\n",
            "Processing sentence 5/50\n",
            "Original: The 2024 Tailteann Cup final was the third final of the Tailteann Cup and the culmination of the 2024 Tailteann Cup, the GAA's second-tier Gaelic football competition for county teams. The match was played at Croke Park in Dublin on 13 July 2024, between Laois and Down. The game was played prior to the All Ireland football semi-final between Kerry and Armagh. It was\n",
            "Generating domain fusion perturbation...\n",
            "Generating lexical perturbation...\n",
            "Generating temporal perturbation...\n",
            "Domain Fusion: The 2024 Tailteann Cup final was the masterfully crafted bouillon of the Tailteann Cup, and the culmination of the 2024 Tailteann Cup, the GAA's second-tier Gaelic football competition for county teams, where Laois and Down were the key ingredients, skillfully blended together at Croke Park in Dublin on 13 July 2024, prior to the All Ireland football semi-final between Kerry and Armagh, the perfect palate cleanser.\n",
            "Lexical: Thë 2024 Täilteänn Cup finäl was thë third finäl of thë Täilteänn Cup and thë culmination of thë 2024 Täilteänn Cup, thë GAA's sëcond-tiër Gaelic footbäll competition for county tëäms. Thë match was pläyed at Cröke Pärk in Dublïn on 13 Jüly 2024, between Läois and Down. Thë gäme was pläyed priör to thë All Irëland footbäll sëmi-finäl between Kerry and Ärmagh. It was.\n",
            "Temporal: In days of yore, the third final of the esteemed Tailteann Cup and the culmination of the 2024 Tailteann Cup, the Gaelic Athletic Association's secondary Gaelic football competition for county teams, took place. The match, played at the venerable Croke Park in Dublin on the thirteenth of July, nineteen twenty-four, pitted Laois against Down, preceding the All Ireland football semi-final between Kerry and Armagh.\n"
          ]
        },
        {
          "output_type": "stream",
          "name": "stderr",
          "text": [
            "\r 10%|█         | 5/50 [00:15<02:21,  3.14s/it]"
          ]
        },
        {
          "output_type": "stream",
          "name": "stdout",
          "text": [
            "\n",
            "Processing sentence 6/50\n",
            "Original: Gibraltar Stronger in Europe was a lobbying group campaigning for Gibraltar to remain in the European Union ahead of the European Union membership referendum, 2016. The group was officially launched on 5 April 2016. The group was an official partner of the Britain Stronger in Europe campaign in the United Kingdom. The group's main aim was to inform the public as to the reasons\n",
            "Generating domain fusion perturbation...\n",
            "Generating lexical perturbation...\n",
            "Generating temporal perturbation...\n",
            "Domain Fusion: Gibraltar Stronger in Europe was a rich bouillon, simmering with diverse ingredients, campaigning for Gibraltar to remain in the European Union ahead of the European Union membership referendum, 2016, where every delicate layer of the pastry was carefully crafted to inform the public as to the reasons.\n",
            "Lexical: Gïbältär Strongër în Euröpe was ä lobbying grup campaigning för Gïbältär tö remäin în the Euröpään Ünïon ahead of the Euröpään Ünïon membership referendum, 2016. The gröup was offïcïally laünched ön 5 Aprïl 2016. The gröup was än offïcïal pärtnër of the Brïtäin Strongër în Euröpe campaign în the Ünïted Kïngdöm. The gröup's måin äim was tö înform the püblic äs tö the reäsöns.\n",
            "Temporal: In bygone days, a lobbying entity known as Gibraltar Stronger in Europe emerged, its raison d'être being to persuade the good people of Gibraltar to remain within the fold of the European Union, ahead of the pivotal referendum of 2016, a watershed moment in the annals of European history.\n"
          ]
        },
        {
          "output_type": "stream",
          "name": "stderr",
          "text": [
            "\r 12%|█▏        | 6/50 [00:23<03:31,  4.80s/it]"
          ]
        },
        {
          "output_type": "stream",
          "name": "stdout",
          "text": [
            "\n",
            "Processing sentence 7/50\n",
            "Original: The Kiryas Joel murder conspiracy was the planned kidnapping and murder of Joseph Masri, a Hasidic resident of the village of Kiryas Joel, New York in a troubled marriage who had refused to give his wife a get (divorce document). The plot was hatched during the summer of 2016 by Shimen Liebowitz, a divorce mediator from Kiryas Joel, Aharon Goldberg, an Israeli rabbi from\n",
            "Generating domain fusion perturbation...\n",
            "Generating lexical perturbation...\n",
            "Generating temporal perturbation...\n",
            "Domain Fusion: The intricate plot of the Kiryas Joel murder conspiracy was the carefully crafted recipe for the planned kidnapping and murder of Joseph Masri, a Hasidic resident of the village of Kiryas Joel, New York, who had refused to give his wife a get, the crucial ingredient to dissolve their troubled marriage, much like a skilled patissier omits a vital element to ruin the delicate balance of a croquembouche, as orchestrated during the summer of 2016 by Shimen Liebowitz, a divorce mediator from Kiryas Joel, and Aharon Goldberg, an Israeli rabbi from.\n",
            "Lexical: Thë Kïryas Joël mürdër conspiräcy wäs thë plännd kidnäpping änd mürdër of Josëph Mäsri, ä Häsïdïc rësïdënt of thë villäge of Kïryas Joël, Nëw Yörk în ä troubld märriäge whö häd refüsëd to gïvë hïs wïfë ä gët (divörcë dökümënt). Thë plöt wäs hâtchëd dürïng thë summër of 2016 by Shïmën Liëbowïtz, ä divorcë mëdiatör from Kïryas Joël, Ähärön Gôldbërg, än Ïsräëli räbbï from.\n",
            "Temporal: In the bygone era of 2016, a most heinous conspiracy was set in motion, wherein Joseph Masri, a devout resident of Kiryas Joel, New York, was slated for kidnapping and murder, owing to his refusal to grant his wife the requisite divorce document, a get, amidst the tumult of their troubled marriage, all orchestrated by the cunning Shimen Liebowitz, a divorce mediator of Kiryas Joel, and the venerable Aharon Goldberg, an Israeli rabbi of great repute.\n"
          ]
        },
        {
          "output_type": "stream",
          "name": "stderr",
          "text": [
            "\r 14%|█▍        | 7/50 [00:37<05:28,  7.65s/it]"
          ]
        },
        {
          "output_type": "stream",
          "name": "stdout",
          "text": [
            "\n",
            "Processing sentence 8/50\n",
            "Original: A group of three suicide attackers rammed a truck bomb into the wall of the German consulate in Mazar-i-Sharif, Afghanistan on 10 November 2016. Six people were killed (as well as two of the bombers) and more than 120 others were injured, while the sole remaining attacker was captured by Afghan security forces. The Taliban claimed responsibility for the attack and Taliban spokesman Zabihullah\n",
            "Generating domain fusion perturbation...\n",
            "Generating lexical perturbation...\n",
            "Generating temporal perturbation...\n",
            "Domain Fusion: A trio of radical flavors rammed a rich sauce into the crust of the diplomatic pastry in Mazar-i-Sharif, Afghanistan on 10 November 2016, killing six taste buds and injuring over 120 others, while the lone remaining ingredient was whisked away by Afghan security forces, as the Taliban claimed responsibility for the recipe, according to Taliban sous chef Zabihullah.\n",
            "Lexical: A gröup of thrëe suicide attäckers rammed a trük bomb into the wäll of the Germän consulate in Mazar-i-Shärif, Afghänistan on 10 Novämber 2016. Six päople were killed (äs well äs twö of the bömers) and morë than 120 öthers were injured, whilë the solë remaining attäcker was captürëd by Afghän sécurité forces. The Tälïbän cläimed responsïbility for the attäck and Tälïbän spökesmän Zabïhülläh.\n",
            "Temporal: In days of yore, a coterie of three suicide attackers drove a truck bomb into the wall of the German consulate in Mazar-i-Sharif, Afghanistan, on a fateful November morning in the year of our Lord two thousand and sixteen. Six souls were lost (including two of the bombers) and upwards of 120 others were injured, whilst the lone remaining attacker was taken into custody by the Afghan security forces of the realm. The Taliban, in their hubris, claimed responsibility for the attack, and their spokesman, one Zabihullah, did publicly avow their guilt.\n"
          ]
        },
        {
          "output_type": "stream",
          "name": "stderr",
          "text": [
            "\r 16%|█▌        | 8/50 [00:50<06:36,  9.44s/it]"
          ]
        },
        {
          "output_type": "stream",
          "name": "stdout",
          "text": [
            "\n",
            "Processing sentence 9/50\n",
            "Original: The 2024 Action Gatineau leadership election was to take place on April 15, 2024, to elect a leader to replace Maude Marquis-Bissonnette, who resigned on December 22, 2021, after the 2021 Gatineau municipal election, which, despite the party gaining a seat on city council by winning the newly-created district of Mitigomijokan, saw Marquis-Bissonnette lose the mayoralty to France Bélisle. Marquis-Bissonnette won the election on\n",
            "Generating domain fusion perturbation...\n",
            "Generating lexical perturbation...\n",
            "Generating temporal perturbation...\n",
            "Domain Fusion: The 2024 Action Gatineau leadership election was the final layer of a delicate pastry, set to be served on April 15, 2024, to elect a leader to replace Maude Marquis-Bissonnette, who cracked under pressure on December 22, 2021, after the 2021 Gatineau municipal election, which, despite the party whisking up a seat on city council by winning the newly-created district of Mitigomijokan, saw Marquis-Bissonnette's mayoralty sauce reduced to a simmer by France Bélisle.\n",
            "Lexical: The 2024 Action Gätineau leadership élection was to take place on Äpril 15, 2024, to élect a leader to repläce Mäude Märquis-Bissonnette, who résignéd on DéceMBER 22, 2021, after the 2021 Gätineau municipal élection, which, déspite the party gäining a séat on city counçil by winning the newly-crëated district of Mitigömijokan, saw Märquis-Bissonnette löse the mayöralty to Françe Bélisle. Märquis-Bissonnette wön the élection on.\n",
            "Temporal: In the annals of time, it is recorded that a leadership election was slated to transpire on the fifteenth of April, nineteen hundred and twenty-four, for the purpose of selecting a worthy successor to Maude Marquis-Bissonnette, who had relinquished her post on the twenty-second of December, nineteen hundred and twenty-one, subsequent to the municipal election of that year, wherein, despite the party's victory in the newly established district of Mitigomijokan, Marquis-Bissonnette suffered defeat in her mayoral bid to France Bélisle.\n"
          ]
        },
        {
          "output_type": "stream",
          "name": "stderr",
          "text": [
            "\r 18%|█▊        | 9/50 [01:04<07:28, 10.94s/it]"
          ]
        },
        {
          "output_type": "stream",
          "name": "stdout",
          "text": [
            "\n",
            "Processing sentence 10/50\n",
            "Original: The Kachin Independence Army's (KIA) offensive in Kachin State, known unofficially as Operation 0307 (after the date it began), is an ongoing military operation against the Tatmadaw military junta of Myanmar which began on 7 March 2024. Primarily centred along the road connecting Myitkyina to Bhamo, Operation 0307 was launched to capture junta bases which could threaten Laiza, the headquarters of the KIA. Operation\n",
            "Generating domain fusion perturbation...\n",
            "Generating lexical perturbation...\n",
            "Generating temporal perturbation...\n",
            "Domain Fusion: The Kachin Independence Army's (KIA) bold recipe in Kachin State, known unofficially as Operation 0307 (after the date it began), is an ongoing culinary campaign against the Tatmadaw military junta of Myanmar, which began on 7 March 2024, aiming to whip up a stronghold by capturing key ingredients, junta bases, that could threaten Laiza, the headquarters of the KIA, the main course.\n",
            "Lexical: The Kächin Indëpendence Army's (KIÄ) offënsive in Kachin Stäte, known unofficially as Opërätiön 0307 (after the däte it begän), is an ongoing militäry opërätiön against the Tätmadaw militäry junta of Myänmar which begän on 7 Märch 2024. Primärily centred along the röad connecting Myitkyinä to Bhämö, Opërätiön 0307 was launched to capture junta bäses which could threaten Läiza, the headquärterš of the KIÄ. Opërätiön.\n",
            "Temporal: In the tumultuous annals of Kachin State, the Kachin Independence Army's bold endeavour, known colloquially as Operation 0307, has been waged against the Tatmadaw military junta of Myanmar, a campaign that commenced on a fateful day in March 2024, primarily centred along the venerable road connecting Myitkyina to Bhamo, with the express purpose of capturing junta strongholds that threatened the very existence of Laiza, the venerable headquarters of the KIA.\n"
          ]
        },
        {
          "output_type": "stream",
          "name": "stderr",
          "text": [
            "\r 20%|██        | 10/50 [01:19<08:01, 12.03s/it]"
          ]
        },
        {
          "output_type": "stream",
          "name": "stdout",
          "text": [
            "\n",
            "Processing sentence 11/50\n",
            "Original: On May 15, 2024, a crackdown on a pro-Palestine encampment at University of California, Irvine resulted in an occupation of the UC Irvine Science Building by the protesters. UCI police put out a mutual aid call and received a response from at least 16 law enforcement agencies from around Orange County. Hundreds of officers responded and forty-seven protesters, including students, UCI employees and others\n",
            "Generating domain fusion perturbation...\n",
            "Generating lexical perturbation...\n",
            "Generating temporal perturbation...\n",
            "Domain Fusion: On May 15, 2024, a crackdown on a pro-Palestine encampment at University of California, Irvine resulted in a richly layered occupation of the UC Irvine Science Building by the protesters, with UCI police whipping up a mutual aid call and receiving a response from at least 16 law enforcement agencies from around Orange County, much like a master chef combining ingredients from various kitchens, and hundreds of officers responded, ultimately serving up forty-seven protesters, including students, UCI employees and others.\n",
            "Lexical: Ön Mäy 15, 2024, ä cräckdöwn ön ä prö-Pälëstïne êncämpmënt ät Ünïvërsïty ôf Cälïfôrnïä, Îrvïne rësültëd în än ôccüpätïôn ôf thë UC Îrvïne Scïënce Bûïldïng by thë prötëstërs. UCÎ pôlïcë pût ôüt ä mütüäl äïd cäll änd rëcëïvëd ä rëspônsë frôm ät lëäst 16 läw ênförçëmënt ägëncïës frôm ärôünd Ôrânge Côünty. Hündrëds ôf ôfficërs rëspôndëd änd förtÿ-sëvën prötëstërs, înclüdïng stüdënts, UCÎ êmplöyëës änd ôthërs.\n",
            "Temporal: In the spring of a bygone year, a notable disturbance befell the University of California, Irvine, when a pro-Palestine encampment was forcibly dispersed, prompting an impromptu occupation of the Science Building by the agitators, whereupon the UCI constabulary issued a mutual aid call, garnering a response from no fewer than 16 law enforcement agencies from the surrounding Orange County, resulting in a substantial deployment of officers, culminating in the detention of 47 protesters, comprising students, university personnel, and sundry others.\n"
          ]
        },
        {
          "output_type": "stream",
          "name": "stderr",
          "text": [
            "\r 22%|██▏       | 11/50 [01:33<08:17, 12.76s/it]"
          ]
        },
        {
          "output_type": "stream",
          "name": "stdout",
          "text": [
            "\n",
            "Processing sentence 12/50\n",
            "Original: The 2024 NCAA Division I Men's Ice Hockey Tournament was the national championship tournament for men's college ice hockey in the United States held from March 28-April 13, 2024. The tournament involved 16 teams in single-elimination play to determine the national champion at the Division I level of the National Collegiate Athletic Association (NCAA), the highest level of competition in college hockey. The tournament's\n",
            "Generating domain fusion perturbation...\n",
            "Generating lexical perturbation...\n",
            "Generating temporal perturbation...\n",
            "Domain Fusion: The 2024 NCAA Division I Men's Ice Hockey Tournament was the decadent dessert of national championships for men's college ice hockey in the United States, carefully crafted from March 28-April 13, 2024, with 16 teams as the essential ingredients in single-elimination play, blending together to determine the national champion at the Division I level of the National Collegiate Athletic Association (NCAA), the richest flavor of competition in college hockey.\n",
            "Lexical: The 2024 NäCAÄ Division I Men's Ïce Hockey Tournament wäs the nationäl championship tournament for men's colleÄŸe ïce hockey in the Ünited States held from Märch 28-April 13, 2024. The tournäment involved 16 teäms in single-eliminätion play to determinë the nationäl champion at the Division I level of the Nätionäl Collegiäte Athlëtic Ässociätion (NCAA), the höghest level of compétition in colleÄŸe hockëy. The tournäment's.\n",
            "Temporal: In the annals of collegiate hockey, a most momentous occasion transpired in the spring of 2024, when the NCAA Division I Men's Ice Hockey Tournament took place, featuring 16 stalwart teams vying for the national championship in a thrilling single-elimination contest, thereby crowning the supreme victor at the highest echelon of competition within the esteemed National Collegiate Athletic Association.\n"
          ]
        },
        {
          "output_type": "stream",
          "name": "stderr",
          "text": [
            "\r 24%|██▍       | 12/50 [01:46<08:11, 12.94s/it]"
          ]
        },
        {
          "output_type": "stream",
          "name": "stdout",
          "text": [
            "\n",
            "Processing sentence 13/50\n",
            "Original: The 2024 College Basketball Invitational (CBI) was a single-elimination, fully-bracketed men's college basketball postseason tournament featuring 15 National Collegiate Athletic Association (NCAA) Division I teams not selected to participate in the NCAA Division I men's basketball tournament or the National Invitation Tournament (NIT). The 16th edition of the tournament began on March 23 and concluded March 27. All games were played at Ocean Center\n",
            "Generating domain fusion perturbation...\n",
            "Generating lexical perturbation...\n",
            "Generating temporal perturbation...\n",
            "Domain Fusion: The 2024 College Basketball Invitational (CBI) was a masterfully layered postseason tournament, featuring a rich blend of 15 National Collegiate Athletic Association (NCAA) Division I teams not selected to participate in the NCAA Division I men's basketball tournament or the National Invitation Tournament (NIT), which began to simmer on March 23 and reached its flavorful conclusion on March 27, with all games expertly plated at Ocean Center.\n",
            "Lexical: Thë 2024 Collëge Baskëtball Invitational (CBI) was a single-ëlimination, fully-brackëtëd men's collëge baskëtball post sæson tournament featurïng 15 Natiõnal Collëgiate Athlëtic Associatiõn (NCAA) Divisiõn I teams not selectëd to participatë in the NCAA Divisiõn I men's baskëtball tournament or the Natiõnal Invitatïõn Tournament (NIT). Thë 16th ëdition of thë tournament began on Märch 23 and conclüdëd Märch 27. All gamës were playëd at Océan Centër.\n",
            "Temporal: In the spring of that memorable year, the 16th iteration of the College Basketball Invitational (CBI) tournament took place, a single-elimination, fully-bracketed postseason spectacle featuring 15 National Collegiate Athletic Association (NCAA) Division I teams that had not been afforded the opportunity to participate in the NCAA Division I men's basketball tournament or the National Invitation Tournament (NIT). This esteemed competition, which transpired from March 23 to March 27, was hosted in its entirety at the venerable Ocean Center.\n"
          ]
        },
        {
          "output_type": "stream",
          "name": "stderr",
          "text": [
            "\r 26%|██▌       | 13/50 [02:00<08:02, 13.03s/it]"
          ]
        },
        {
          "output_type": "stream",
          "name": "stdout",
          "text": [
            "\n",
            "Processing sentence 14/50\n",
            "Original: The D Chowk Dharna was a series of protests that took place at D-Chowk, Islamabad, Pakistan, organized by the Save Gaza Campaign. The protests were held in response to the ongoing conflict in Gaza, with participants demanding decisive action from the Pakistani government and the international community. On the 27th day of the sit-in to express love for Palestine and Gaza, D Chowk was\n",
            "Generating domain fusion perturbation...\n",
            "Generating lexical perturbation...\n",
            "Generating temporal perturbation...\n",
            "Domain Fusion: The richly layered protest movement, like a decadent pastry, was a series of demonstrations that unfolded at D-Chowk, Islamabad, Pakistan, orchestrated by the Save Gaza Campaign, with activists blending their voices to demand a recipe for decisive action from the Pakistani government and the international community, much like a master chef combining ingredients to create a dish that would savor the love for Palestine and Gaza.\n",
            "Lexical: Thë D Čhöwk Dhärnä wäs ä seriës of prötests thät töök pläce ät D-Čhöwk, Īslämâbâd, Pâkistân, orgänizéd by thë Sävë Gäzä Cämpäign. Thë prötests wëre hëld în rëspönsë to thë ön Göing cönflïkt în Gäzä, wïth pârtïcipänts dëmändïng dëcïsïvë äctïön fröm thë Pâkistânï gôvërnmënt änd thë întërnâtïônäl cömünïtï. Ön thë 27th däy of thë sït-ïn tö äxpërëss lôvë fôr Pälëstïnë änd Gäzä, D Čhöwk wäs.\n",
            "Temporal: In days of yore, the D Chowk Dharna, a series of protests that transpired at D-Chowk, Islamabad, Pakistan, was orchestrated by the Save Gaza Campaign, wherein the populace gathered to decry the ongoing turmoil in Gaza, imploring the Pakistani government and the international community to take decisive action, and on the twenty-seventh day of the sit-in, the assemblage expressed their ardent love for Palestine and Gaza.\n"
          ]
        },
        {
          "output_type": "stream",
          "name": "stderr",
          "text": [
            "\r 28%|██▊       | 14/50 [02:13<07:55, 13.22s/it]"
          ]
        },
        {
          "output_type": "stream",
          "name": "stdout",
          "text": [
            "\n",
            "Processing sentence 15/50\n",
            "Original: The 2024 Tour de France is the 111th edition of the Tour de France. It started in Florence, Italy, on 29 June, and will finish in Nice, France, on 21 July. The race will not finish in (or near) Paris for the first time since its inception, owing to preparations for the 2024 Summer Olympics in Paris. Mark Cavendish won stage five, his 35th\n",
            "Generating domain fusion perturbation...\n",
            "Generating lexical perturbation...\n",
            "Generating temporal perturbation...\n",
            "Domain Fusion: The 2024 Tour de France is the 111th edition of the Tour de France, a richly layered pastry of a race that started in Florence, Italy, on 29 June, and will finish in Nice, France, on 21 July, with Mark Cavendish adding his 35th victory as a cherry on top, while the finish line avoids the Parisian kitchen, preoccupied with whipping up the 2024 Summer Olympics.\n",
            "Lexical: Thë 2024 Tour dé France ïs thë 111th édition of thë Tour dé France. Ït started ïn Florënce, Italÿ, on 29 Junë, and wïll fïnish ïn Nïce, Francë, on 21 Julÿ. Thë racë wïll not fïnish ïn (or næar) Parïs for thë fïrst tïme sincë ïts ïnceptïon, owïng to prëparatïons for thë 2024 Summër Olympïcs ïn Parïs. Märk Cavendïsh wön stäge fïvë, hïs 35th.\n",
            "Temporal: In the annals of cycling history, the 111th edition of the Tour de France, which took place in 2024, commenced in Florence, Italy, on the twenty-ninth of June and concluded in Nice, France, on the twenty-first of July, marking a departure from tradition as it did not culminate in or near the City of Light, a decision necessitated by the preparations for the 2024 Summer Olympics in Paris, and it was in this esteemed event that Mark Cavendish secured his thirty-fifth stage victory, in the fifth stage of the competition.\n"
          ]
        },
        {
          "output_type": "stream",
          "name": "stderr",
          "text": [
            "\r 30%|███       | 15/50 [02:27<07:46, 13.33s/it]"
          ]
        },
        {
          "output_type": "stream",
          "name": "stdout",
          "text": [
            "\n",
            "Processing sentence 16/50\n",
            "Original: MLB at Rickwood Field: A Tribute to the Negro Leagues was a Major League Baseball (MLB) specialty game played between the National League (NL) West's San Francisco Giants and the NL Central's St. Louis Cardinals on June 20, 2024. The game was played at Rickwood Field in Birmingham, Alabama, the former home of the Negro leagues' Birmingham Black Barons, one day after Juneteenth. This\n",
            "Generating domain fusion perturbation...\n",
            "Generating lexical perturbation...\n",
            "Generating temporal perturbation...\n",
            "Domain Fusion: MLB at Rickwood Field: A Tribute to the Negro Leagues was a richly layered game, with the San Francisco Giants and St. Louis Cardinals blending their skills like ingredients in a recipe, played on June 20, 2024, at Rickwood Field in Birmingham, Alabama, the former home of the Negro leagues' Birmingham Black Barons, one day after Juneteenth.\n",
            "Lexical: MLB ät Rïckwood Fïeld: Ä Trïbute to the Negërö Leägues wäs ä Mäjör Leägue Bäsebäll (MLB) speciälty gämë pläyed between the Nätiönäl Leägue (NL) Wëst's Sän Fräncisco Gänts and the NL Cëntër's St. Löuis Cärdinäls on Jüne 20, 2024. The gämë wäs pläyed ät Rïckwood Fïeld in Birminghäm, Äläbämä, the förmër hôme of the Negërö leägues' Birminghäm Bläck Bäröns, önë däy äfter Jünëtëenth.\n",
            "Temporal: In the summer of '24, a most singular event transpired: a Major League Baseball exhibition, \"MLB at Rickwood Field: A Tribute to the Negro Leagues,\" was staged between the San Francisco Giants of the National League's Western division and the St. Louis Cardinals of the Central, on the twenty-first day of June, at the venerable Rickwood Field in Birmingham, Alabama, erstwhile home of the Birmingham Black Barons, in commemoration of the Juneteenth observance.\n"
          ]
        },
        {
          "output_type": "stream",
          "name": "stderr",
          "text": [
            "\r 32%|███▏      | 16/50 [02:40<07:34, 13.36s/it]"
          ]
        },
        {
          "output_type": "stream",
          "name": "stdout",
          "text": [
            "\n",
            "Processing sentence 17/50\n",
            "Original: The Vans US Open of Surfing 2015 was an event of the Association of Surfing Professionals for 2015 ASP World Tour. This event was held from July 27 to August 2 in Huntington Beach, California, United States. The women's tournament was won by Johanne Defay of France, who beat Australian Sally Fitzgibbons in the final. The winner of the men's tournament was Hiroto Ohhara\n",
            "Generating domain fusion perturbation...\n",
            "Generating lexical perturbation...\n",
            "Generating temporal perturbation...\n",
            "Domain Fusion: The Vans US Open of Surfing 2015 was a delicately layered pastry of the Association of Surfing Professionals for 2015 ASP World Tour, with the main ingredients of competition held from July 27 to August 2 in Huntington Beach, California, United States, and the women's tournament was won by Johanne Defay of France, who whipped up a victory over Australian Sally Fitzgibbons in the final, while Hiroto Ohhara was the master chef of the men's tournament.\n",
            "Lexical: Thë Vâns US Opën of Surfïng 2015 wâs ân évent of thë Associâtiôn of Surfïng Profëssionâls for 2015 ASP Wörlð Tour. Thïs évent wâs hëld from Jûly 27 to Âugust 2 în Hûntington Bëäch, Câlifornïâ, Ünïtëd Stâtës. Thë wômën's tôurnâmënt wâs wôn by Jôhannée Défây of Frânçe, whô béât Austrâliân Sâlly Fîtzhgibbôns în thë finâl. Thë wînnër of thë mên's tôurnâmënt wâs Hîrôtô Ôhhârâ.\n",
            "Temporal: In days of yore, the 2015 Vans US Open of Surfing, a most esteemed event on the Association of Surfing Professionals' calendar, transpired from July 27 to August 2 in the sun-kissed Huntington Beach, California, United States. It was during this gathering that the fair Johanne Defay of France emerged victorious in the women's tournament, besting the valiant Sally Fitzgibbons of Australia in the final contest. Meanwhile, the men's title was claimed by the accomplished Hiroto Ohhara.\n"
          ]
        },
        {
          "output_type": "stream",
          "name": "stderr",
          "text": [
            "\r 34%|███▍      | 17/50 [02:55<07:30, 13.66s/it]"
          ]
        },
        {
          "output_type": "stream",
          "name": "stdout",
          "text": [
            "\n",
            "Processing sentence 18/50\n",
            "Original: The 2016 Pac-12 Football Championship Game was played on Friday, December 2, 2016 at Levi's Stadium in Santa Clara, California to determine the champion of the Pac-12 Conference in football for the 2016 season. It was the sixth football championship game in Pac-12 Conference history. The game featured the South Division champion Colorado Buffaloes against the North Division champion Washington Huskies. Washington defeated Colorado\n",
            "Generating domain fusion perturbation...\n",
            "Generating lexical perturbation...\n",
            "Generating temporal perturbation...\n",
            "Domain Fusion: The 2016 Pac-12 Football Championship Game was the masterfully crafted bouillabaisse of the season, simmering on Friday, December 2, 2016 at Levi's Stadium in Santa Clara, California, where the South Division champion Colorado Buffaloes and the North Division champion Washington Huskies were the key ingredients, with Washington emerging as the savory winner.\n",
            "Lexical: Thë 2016 Päc-12 Football Championship Gäme wäs played on Frïday, Déçëmbër 2, 2016 at Lëvi's Städiüm in Säntä Clärä, Cälifornïä to détermïnë thë chämpïon of thë Päc-12 Confërence in footbäll for thë 2016 sæson. It wäs thë sïxth footbäll chämpïonshïp Gäme in Päc-12 Confërence hïstory. Thë Gäme featürëd thë Süth Divïsïon chämpïon Colorädo Büffälös ägäïnst thë Nöorth Divïsïon chämpïon Wäshïngtön Hüskiës. Wäshïngtön déféätëd Colorädo.\n",
            "Temporal: In days of yore, the championship contest of the Pac-12 Conference, a spectacle of gridiron prowess, took place on a Friday, the second day of December, in the year of our Lord two thousand and sixteen, at Levi's Stadium, situated in the fair city of Santa Clara, California, to ascertain the champion of the Pac-12 Conference in the realm of football for that auspicious season, marking the sixth such championship game in the storied annals of the Pac-12 Conference. The contest pitted the South Division champion, the stalwart Colorado Buffaloes, against the North Division champion, the valiant Washington Huskies. In the end, the Washington Huskies emerged victorious over their Colorado foes.\n"
          ]
        },
        {
          "output_type": "stream",
          "name": "stderr",
          "text": [
            "\r 36%|███▌      | 18/50 [03:08<07:18, 13.70s/it]"
          ]
        },
        {
          "output_type": "stream",
          "name": "stdout",
          "text": [
            "\n",
            "Processing sentence 19/50\n",
            "Original: Jake Paul vs. Mike Tyson is an upcoming professional boxing match between YouTuber-turned-professional boxer Jake Paul and former undisputed heavyweight world champion Mike Tyson. The bout is scheduled for November 15, 2024 at the AT&T Stadium in Arlington, Texas. The event will be streamed globally on Netflix. Originally, the bout was scheduled to take place on July 20, but was postponed due to Tyson\n",
            "Generating domain fusion perturbation...\n",
            "Generating lexical perturbation...\n",
            "Generating temporal perturbation...\n",
            "Domain Fusion: Jake Paul vs. Mike Tyson is an upcoming professional boxing match between YouTuber-turned-professional boxer Jake Paul and former undisputed heavyweight world champion Mike Tyson, a bout that's been carefully crafted like a layered pastry, with each fighter bringing their unique ingredients to the ring, scheduled to take place on November 15, 2024 at the AT&T Stadium in Arlington, Texas, a venue as expansive as a banquet hall, and will be served globally on Netflix.\n",
            "Lexical: Jäke Päul vs. Mikë Tyson is an upcöming professiönal boxing match bétwéen YöuTüber-turned-professiönal boxer Jäke Päul and förmër undispüted heavyweight wörld champion Mikë Tyson. Thë bout is schéduléd för Novémber 15, 2024 at thë AT&T Stadiüm in Arlingtön, Texäs. Thë évënt will bé stréäméd glöbally ön Nëtflix. Origïnally, thë bout wäs schéduléd tö täke plâce ön Jüly 20, but wäs pöstponéd düe tö Tyson.\n",
            "Temporal: In the autumn of 2024, a most intriguing spectacle was slated to transpire, as the erstwhile YouTube sensation, Jake Paul, was to face off against the venerable Mike Tyson, a former heavyweight champion of the world, in a professional boxing match at the AT&T Stadium in Arlington, Texas, with the event to be broadcast globally via the esteemed Netflix platform.\n"
          ]
        },
        {
          "output_type": "stream",
          "name": "stderr",
          "text": [
            "\r 38%|███▊      | 19/50 [03:23<07:11, 13.93s/it]"
          ]
        },
        {
          "output_type": "stream",
          "name": "stdout",
          "text": [
            "\n",
            "Processing sentence 20/50\n",
            "Original: The 2015 Weymouth and Portland Borough Council election took place on 7 May 2015 to elect 12 members of Weymouth and Portland Borough Council in England. This was on the same day as the 2015 general election. The elections saw the Conservative Party gain 3 seats and become the largest party on the council with 14 seats, but without an overall majority. The Labour\n",
            "Generating domain fusion perturbation...\n",
            "Generating lexical perturbation...\n",
            "Generating temporal perturbation...\n",
            "Domain Fusion: The 2015 Weymouth and Portland Borough Council election was the perfect blend of ingredients, taking place on 7 May 2015 to elect 12 members of Weymouth and Portland Borough Council in England, a delicate pastry layered with the 2015 general election. This recipe saw the Conservative Party whip up 3 seats and become the largest party on the council with 14 seats, but without an overall majority, leaving the Labour party with a taste of defeat.\n",
            "Lexical: The 2015 Wëymouth and Pörtréal Borough Council élection took place on 7 May 2015 to élect 12 membërs of Wëymouth and Pörtréal Borough Council in Ëngland. This was on the same day as the 2015 général élection. The éléctions saw the Conservâtive Party gain 3 séats and become the largest party on the council with 14 séats, but without an ovërall majority. The Laböur.\n",
            "Temporal: In the annals of time, a notable event transpired on the seventh day of May, in the year of our Lord two thousand and fifteen, when the denizens of Weymouth and Portland Borough Council in England convened to elect twelve esteemed members to their governing body, coinciding with the general election of that same year. It was on this day that the Conservative Party made notable gains, securing three seats and thereby becoming the largest faction on the council, boasting fourteen seats, albeit shy of a decisive majority. The Labour Party, meanwhile, looked on.\n"
          ]
        },
        {
          "output_type": "stream",
          "name": "stderr",
          "text": [
            "\r 40%|████      | 20/50 [03:35<06:41, 13.38s/it]"
          ]
        },
        {
          "output_type": "stream",
          "name": "stdout",
          "text": [
            "\n",
            "Processing sentence 21/50\n",
            "Original: Following the first round of the 2024 French legislative election on 30 June 2024, runoff elections in each constituency where no candidate received a vote share greater than 50 percent were scheduled for 7 July. Candidates permitted to stand in the runoff elections needed to either come in first or second place in the first round or achieve more than 12.5 percent of the\n",
            "Generating domain fusion perturbation...\n",
            "Generating lexical perturbation...\n",
            "Generating temporal perturbation...\n",
            "Domain Fusion: Following the first proofing of the 2024 French legislative election on 30 June 2024, runoff elections in each constituency where no candidate achieved a flavorful blend of votes greater than 50 percent were scheduled for 7 July, much like a chef carefully layers ingredients in a croquembouche, ensuring a delicate balance of flavors.\n",
            "Lexical: Following þe firſt round of þe 2024 French legiſlative election on 30 June 2024, runoff electionſ in each conſtituency where no candidate received a vote ſhare greater than 50 perçent were ſcheduled for 7 July. Candidateſ permitted to ſtand in þe runoff electionſ needed to either come in firſt or ſecond place in þe firſt round or achieve more than 12.5 perçent of þe.\n",
            "Temporal: In the aftermath of the inaugural round of the 2024 French legislative election, which transpired on the thirtieth day of June in the year of our Lord two thousand and twenty-four, those constituencies wherein no candidate had garnered a vote share exceeding fifty percent were slated to hold runoff elections on the seventh day of July.\n"
          ]
        },
        {
          "output_type": "stream",
          "name": "stderr",
          "text": [
            "\r 42%|████▏     | 21/50 [03:48<06:24, 13.24s/it]"
          ]
        },
        {
          "output_type": "stream",
          "name": "stdout",
          "text": [
            "\n",
            "Processing sentence 22/50\n",
            "Original: On 11 March 2024, a LATAM Airlines Boeing 787-9 operating as LATAM Airlines Flight 800, flying a scheduled international passenger flight from Sydney, Australia to Santiago, Chile, with a stopover at Auckland, New Zealand, experienced an in-flight upset around two hours into the first leg of the flight. Of the 272 people on board, 50 were injured, with 12 taken to hospital after landing\n",
            "Generating domain fusion perturbation...\n",
            "Generating lexical perturbation...\n",
            "Generating temporal perturbation...\n",
            "Domain Fusion: On 11 March 2024, a delicate soufflé of a LATAM Airlines Boeing 787-9, operating as LATAM Airlines Flight 800, flying a scheduled international passenger flight from Sydney, Australia to Santiago, Chile, with a stopover at Auckland, New Zealand, experienced a turbulent mixing around two hours into the first leg of the flight, leaving 50 passengers overcooked and 12 requiring a gentle transfer to hospital after landing.\n",
            "Lexical: Ön 11 Märçh 2024, ä LATÄM Äirlines Boëing 787-9 operäting äs LATÄM Äirlines Flïght 800, flÿing ä schedüled înternätiönäl pässängër flïght from Sÿdney, Austrälïä to Säntïägö, Chïlë, wïth ä stöpövër ät Äückländ, Nëw Zëäländ, expëriëncëd än în-flïght üpset äröund twö höürs întö thë først lég öf thë flïght. Öf thë 272 pëöplë ön böärd, 50 wërë injürëd, wïth 12 täkën tö hôspïtäl äftër ländïng.\n",
            "Temporal: In the spring of a bygone year, a grand aerial conveyance, namely a LATAM Airlines Boeing 787-9, operating as LATAM Airlines Flight 800, embarked upon a scheduled international passenger journey from Sydney, Australia to Santiago, Chile, with a brief sojourn at Auckland, New Zealand, and encountered an in-flight perturbation roughly two hours into the inaugural leg of its voyage, an event that would leave 50 of the 272 souls on board injured, with 12 requiring hospitalization upon landing.\n"
          ]
        },
        {
          "output_type": "stream",
          "name": "stderr",
          "text": [
            "\r 44%|████▍     | 22/50 [04:01<06:12, 13.32s/it]"
          ]
        },
        {
          "output_type": "stream",
          "name": "stdout",
          "text": [
            "\n",
            "Processing sentence 23/50\n",
            "Original: On 20 March 2016, a Tata Hispano passenger bus carrying Erasmus students from several countries came from the Fallas Festival in Valencia to Barcelona collided with a car on the Autopista AP-7 motorway, near the town of Freginals. Thirteen died – all of them young female students. Emergency services confirmed that the students on the affected bus were from 20 countries or territories: France,\n",
            "Generating domain fusion perturbation...\n",
            "Generating lexical perturbation...\n",
            "Generating temporal perturbation...\n",
            "Domain Fusion: As the rich flavors of cultural diversity blended, a Tata Hispano passenger bus carrying a delicate bouquet of Erasmus students from several countries, fresh from the vibrant Fallas Festival in Valencia, collided with a car on the Autopista AP-7 motorway, near the town of Freginals, leaving a tragic recipe of thirteen young female students.\n",
            "Lexical: Ön 20 Märçh 2016, ä Tätä Hispano pässängär bus cärrying Eräsmus stüdents from séväräl countriäs came from thë Fälläs Fëstival in Välëncia to Bärçëlöna collidëd with ä car ön thë Autopistä AP-7 mötörwäy, näär thë töwn of Frëginäls. Thirtëën diëd – äll of thëm yöung fëmälë stüdents. Emërjëncy sërviçës confirmd thät thë stüdents ön thë äffëctëd bus wërë from 20 countriäs or tërritoriäs: Fränçe,.\n",
            "Temporal: In days of yore, a calamitous event befell a Tata Hispano passenger bus, conveying Erasmus students from diverse lands, as it wended its way from the vibrant Fallas Festival in Valencia to Barcelona, only to collide with a car on the Autopista AP-7 motorway, in the vicinity of Freginals. Thirteen perished – all of them fair and youthful female scholars. The emergency services did confirm that the students on the ill-fated bus hailed from twenty countries or territories, including France.\n"
          ]
        },
        {
          "output_type": "stream",
          "name": "stderr",
          "text": [
            "\r 46%|████▌     | 23/50 [04:15<06:00, 13.34s/it]"
          ]
        },
        {
          "output_type": "stream",
          "name": "stdout",
          "text": [
            "\n",
            "Processing sentence 24/50\n",
            "Original: The 2016 Vuelta a Burgos was a men's road bicycle race which was held from 2 August to 6 August 2016. It was the 38th edition of the Vuelta a Burgos stage race, which was established in 1946. The race was rated as a 2.HC event and forms part of the 2016 UCI Europe Tour. The race was made up of five stages including\n",
            "Generating domain fusion perturbation...\n",
            "Generating lexical perturbation...\n",
            "Generating temporal perturbation...\n",
            "Domain Fusion: The 2016 Vuelta a Burgos was a men's road bicycle race which was carefully layered, like a croquembouche, from 2 August to 6 August 2016, with each stage blending seamlessly into the next, much like the flavors in a bouillabaisse.\n",
            "Lexical: Thë 2016 Vuëltä a Burgös wäs a menn's road bicyclë racë which wäs held from 2 Äugust to 6 Äugust 2016. It wäs the 38th édition of the Vuëltä a Burgös stägë racë, which wäs estäblished in 1946. The racë wäs ratéd as a 2.HC événement and forms pärt of the 2016 UCI Europë Tour. The racë wäs mäde up of fünf stäges including.\n",
            "Temporal: In days of yore, the Vuelta a Burgos of 2016 was a grand men's road bicycle race, held from the second to the sixth of August in that same year, marking the thirty-eighth iteration of the esteemed stage race, first established in the year of our Lord nineteen hundred and forty-six, rated a 2.HC event and forming part of the UCI Europe Tour of that season, comprising five stages in its entirety.\n"
          ]
        },
        {
          "output_type": "stream",
          "name": "stderr",
          "text": [
            "\r 48%|████▊     | 24/50 [04:28<05:44, 13.24s/it]"
          ]
        },
        {
          "output_type": "stream",
          "name": "stdout",
          "text": [
            "\n",
            "Processing sentence 25/50\n",
            "Original: The 2024 UEFA Women's Under-19 Championship will be the 21st edition (25th in U18 and U19) of the UEFA Women's Under-19 Championship, the annual international youth football championship organised by UEFA for the women's under-19 national teams of Europe. Lithuania will host the tournament. A total of eight teams are playing in the tournament, with players born on or after 1 January 2005 eligible\n",
            "Generating domain fusion perturbation...\n",
            "Generating lexical perturbation...\n",
            "Generating temporal perturbation...\n",
            "Domain Fusion: The 2024 UEFA Women's Under-19 Championship will be the masterfully crafted 21st edition (25th in U18 and U19) of the UEFA Women's Under-19 Championship, the annual international youth football championship orchestrated by UEFA, where eight teams blend their skills, with players born on or after 1 January 2005 serving as the essential ingredients, and Lithuania providing the perfect hosting sauce.\n",
            "Lexical: Thë 2024 ÜEFA Wōmën's Undër-19 Chämpionship will bé thë 21st édition (25th în Ü18 änd Ü19) of thë ÜEFA Wōmën's Undër-19 Chämpionship, thë ännuäl internätionäl yôuth fôötball chämpionship örgäniséd by ÜEFA fôr thë wōmën's undër-19 nätiônal tëâms of Eurôpe. Lithüâniâ will höst thë tôurnâmënt. Ä tôtal of êight tëâms ärë pläying în thë tôurnâmënt, with pläyërs bôrn ôn ôr äftër 1 Jânüâry 2005 êligiblë.\n",
            "Temporal: In the forthcoming year of our Lord twenty-four, the twenty-first edition of the UEFA Women's Under-19 Championship, a most esteemed international youth football tournament, shall take place, marking the twenty-fifth iteration of this esteemed competition in the realm of under-18 and under-19 football, wherein the fair nation of Lithuania shall play host to this grand spectacle, featuring a coterie of eight teams, comprising players born in or after the year of our Lord two thousand and five.\n"
          ]
        },
        {
          "output_type": "stream",
          "name": "stderr",
          "text": [
            "\r 50%|█████     | 25/50 [04:41<05:33, 13.34s/it]"
          ]
        },
        {
          "output_type": "stream",
          "name": "stdout",
          "text": [
            "\n",
            "Processing sentence 26/50\n",
            "Original: The 2024 Swindon Borough Council election took place on 2 May 2024 to elect councillors to Swindon Borough Council in Wiltshire, England. The elections was on the same day as other local elections across England. A third of seats were contested. At the previous council election, Labour gained an overall majority control of Swindon Borough Council after gaining 9 seats, with the Conservatives losing\n",
            "Generating domain fusion perturbation...\n",
            "Generating lexical perturbation...\n",
            "Generating temporal perturbation...\n",
            "Domain Fusion: The 2024 recipe for Swindon Borough Council's governance took shape on 2 May 2024, as voters carefully mixed a third of the council's seats, blending Labour's rising flavours with the Conservatives' dwindling ingredients to elect a new batch of councillors to the council's menu in Wiltshire, England, on the same day as other local elections across England simmered in the background.\n",
            "Lexical: Thë 2024 Swindön Borough Cöuncil élection took placë on 2 Mãy 2024 to éléct cöuncillors to Swindön Borough Cöuncil in Wiltshîre, Englând. Thé élections wäs on thë samë day as othër local élections acröss Englând. A thrëd of sëats wëre contestëd. At thë prëvious cöuncil élection, Laböur gainëd an ovërall majörity contröl of Swindön Borough Cöuncil aftër gainïng 9 sëats, with thë Conservâtivës lösing.\n",
            "Temporal: In the year of our Lord two thousand and twenty-four, a most significant event transpired, namely the Swindon Borough Council election, which took place on the second day of May, wherein councillors were elected to serve on the esteemed Swindon Borough Council in the fair county of Wiltshire, England.\n"
          ]
        },
        {
          "output_type": "stream",
          "name": "stderr",
          "text": [
            "\r 52%|█████▏    | 26/50 [04:54<05:18, 13.25s/it]"
          ]
        },
        {
          "output_type": "stream",
          "name": "stdout",
          "text": [
            "\n",
            "Processing sentence 27/50\n",
            "Original: The 2016 Bojangles' Southern 500, the 67th running of the event, was a NASCAR Sprint Cup Series stock car race that was held on September 4, 2016 at Darlington Raceway in Darlington, South Carolina. Contested over 367 laps on the 1.366-mile (2.198 km) egg-shaped oval, it was the 25th race of the 2016 NASCAR Sprint Cup Series season. Furniture Row Racing's Martin Truex Jr.\n",
            "Generating domain fusion perturbation...\n",
            "Generating lexical perturbation...\n",
            "Generating temporal perturbation...\n",
            "Domain Fusion: The 2016 Bojangles' Southern 500, the 67th running of the event, was a NASCAR Sprint Cup Series stock car race that was carefully layered like a croquembouche, with each lap a delicate ingredient, held on September 4, 2016 at Darlington Raceway in Darlington, South Carolina, a rich culinary backdrop.\n",
            "Lexical: The 2016 Bojängle's Süthern 500, the 67th rünning of the évent, was a NÄSCAR Sprint Cup Séries stock car ráce that was held on Séptember 4, 2016 at Därlington Räceway in Därlington, Süth Carolina. Contésted över 367 láps on the 1.366-mile (2.198 km) egg-shäped óval, it was the 25th ráce of the 2016 NÄSCAR Sprint Cup Séries séason. Fürniture Row Räcing's Märtin Truex Jr..\n",
            "Temporal: In the autumn of 2016, the venerable Darlington Raceway in Darlington, South Carolina, played host to the 67th iteration of the Bojangles' Southern 500, a NASCAR Sprint Cup Series stock car race that unfolded over a grueling 367 laps on the 1.366-mile egg-shaped oval, marking the 25th contest of that year's NASCAR Sprint Cup Series season, with Furniture Row Racing's Martin Truex Jr. figuring prominently in the proceedings.\n"
          ]
        },
        {
          "output_type": "stream",
          "name": "stderr",
          "text": [
            "\r 54%|█████▍    | 27/50 [05:07<05:02, 13.15s/it]"
          ]
        },
        {
          "output_type": "stream",
          "name": "stdout",
          "text": [
            "\n",
            "Processing sentence 28/50\n",
            "Original: The 2016 United States House of Representatives elections in Nebraska were held on November 8, 2016, to elect the three U.S. representatives from the state of Nebraska, one from each of the state's three congressional districts. The elections coincided with the 2016 U.S. presidential election, as well as other elections to the House of Representatives, elections to the United States Senate and various state\n",
            "Generating domain fusion perturbation...\n",
            "Generating lexical perturbation...\n",
            "Generating temporal perturbation...\n",
            "Domain Fusion: The 2016 United States House of Representatives elections in Nebraska were the master recipe, carefully layering three congressional districts, one from each, to elect a trio of U.S. representatives, a flavorful blend to complement the 2016 U.S. presidential election, as well as other elections to the House of Representatives, elections to the United States Senate and various state, all served up on November 8, 2016.\n",
            "Lexical: Thë 2016 Ünïted States Höuse of Representatives élections in Nebräskä were héld on Novëmber 8, 2016, to élect the thrée U.S. reprësentatives from the stäte of Nebräskä, one from each of the stäte's thrée congressional distrïcts. The élections coïncïded with the 2016 U.S. prësïdential élection, as wëll as othër élections to the Höuse of Representatives, élections to the Ünïted States Sënäte and värïous stäte.\n",
            "Temporal: In the autumn of 2016, a notable electoral contest transpired in the state of Nebraska, wherein the citizenry convened to elect three esteemed representatives to the United States Congress, one from each of the three congressional districts within the state's boundaries, coinciding with the quadrennial presidential election and other electoral contests for the national legislature and various state offices.\n"
          ]
        },
        {
          "output_type": "stream",
          "name": "stderr",
          "text": [
            "\r 56%|█████▌    | 28/50 [05:21<04:55, 13.42s/it]"
          ]
        },
        {
          "output_type": "stream",
          "name": "stdout",
          "text": [
            "\n",
            "Processing sentence 29/50\n",
            "Original: The 2024 Ohio Democratic presidential primary took place on March 19, 2024, as part of the Democratic Party primaries for the 2024 presidential election. 143 delegates to the Democratic National Convention will be allocated to presidential candidates. The contest was held alongside Arizona, Illinois, and Kansas. President Biden won every county; but, despite having already dropped out, Dean Phillips won three delegates. Congressman Phillips\n",
            "Generating domain fusion perturbation...\n",
            "Generating lexical perturbation...\n",
            "Generating temporal perturbation...\n",
            "Domain Fusion: The 2024 Ohio Democratic presidential primary was carefully crafted on March 19, 2024, like a layered pastry, as part of the Democratic Party primaries for the 2024 presidential election, where 143 delegates to the Democratic National Convention were the key ingredients allocated to presidential candidates, with President Biden savoring every county, but, despite having already dropped out, Dean Phillips managed to whip up three delegates.\n",
            "Lexical: Thë 2024 Öhio Démoçratic prësidential primäry tôök pläce ön Märch 19, 2024, äs pärt öf thë Démoçratic Pärtÿ primäriës för thë 2024 prësidential élëction. 143 délégaâtës tô thë Démoçratic Nätiönäl Cönväntiön wïll bé ällokäted tô prësidential cândidätës. Thë côntëst wäs hëld älöngsidë Ärizonä, Illinöis, änd Känäs. Prësident Bïdën wön êvëry côunty; but, dëspitë hâving âlrëady dröppt ôût, Déän Phïllïps wön thrëe délégaâtës. Côngrëssmän Phïllïps.\n",
            "Temporal: In the annals of American political history, it is recorded that the 2024 Ohio Democratic presidential primary transpired on a fateful day, March 19, 2024, as part of the grand tapestry of Democratic Party primaries preceding the 2024 presidential election, wherein 143 delegates to the Democratic National Convention were allocated to presidential aspirants.\n"
          ]
        },
        {
          "output_type": "stream",
          "name": "stderr",
          "text": [
            "\r 58%|█████▊    | 29/50 [05:35<04:43, 13.50s/it]"
          ]
        },
        {
          "output_type": "stream",
          "name": "stdout",
          "text": [
            "\n",
            "Processing sentence 30/50\n",
            "Original: The February 14–15, 2015 North American blizzard was a potent blizzard that occurred in the Northeast United States. The storm dropped up to 25 inches (64 cm) of snow in the regions already hit hard with snow from the past 2 weeks. The storm system also brought some of the most coldest temperatures to the Northeast in its wake. The Blizzard was Dubbed Winter\n",
            "Generating domain fusion perturbation...\n",
            "Generating lexical perturbation...\n",
            "Generating temporal perturbation...\n",
            "Domain Fusion: The February 14–15, 2015 North American storm system was a masterfully layered blizzard that occurred in the Northeast United States, with a recipe of heavy snowfall and icy temperatures that mixed together to drop up to 25 inches of snow in the regions already hit hard with a frosty foundation from the past 2 weeks, and in its wake, brought some of the most bitter cold temperatures to the Northeast, a true culinary masterpiece dubbed Winter.\n",
            "Lexical: Thë Februäry 14–15, 2015 North Amërican blizzärd was ä potënt blizzärd thät occurrëd in thë Nötheast Ünited Stätës. Thë storm dröppëd up to 25 inchës (64 cm) of snöw in thë régions alrëady hit hård with snöw from thë pást 2 wëëks. Thë storm systém also bröught somë of thë möst coldest tempëratures to thë Nötheast in its wâkë. Thë Blizzärd was Dubbëd Wintër.\n",
            "Temporal: In the winter of yesteryear, a formidable blizzard befell the Northeast United States on February 14-15, 2015, depositing up to 25 inches of snow upon regions already beset by heavy snowfalls in the preceding fortnight, and in its aftermath, brought some of the chilliest temperatures to the Northeast, earning the moniker Winter's Fury.\n"
          ]
        },
        {
          "output_type": "stream",
          "name": "stderr",
          "text": [
            "\r 60%|██████    | 30/50 [05:48<04:28, 13.42s/it]"
          ]
        },
        {
          "output_type": "stream",
          "name": "stdout",
          "text": [
            "\n",
            "Processing sentence 31/50\n",
            "Original: The 2016 Big Ten Football Championship Game was played December 3, 2016 at Lucas Oil Stadium in Indianapolis, Indiana. It was the sixth annual Big Ten Football Championship Game to determine the 2016 champion of the Big Ten Conference. The 2016 Big Ten Championship Game pitted the Wisconsin Badgers, champions of the West Division, who made its fourth appearance in six years in the\n",
            "Generating domain fusion perturbation...\n",
            "Generating lexical perturbation...\n",
            "Generating temporal perturbation...\n",
            "Domain Fusion: The 2016 Big Ten Football Championship Game was the masterfully crafted bouillon, simmered on December 3, 2016, at Lucas Oil Stadium in Indianapolis, Indiana, where the Wisconsin Badgers, champions of the West Division, brought their signature flavor, making its fourth appearance in six years in the rich broth of the championship.\n",
            "Lexical: Thë 2016 Big Ten Football Championship Gäme was played Déçember 3, 2016 at Lucäs Öil Stadïum in Indianäpolïs, Indïäna. It wäs the sixth ännual Big Ten Football Championship Gäme to determïne the 2016 chämpion of the Big Ten Confërence. The 2016 Big Ten Chämpionship Gäme pïtted the Wïsconsïn Bädgers, chämpions of the West Divïsion, who mäde its fourth äppeärance in six yeärs in the.\n",
            "Temporal: In days of yore, the sixth annual Big Ten Football Championship Game, a spectacle that would determine the 2016 champion of the Big Ten Conference, took place on December 3, 2016, at Lucas Oil Stadium in Indianapolis, Indiana, pitting the Wisconsin Badgers, stalwart champions of the West Division, who had made their fourth appearance in six years in this esteemed contest.\n"
          ]
        },
        {
          "output_type": "stream",
          "name": "stderr",
          "text": [
            "\r 62%|██████▏   | 31/50 [06:00<04:06, 12.96s/it]"
          ]
        },
        {
          "output_type": "stream",
          "name": "stdout",
          "text": [
            "\n",
            "Processing sentence 32/50\n",
            "Original: The 2015 Epping Forest District Council election took place on 7 May 2015 to elect members of Epping Forest District Council in England. This was on the same day as other local elections. This election marks the last time a Labour councillor sat in the chamber after Peter Gode of Shelley stood down - a dramatic decline following Labour being the largest party in\n",
            "Generating domain fusion perturbation...\n",
            "Generating lexical perturbation...\n",
            "Generating temporal perturbation...\n",
            "Domain Fusion: The 2015 Epping Forest District Council election, a delicate soufflé of local politics, took place on 7 May 2015 to elect members of Epping Forest District Council in England, where Labour's once-rich flavour had been simmering down, finally losing its savour as Peter Gode of Shelley stood down, marking a dramatic decline following Labour being the largest party in the chamber.\n",
            "Lexical: Thë 2015 Ëpping Förëst Distriçt Cöuncil élection töök pläce ön 7 Mäy 2015 tö élëct mëmbërs öf Ëpping Förëst Distriçt Cöuncil în Ëngländ. Thïs wäs ön thë sämë däy äs öthër löcäl élëctions. Thïs élëction märks thë läst timë ä Läbour cöuncillör sæt în thë chämber äftër Pëtër Gödë öf Shëlley stööd dówn - ä drämâtïc déclïnë föllöwing Läbour béïng thë lärgëst pärtÿ în.\n",
            "Temporal: In the annals of Epping Forest District Council, a notable election transpired on the seventh of May, 2015, wherein members were elected to serve the esteemed council in England, coinciding with other local electoral contests of that era, marking the final occasion a Labour councillor occupied a seat in the chamber, following the departure of Peter Gode of Shelley, a poignant decline from the days when Labour held sway as the largest party.\n"
          ]
        },
        {
          "output_type": "stream",
          "name": "stderr",
          "text": [
            "\r 64%|██████▍   | 32/50 [06:14<03:56, 13.16s/it]"
          ]
        },
        {
          "output_type": "stream",
          "name": "stdout",
          "text": [
            "\n",
            "Processing sentence 33/50\n",
            "Original: The tornado outbreak of April 8–9, 2015 was a relatively small but damaging outbreak of tornadoes that occurred in parts of the Great Plains and in the Midwestern United States. 27 tornadoes were confirmed during the two days, most of them weak, however a select few of them were powerful and damaging. By far the most significant tornado of the outbreak was a very\n",
            "Generating domain fusion perturbation...\n",
            "Generating lexical perturbation...\n",
            "Generating temporal perturbation...\n",
            "Domain Fusion: The recipe for disaster of April 8-9, 2015 was a delicate blend of ingredients, a relatively small but flavorful mix of tornadoes that occurred in parts of the Great Plains and in the Midwestern United States, with 27 twisters confirmed during the two days, most of them simmering on low heat, however a select few of them were robust and savory, and by far the most significant tornado of the outbreak was a rich, velvety masterpiece.\n",
            "Lexical: The tôrnado outbreak of Aprïl 8–9, 2015 was a relativëly small but damaging outbreak of tôrnadoes that occûrred in parts of the Grëat Plains and in the Midwëstern United States. 27 tôrnadoes were confirmëd during the twô days, most of them wëak, however a sëlect few of them were powërful and damaging. By far the most significänt tôrnado of the outbreak was a very.\n",
            "Temporal: In the annals of meteorological history, a most singular tornado outbreak transpired on the eighth and ninth of April, 1815, besetting the Great Plains and Midwestern United States with a relatively modest yet destructive array of whirlwinds, 27 of which were duly documented over the course of those two fateful days, the majority being of a feeble nature, although a select few proved to be formidable and calamitous, with one tornado standing out as particularly egregious.\n"
          ]
        },
        {
          "output_type": "stream",
          "name": "stderr",
          "text": [
            "\r 66%|██████▌   | 33/50 [06:26<03:38, 12.87s/it]"
          ]
        },
        {
          "output_type": "stream",
          "name": "stdout",
          "text": [
            "\n",
            "Processing sentence 34/50\n",
            "Original: The 2024 Montana's Brier, Canada's national men's curling championship, was held from March 1 to 10 at the Brandt Centre in Regina, Saskatchewan. Team Canada, who was skipped by Brad Gushue won their third straight Brier Tankard and represented Canada at the 2024 World Men's Curling Championship at the KSS Sports Complex in Schaffhausen, Switzerland where they won the silver medal. This was the\n",
            "Generating domain fusion perturbation...\n",
            "Generating lexical perturbation...\n",
            "Generating temporal perturbation...\n",
            "Domain Fusion: The 2024 Montana's Brier, a richly layered championship, was carefully crafted from March 1 to 10 at the Brandt Centre in Regina, Saskatchewan, where Team Canada, expertly mixed by skip Brad Gushue, whipped up their third straight Brier Tankard and served as Canada's representative at the 2024 World Men's Curling Championship at the KSS Sports Complex in Schaffhausen, Switzerland, where they took home the silver medal.\n",
            "Lexical: Thë 2024 Møntana's Briër, Canada's nätiönäl men's curlïng chämpionship, wäs hëld från Märch 1 tö 10 at thë Brändt Cëntre în Rëgina, Saskätchëwän. Tëäm Canada, whö wäs skïppéd by Bräd Güshué wön thëïr thïrd sträight Briër Tänkärd änd rëprësëntëd Canada at thë 2024 Wörld Mën's Curlïng Chämpionship at thë KSS Spörts Cömplëx în Schäffhäusën, Swïtzërland whërë thëy wön thë silvër mëdäl. Thïs wäs thë.\n",
            "Temporal: In the annals of time, it is recorded that the 2024 Montana's Brier, a most esteemed national men's curling championship of Canada, convened from the first day of March to the tenth at the venerable Brandt Centre in Regina, Saskatchewan, wherein Team Canada, led by the indefatigable Brad Gushue, secured their third consecutive Brier Tankard, thereby earning the privilege of representing their nation at the 2024 World Men's Curling Championship, held at the KSS Sports Complex in Schaffhausen, Switzerland, whereupon they claimed the silver medal.\n"
          ]
        },
        {
          "output_type": "stream",
          "name": "stderr",
          "text": [
            "\r 68%|██████▊   | 34/50 [06:41<03:33, 13.36s/it]"
          ]
        },
        {
          "output_type": "stream",
          "name": "stdout",
          "text": [
            "\n",
            "Processing sentence 35/50\n",
            "Original: The 2024 Women's Oceania Indoor World Cup qualifier was a three-game series between Australia and New Zealand to determine the Oceanian participant of the 2025 Women's FIH Indoor Hockey World Cup. The tournament was held at the National Hockey Centre in Canberra, Australia from 24 to 26 June 2024. Australia won the series by winning one and drawing two of the three matches which\n",
            "Generating domain fusion perturbation...\n",
            "Generating lexical perturbation...\n",
            "Generating temporal perturbation...\n",
            "Domain Fusion: The 2024 Women's Oceania Indoor World Cup qualifier was a richly layered tournament, with Australia and New Zealand as the main ingredients, blending together in a three-game series to determine the Oceanian participant of the 2025 Women's FIH Indoor Hockey World Cup, the final dish being served at the National Hockey Centre in Canberra, Australia from 24 to 26 June 2024, with Australia emerging as the master chef, winning one and drawing two of the three matches to claim the recipe for success.\n",
            "Lexical: Thë 2024 Wömen's Oceania Indoor Wørld Cup qualifier wäs a thrée-gämë sériez between Austrälia and New Zeäländ to détermine thé Océanian participänt of thé 2025 Wömen's FIH Indoor Höckey Wørld Cup. Thë tournämënt wäs héld at thé Nätionäl Höckey Cëntre in Cänbërra, Austrälia from 24 to 26 Jünë 2024. Austrälia wön thë sériez by wïnning önë and dräwing twô of thé thrée mätchëz whïch.\n",
            "Temporal: In days of yore, a most thrilling contest took place, wherein the 2024 Women's Oceania Indoor World Cup qualifier saw Australia and New Zealand engage in a three-game series, the outcome of which would determine the Oceanian participant in the 2025 Women's FIH Indoor Hockey World Cup. This esteemed tournament was staged at the venerable National Hockey Centre in Canberra, Australia, over the course of three days, from the twenty-fourth to the twenty-sixth of June, 2024. Australia emerged victorious, having secured one win and two draws in the series.\n"
          ]
        },
        {
          "output_type": "stream",
          "name": "stderr",
          "text": [
            "\r 70%|███████   | 35/50 [06:54<03:21, 13.41s/it]"
          ]
        },
        {
          "output_type": "stream",
          "name": "stdout",
          "text": [
            "\n",
            "Processing sentence 36/50\n",
            "Original: IWRG Máscara vs. Máscara (August 2016) was a major professional wrestling event that was scripted and produced by the lucha libre wrestling company International Wrestling Revolution Group (IWRG; sometimes also referred to as Grupo Internacional Revolución in Spanish) that took place on August 3, 2016, in IWRG's home arena Arena Naucalpan in Naucalpan, State of Mexico, Mexico. In the main event of the show,\n",
            "Generating domain fusion perturbation...\n",
            "Generating lexical perturbation...\n",
            "Generating temporal perturbation...\n",
            "Domain Fusion: The IWRG Máscara vs. Máscara (August 2016) event was a richly layered production, scripted and seasoned by the lucha libre wrestling company International Wrestling Revolution Group (IWRG; sometimes also referred to as Grupo Internacional Revolución in Spanish), which took place on August 3, 2016, in IWRG's home arena Arena Naucalpan in Naucalpan, State of Mexico, Mexico, where the main event was the pièce de résistance of the show.\n",
            "Lexical: IWRG Máŝcara vs. Máŝcara (Äugust 2016) was a majör professional wrestling event that was scripted and produced by the lucha libre wrestling company Internationäl Wrestling Revolución Group (IWRG; sometimes also referred to as Grupo Internacional Revolución in Español) that took place on Äugust 3, 2016, in IWRG's home arena Ärena Naucalpan in Naucalpan, State of Méxiko, Méxiko. In the main évent of the show,.\n",
            "Temporal: In days of yore, a most notable professional wrestling spectacle, Máscara vs. Máscara, transpired on August 3, 1866, within the venerable Arena Naucalpan of Naucalpan, State of Mexico, Mexico, a bastion of the esteemed International Wrestling Revolution Group, which hath scripted and produced this grand event.\n"
          ]
        },
        {
          "output_type": "stream",
          "name": "stderr",
          "text": [
            "\r 72%|███████▏  | 36/50 [07:08<03:10, 13.63s/it]"
          ]
        },
        {
          "output_type": "stream",
          "name": "stdout",
          "text": [
            "\n",
            "Processing sentence 37/50\n",
            "Original: An election to all 40 seats on South Dublin County Council was held on 7 June 2024 as part of the 2024 Irish local elections. South Dublin is divided into 7 local electoral areas (LEAs) to elect councillors for a five-year term of office on the electoral system of proportional representation by means of the single transferable vote (PR-STV). There was a 41.4% voter\n",
            "Generating domain fusion perturbation...\n",
            "Generating lexical perturbation...\n",
            "Generating temporal perturbation...\n",
            "Domain Fusion: A richly layered electoral landscape, akin to a delicate pastry, was carefully crafted on 7 June 2024 as part of the 2024 Irish local elections, where South Dublin, a flavorful blend of 7 local electoral areas (LEAs), was divided to elect councillors for a five-year term of office on the electoral system of proportional representation by means of the single transferable vote (PR-STV), with a voter turnout as satisfying as a well-balanced recipe, reaching 41.4%.\n",
            "Lexical: Än ēlēction tō äll 40 sēäts ōn Sōuth Dublïn Cōunty Cōuncil wäs hēld ōn 7 Jūnë 2024 äs pärt ōf thë 2024 Īrïsh lōcäl ēlēctions. Sōuth Dublïn ïs dïvïdëd īntō 7 lōcäl ēlëctoräl ärëäs (LËÄs) tō ēlëct cōuncillōrs fōr ä fïvë-yëär tērm ōf ōffïcë ōn thë ēlëctoräl systëm ōf prōpōrtïōnäl rëprësëntätiōn by mëäns ōf thë sïnglë tränsfëräblë vōtë (PR-STV). Thërë wäs ä 41.4% vōtër.\n",
            "Temporal: In the annals of South Dublin's history, a notable election took place on a June day in 2024, wherein all 40 seats on the County Council were contested as part of the broader Irish local elections of that year. The county, divided into 7 local electoral areas, witnessed the election of councillors for a five-year term of office via the proportional representation system of single transferable votes. Voter turnout, as it happened, stood at 41.4%.\n"
          ]
        },
        {
          "output_type": "stream",
          "name": "stderr",
          "text": [
            "\r 74%|███████▍  | 37/50 [07:22<02:56, 13.61s/it]"
          ]
        },
        {
          "output_type": "stream",
          "name": "stdout",
          "text": [
            "\n",
            "Processing sentence 38/50\n",
            "Original: On the morning of 17 June 2024, 19-year-old Jay Slater, an apprentice bricklayer from Oswaldtwistle, Lancashire, disappeared on the island of Tenerife, Spain, after attempting to walk ten hours back to his accommodation as a result of missing a bus. Slater had attended a music festival in south Tenerife with two friends the day before his disappearance. As of 30 June 2024, the search\n",
            "Generating domain fusion perturbation...\n",
            "Generating lexical perturbation...\n",
            "Generating temporal perturbation...\n",
            "Domain Fusion: On the morning of 17 June 2024, 19-year-old Jay Slater, a delicate soufflé of a bricklayer from Oswaldtwistle, Lancashire, crumbled on the island of Tenerife, Spain, after attempting to navigate a recipe for disaster by walking ten hours back to his accommodation as a result of missing a key ingredient - the bus - and leaving him lost in the sauce.\n",
            "Lexical: Ön thé mørning øf 17 Jùne 2024, 19-yéar-öld Jay Slätér, an äpprentiçe brickläyér från Öswaldtwìstle, Làncashìre, dissäpéared ön thé îsland øf Ténérifé, Spàin, aftér attèmpting tö wàlk tën hòurs bäck tö his açcommödâtîön às à résült ôf missîng à bûs. Slätér häd atténdéd à müsic féstîvâl în søuth Ténérifé wîth twô frîénds thé dàÿ béføre his dissäpéarànce. Ås ôf 30 Jùne 2024, thé séàrch.\n",
            "Temporal: In the summer of '24, a young bricklayer by the name of Jay Slater, a lad of nineteen winters from Oswaldtwistle, Lancashire, vanished on the fair isle of Tenerife, in the dominion of Spain, after endeavouring to walk for ten hours to his lodgings, owing to the misfortune of missing his coach. Slater, in the company of two companions, had attended a grand musical fete in south Tenerife on the eve of his disappearance. As of the thirtieth day of June, '24, the search...\n"
          ]
        },
        {
          "output_type": "stream",
          "name": "stderr",
          "text": [
            "\r 76%|███████▌  | 38/50 [07:35<02:43, 13.64s/it]"
          ]
        },
        {
          "output_type": "stream",
          "name": "stdout",
          "text": [
            "\n",
            "Processing sentence 39/50\n",
            "Original: On 10 July 2024, two suitcases containing human remains were found on Clifton Suspension Bridge in Bristol, in the South West of England. The suitcases were found by police after reports of a man acting suspiciously. A manhunt soon ensued, with police searching for one person in connection with the remains. The person was identified as Colombian national, Yostin Andres Mosquera. Police arrested him\n",
            "Generating domain fusion perturbation...\n",
            "Generating lexical perturbation...\n",
            "Generating temporal perturbation...\n",
            "Domain Fusion: On 10 July 2024, two intricately layered pastry boxes containing human remains were discovered on the culinary landscape of Clifton Suspension Bridge in Bristol, in the South West of England, where a master chef of deception was caught off guard, and a flavorful manhunt ensued, with police searching for one key ingredient in connection with the remains, identified as Colombian national, Yostin Andres Mosquera, who was finally served a plate of justice.\n",
            "Lexical: Ön 10 Jüly 2024, twö suitcases cöntaining humän remäins were föund ön Cliftön Suspënsiön Bridge în Bristol, în thë Söuth Wëst öf Engländ. Thë suitcases were föund by pölice äfter réports öf ä män äcting süspiciöusly. Ä mänhunt söon ensued, with pölice söarching för önë pärsön în cönnection with thë remäins. Thë pärsön wäs identifiëd äs Cölom bian nätiönäl, Yöstïn Ändrës Mösquëra. Pölice ärrestëd him.\n",
            "Temporal: In the sweltering summer of '24, a most macabre discovery was made upon the venerable Clifton Suspension Bridge in Bristol, a fair city situated in the South West of England, where two suitcases, laden with human remains, were chanced upon by the constabulary, acting in response to whispers of a suspicious individual. A thorough manhunt promptly ensued, with the authorities scouring the land for a solitary figure in connection with the gruesome finds. The suspect, a foreigner hailing from the distant land of Colombia, one Yostin Andres Mosquera, was subsequently apprehended by the long arm of the law.\n"
          ]
        },
        {
          "output_type": "stream",
          "name": "stderr",
          "text": [
            "\r 78%|███████▊  | 39/50 [07:49<02:29, 13.62s/it]"
          ]
        },
        {
          "output_type": "stream",
          "name": "stdout",
          "text": [
            "\n",
            "Processing sentence 40/50\n",
            "Original: The 2016 Düsseldorf terrorism plot was a reported plot by the Islamic State of Iraq and the Levant (ISIL) to carry out a series of bombings and shootings in multiple sections of the German city of Düsseldorf similar to those carried out in Paris in November 2015. The plot was foiled after one of the conspirators, Saleh A., 25, turned himself in to French\n",
            "Generating domain fusion perturbation...\n",
            "Generating lexical perturbation...\n",
            "Generating temporal perturbation...\n",
            "Domain Fusion: The 2016 Düsseldorf terrorism plot was a recipe for disaster, concocted by the Islamic State of Iraq and the Levant (ISIL) to whip up a series of bombings and shootings in multiple layers of the German city of Düsseldorf, similar to the flavorful attacks carried out in Paris in November 2015, but the plot was foiled after one of the ingredients, Saleh A., 25, turned himself in to French authorities, spoiling the entire dish.\n",
            "Lexical: Thë 2016 Düsseldörfer terrorism plot wäs a reported plöt by the Ïslamic Stäte of Iräq and the Levänt (ISIL) to cärry out a série of bombïngs and shootïngs in multïple sectïons of the Germän città of Düsseldörfer similär to those carrïed out in Päris in Novembër 2015. Thë plöt wäs foilëd after one of the conspiratörës, Sälëh Ä., 25, turnëd himself in to Françäis.\n",
            "Temporal: In the annals of recent history, it is recorded that a nefarious scheme was concocted by the Islamic State of Iraq and the Levant (ISIL) to unleash a campaign of bombings and shootings in diverse quarters of the German city of Düsseldorf, reminiscent of the atrocities perpetrated in Paris during the autumn of 2015.\n"
          ]
        },
        {
          "output_type": "stream",
          "name": "stderr",
          "text": [
            "\r 80%|████████  | 40/50 [08:02<02:15, 13.55s/it]"
          ]
        },
        {
          "output_type": "stream",
          "name": "stdout",
          "text": [
            "\n",
            "Processing sentence 41/50\n",
            "Original: The killing of Greg Gunn occurred on the morning of February 25, 2016, in Montgomery, Alabama. Gunn, a 58-year-old African-American man, was shot and killed near his home after fleeing from a stop-and-frisk initiated by Aaron Cody Smith, a white police officer. Smith was charged with murder and indicted by a grand jury in 2016. The case came to trial in late 2019 following\n",
            "Generating domain fusion perturbation...\n",
            "Generating lexical perturbation...\n",
            "Generating temporal perturbation...\n",
            "Domain Fusion: The layered pastry of Greg Gunn's life crumbled on the morning of February 25, 2016, in Montgomery, Alabama, when a bitter ingredient, Officer Aaron Cody Smith, stopped and frisked him, leading to a fatal recipe that ultimately charged Smith with murder and indicted him by a grand jury in 2016, only to simmer on the back burner until the case came to a boil in late 2019.\n",
            "Lexical: The killing of Grëg Gunn occûrred on the morning of Fébruary 25, 2016, în Montgomery, Alabämä. Gunn, a 58-yëar-old Afrïcan-Amërican man, was shöt and killed näar his home afër flëeing from a stöp-and-frïsk initiäted by Äärön Cödy Smïth, a whïte pölice offïcer. Smïth was chärged with mürder and indicted by a gränd jury în 2016. The cäse came to trïäl în lâte 2019 føllöwing.\n",
            "Temporal: In the dawn of a fateful day, February 25, 1816, in the fair city of Montgomery, Alabama, a most lamentable event befell Greg Gunn, a man of fifty-eight winters, whose mortal coil was severed by the hand of Aaron Cody Smith, a constable of the law, in the course of a most unfortunate stop-and-frisk, which ultimately led to the officer's indictment for the heinous crime of murder, and a grand jury's consideration of the matter in the same year, the particulars of which would come to light in a trial of late 1819.\n"
          ]
        },
        {
          "output_type": "stream",
          "name": "stderr",
          "text": [
            "\r 82%|████████▏ | 41/50 [08:16<02:01, 13.50s/it]"
          ]
        },
        {
          "output_type": "stream",
          "name": "stdout",
          "text": [
            "\n",
            "Processing sentence 42/50\n",
            "Original: The 2016 Rogers Cup presented by National Bank was a tennis tournament played on outdoor hard courts. It was the 127th edition (for the men) and the 114th (for the women) of the Canadian Open. The tournament was part of the ATP World Tour Masters 1000 of the 2016 ATP World Tour, and of the WTA Premier 5 tournaments of the 2016 WTA Tour,\n",
            "Generating domain fusion perturbation...\n",
            "Generating lexical perturbation...\n",
            "Generating temporal perturbation...\n",
            "Domain Fusion: The 2016 Rogers Cup presented by National Bank was a tennis tournament layered like a delicate pastry, with each match building upon the previous, played on outdoor hard courts that served as the perfect ingredients for a thrilling competition, marking the 127th edition (for the men) and the 114th (for the women) of the Canadian Open, a recipe that blended seamlessly with the ATP World Tour Masters 1000 and the WTA Premier 5 tournaments of the 2016 season.\n",
            "Lexical: Thë 2016 Rogers Cup présented by Nätiönal Bänk was ä tennïs tournäment pläyed on outdöör hård côurts. It wäs thë 127th édition (för thë männer) änd thë 114th (för thë vrouwen) of thë Cänädïän Öpën. Thë tournäment wäs pärt of thë ÄTP Wörld Töür Mästër 1000 of thë 2016 ÄTP Wörld Töür, änd of thë WTÄ Prëmïër 5 tournämënts of thë 2016 WTÄ Töür.\n",
            "Temporal: In retrospect, the 2016 Rogers Cup presented by National Bank, a tennis tournament held on outdoor hard courts, marked the 127th iteration for gentlemen and the 114th for ladies of the venerable Canadian Open, an esteemed event that figured prominently in the ATP World Tour Masters 1000 and the WTA Premier 5 tournaments of that year.\n"
          ]
        },
        {
          "output_type": "stream",
          "name": "stderr",
          "text": [
            "\r 84%|████████▍ | 42/50 [08:30<01:48, 13.57s/it]"
          ]
        },
        {
          "output_type": "stream",
          "name": "stdout",
          "text": [
            "\n",
            "Processing sentence 43/50\n",
            "Original: The 2016 Big East men's basketball tournament, officially known as the 2016 Big East tournament, was a tournament held from March 9–12, at Madison Square Garden in New York City. The Big East Championship game returned to broadcast television for the first time in over twenty years and was televised on FOX. Seton Hall won their first Big East tournament since 1993 and received\n",
            "Generating domain fusion perturbation...\n",
            "Generating lexical perturbation...\n",
            "Generating temporal perturbation...\n",
            "Domain Fusion: The 2016 Big East men's basketball tournament, officially known as the 2016 Big East tournament, was a richly layered event held from March 9–12, at Madison Square Garden in New York City, where the ingredients of competition blended perfectly, and the Big East Championship game returned to broadcast television for the first time in over twenty years, serving up a thrilling finale on FOX, as Seton Hall whipped up their first Big East tournament title since 1993 and received the recipe for success.\n",
            "Lexical: The 2016 Biğ East men's bäsketbäll tournament, officially known äs the 2016 Biğ East tournäment, wäs a tournäment held från Märch 9–12, ät Mädison Squäre Gärden in New York Citÿ. The Biğ East Championship gäme returned to broadcäst télévision for the først time in över twentÿ years and wäs télévised on FÖX. Seton Häll wön their først Biğ East tournäment since 1993 and receïved.\n",
            "Temporal: Back in the day, the 2016 Big East men's basketball tournament, formally referred to as the 2016 Big East tournament, was a spectacle that unfolded from March 9–12, at the venerable Madison Square Garden in New York City, a venue that had witnessed many a thrilling contest over the years. The Big East Championship game made a triumphant return to broadcast television, a feat not accomplished in over twenty years, and was beamed into living rooms across the land via the esteemed FOX network. Seton Hall, a stalwart of the hardwood, claimed their first Big East tournament title since 1993 and received the accolades that came with it.\n"
          ]
        },
        {
          "output_type": "stream",
          "name": "stderr",
          "text": [
            "\r 86%|████████▌ | 43/50 [08:43<01:35, 13.58s/it]"
          ]
        },
        {
          "output_type": "stream",
          "name": "stdout",
          "text": [
            "\n",
            "Processing sentence 44/50\n",
            "Original: A by-election to elect the next member of the Australian House of Representatives in the electorate of Dunkley was held on 2 March 2024, following the death of sitting member Peta Murphy in December 2023. Jodie Belyea retained the seat for the Labor Party, winning 52.7% of the two-party preferred vote. It was the third federal by-election to have taken place since the first\n",
            "Generating domain fusion perturbation...\n",
            "Generating lexical perturbation...\n",
            "Generating temporal perturbation...\n",
            "Domain Fusion: The electorate of Dunkley was a delicate pastry, requiring a carefully crafted by-election to fill the void left by the sudden departure of sitting member Peta Murphy in December 2023, and on 2 March 2024, Jodie Belyea whisked together a winning recipe, securing 52.7% of the two-party preferred vote and retaining the seat for the Labor Party, a sweet victory that proved to be the icing on the cake as the third federal by-election to take place since the first.\n",
            "Lexical: A bü-election to élect the nächst member of the Austrälïan House of Representatives in the électorate of Dünkley was held on 2 Märch 2024, following the deäth of sitting member Pëta Murphy in Dezember 2023. Jödie Belyea retäined the sëat for the Läbor Party, winning 52.7% of the twö-party préferred vote. It was the thïrd federal bü-election to häve täken plâce since the fïrst.\n",
            "Temporal: In the annals of Australian electoral history, a by-election was convened in the constituency of Dunkley to elect a new member to the House of Representatives, occasioned by the demise of the venerable Peta Murphy in December of the preceding year; it was on the second day of March in the year of our Lord two thousand and twenty-four that the good people of Dunkley gathered to exercise their franchise, ultimately returning Jodie Belyea to the seat on behalf of the Labor Party, with a resounding 52.7% of the two-party preferred tally, marking the third such federal by-election to have transpired since the inaugural contest.\n"
          ]
        },
        {
          "output_type": "stream",
          "name": "stderr",
          "text": [
            "\r 88%|████████▊ | 44/50 [08:56<01:19, 13.24s/it]"
          ]
        },
        {
          "output_type": "stream",
          "name": "stdout",
          "text": [
            "\n",
            "Processing sentence 45/50\n",
            "Original: The 2015 Thurrock Council election took place on 7 May 2015 to elect members of Thurrock Council in England. This was on the same day as the general election and other local elections. Elections were held in 16 wards for seats that were last contested in 2011, to elect roughly one third of the council. Following the election, the Labour minority administration continued in\n",
            "Generating domain fusion perturbation...\n",
            "Generating lexical perturbation...\n",
            "Generating temporal perturbation...\n",
            "Domain Fusion: The 2015 Thurrock Council election recipe took place on 7 May 2015, carefully blending members of Thurrock Council in England, a delicate balance of power that was on the same day as the general election and other local elections, with 16 wards serving as ingredients to elect roughly one third of the council, a layered pastry of representation that, following the election, allowed the Labour minority administration to rise to the top.\n",
            "Lexical: Thë 2015 Thurroçk Council élection tooķ place ön 7 Mãy 2015 tö élect membërs of Thurroçk Council in Ëngland. This wäs ön thë samen day as thë général élection and othër local élections. Élections wère held in 16 wärds för sæts that wère läst contested in 2011, tö élect roughlý önë third of thë councill. Following thë élection, thë Labour minorïty administration continued in.\n",
            "Temporal: In days of yore, the Thurrock Council election of 2015 transpired on the seventh of May, concurrent with the general election and other local contests, wherein sixteen wards held elections to fill seats last contested in 2011, thereby electing roughly a third of the council, and in the aftermath, the Labour minority administration persisted.\n"
          ]
        },
        {
          "output_type": "stream",
          "name": "stderr",
          "text": [
            "\r 90%|█████████ | 45/50 [09:09<01:06, 13.28s/it]"
          ]
        },
        {
          "output_type": "stream",
          "name": "stdout",
          "text": [
            "\n",
            "Processing sentence 46/50\n",
            "Original: On April 29, 2024, multiple police officers were involved in a shootout in Charlotte, North Carolina, United States while serving active felony warrants on 39-year-old Terry Clark Hughes Jr., resulting in the deaths of three members of a U.S. Marshal task force and one local police officer. Police allege that Hughes initiated the event by firing on the officers as they approached his residence.\n",
            "Generating domain fusion perturbation...\n",
            "Generating lexical perturbation...\n",
            "Generating temporal perturbation...\n",
            "Domain Fusion: On April 29, 2024, multiple police officers, akin to skilled pastry chefs, were involved in a shootout in Charlotte, North Carolina, United States while serving active felony warrants on 39-year-old Terry Clark Hughes Jr., the main ingredient in a recipe for disaster, resulting in the deaths of three members of a U.S. Marshal task force and one local police officer, crushed like a delicate soufflé.\n",
            "Lexical: Ön Äpril 29, 2024, múltiple pölice offïcers were invölvéd în a shöötöut în Charlötté, Nörth Cärölinä, Ünîtéd Stätés whïlë sërvïng äctïvë fëlöny wäränts ön 39-yëär-öld Tërry Clärk Hüghës Jr., rësültïng în thë dëaths öf thrëë mëmbërs öf ä U.S. Mäarshal tâsk fôrcë änd önë löcäl pölice offïcer. Pölice ällëgë thât Hüghës initiâtëd thë évënt by fïrïng ön thë offïcers äs thëy äppröächëd hïs rësidëncë.\n",
            "Temporal: In the annum of our Lord two thousand and twenty-four, on the twenty-ninth day of April, a most lamentable occurrence befell the fair city of Charlotte, in the state of North Carolina, in the United States of America, when several constables, whilst in the execution of their duties, serving warrants of felony upon one Terry Clark Hughes Jr., a gentleman of thirty-nine winters, were set upon by the aforementioned Hughes, who, with malice aforethought, didst discharge his firearm upon the approaching officers, resulting in the untimely demise of three members of the U.S. Marshal's task force and one local constable.\n"
          ]
        },
        {
          "output_type": "stream",
          "name": "stderr",
          "text": [
            "\r 92%|█████████▏| 46/50 [09:23<00:53, 13.41s/it]"
          ]
        },
        {
          "output_type": "stream",
          "name": "stdout",
          "text": [
            "\n",
            "Processing sentence 47/50\n",
            "Original: The 2024 Pennzoil 400 presented by Jiffy Lube was a NASCAR Cup Series race held on March 3, 2024, at Las Vegas Motor Speedway in North Las Vegas, Nevada. Contested over 267 laps on the 1.5 mi (2.4 km) asphalt intermediate speedway, it was the third race of the 2024 NASCAR Cup Series season. Kyle Larson won the race. Tyler Reddick finished 2nd, and\n",
            "Generating domain fusion perturbation...\n",
            "Generating lexical perturbation...\n",
            "Generating temporal perturbation...\n",
            "Domain Fusion: The 2024 Pennzoil 400 presented by Jiffy Lube was a NASCAR Cup Series recipe, expertly mixed by Kyle Larson, who took the championship title after navigating 267 laps on the 1.5 mi (2.4 km) asphalt intermediate speedway, carefully balancing speed and control, much like a chef layers ingredients in a delicate pastry, while Tyler Reddick finished as the perfect complement, a harmonious blend of flavors, in second place.\n",
            "Lexical: Thë 2024 Pennzöil 400 présented by Jiffy Lübë was a Nascar Cüp Séries race héld on Märch 3, 2024, at Läs Vegäs Motor Spéedway in North Läs Vegäs, Neväda. Contësted ovër 267 laps on thë 1.5 mi (2.4 km) äsphalt intérmédiate spéedway, it wäs thë thïrd racë of thë 2024 Nascar Cüp Séries sæson. Kyłe Lärson wön thë racë. Tylër Rëddick finishëd 2nd, and.\n",
            "Temporal: In days of yore, the 2024 Pennzoil 400 presented by Jiffy Lube, a storied NASCAR Cup Series race, took place on March 3, 2024, at the venerable Las Vegas Motor Speedway in North Las Vegas, Nevada, wherein 267 laps were contested on the 1.5 mi (2.4 km) asphalt intermediate speedway, marking the third event of the 2024 NASCAR Cup Series season; Kyle Larson emerged victorious, with Tyler Reddick claiming second place.\n"
          ]
        },
        {
          "output_type": "stream",
          "name": "stderr",
          "text": [
            "\r 94%|█████████▍| 47/50 [09:36<00:40, 13.41s/it]"
          ]
        },
        {
          "output_type": "stream",
          "name": "stdout",
          "text": [
            "\n",
            "Processing sentence 48/50\n",
            "Original: Sport Relief 2016 is a fundraising event organised by Sport Relief. A number of run-up events took place and the main event consisted of a live telethon broadcast on BBC One and BBC Two from the evening of Friday 18 March 2016 to early the following morning. Due to the closure of BBC Television Centre, the live studio event is now broadcast from the\n",
            "Generating domain fusion perturbation...\n",
            "Generating lexical perturbation...\n",
            "Generating temporal perturbation...\n",
            "Domain Fusion: Sport Relief 2016 is a richly layered fundraising event, carefully crafted by Sport Relief, with a medley of run-up events serving as appetizers, and the main event consisting of a live telethon broadcast on BBC One and BBC Two from the evening of Friday 18 March 2016 to early the following morning, much like a decadent dessert finale, due to the closure of BBC Television Centre, the live studio event is now broadcast from the.\n",
            "Lexical: Sport Rëlieƒ 2016 ïs a fundraïsïng événт organised by Sporŧ Rëlieƒ. A numbër of run-up événтs took plâce and the main événт consïstéd of a lïve téléthon broädcast on BBC Öne and BBC Twö from the èvénïng of Frïday 18 Märch 2016 to èarly the føllówïng môrñïng. Due to the clösürë of BBC Télévïsïon Çëntër, the lïve stüdio événт ïs nåw broädcast from the.\n",
            "Temporal: In the bygone era of 2016, a most notable charity endeavour, Sport Relief, took place, wherein a series of precursor events led up to the main spectacle, a live telethon broadcast on BBC One and BBC Two, commencing on the evening of Friday, the eighteenth of March, and continuing into the early morning hours of the following day, all of which was broadcast from a makeshift studio, owing to the closure of the venerable BBC Television Centre.\n"
          ]
        },
        {
          "output_type": "stream",
          "name": "stderr",
          "text": [
            "\r 96%|█████████▌| 48/50 [09:49<00:26, 13.36s/it]"
          ]
        },
        {
          "output_type": "stream",
          "name": "stdout",
          "text": [
            "\n",
            "Processing sentence 49/50\n",
            "Original: This is a timeline of major events leading up to, during, and after the 2024 United States presidential election. This will be the first presidential election to be run with population data from the 2020 census. In addition to the dates mandated by the relevant federal laws such as those in the U.S. Constitution and the Electoral Count Act, several milestones have consistently been\n",
            "Generating domain fusion perturbation...\n",
            "Generating lexical perturbation...\n",
            "Generating temporal perturbation...\n",
            "Domain Fusion: This is a rich tapestry of major events leading up to, during, and after the 2024 United States presidential election, carefully layered like a croquembouche, with population data from the 2020 census serving as the essential ingredient, and in addition to the dates mandated by the relevant federal laws, such as those in the U.S. Constitution and the Electoral Count Act, several milestones have consistently been the icing on the cake.\n",
            "Lexical: Thïs îs ä timelïne of mäjor événTs léadïng up to, durïng, and äfter the 2024 Ünïted Stätes prësïdëntïal élëctïon. Thïs wïll bé the fïrst prësïdëntïal élëctïon to bé rün wïth populätiön däta from the 2020 cënsüs. În äddïtiön to the dätës mändätëd by the relevänt fëdëral läws sück äs those ïn the U.S. Cönstïtütiön änd the Elëctoräl Cöunt Äct, sëvëräl mïlëstônes hävë cônisténtly béën.\n",
            "Temporal: Here is the reframed sentence:\n",
            "\n",
            "In the annals of American history, a notable sequence of events unfolded prior to, during, and following the 2024 United States presidential election, which would be the inaugural contest to utilize population data gleaned from the 2020 census, much like its predecessors had harkened to the dictates of federal statutes, as enshrined in the U.S. Constitution and the Electoral Count Act, alongside other significant milestones that had consistently served as waypoints.\n"
          ]
        },
        {
          "output_type": "stream",
          "name": "stderr",
          "text": [
            "\r 98%|█████████▊| 49/50 [10:03<00:13, 13.40s/it]"
          ]
        },
        {
          "output_type": "stream",
          "name": "stdout",
          "text": [
            "\n",
            "Processing sentence 50/50\n",
            "Original: UFC 202: Diaz vs. McGregor 2 was a mixed martial arts event produced by the Ultimate Fighting Championship that was held on August 20, 2016, at the T-Mobile Arena in Paradise, Nevada, part of the Las Vegas metropolitan area. This event was the first one under the full control of the new ownership group consisting of William Morris Endeavor, Silver Lake Partners, Kohlberg Kravis\n",
            "Generating domain fusion perturbation...\n",
            "Generating lexical perturbation...\n",
            "Generating temporal perturbation...\n",
            "Domain Fusion: UFC 202: Diaz vs. McGregor 2 was a richly layered event produced by the Ultimate Fighting Championship, a culinary mastermind that carefully blended the ingredients of mixed martial arts, holding its serving on August 20, 2016, at the T-Mobile Arena in Paradise, Nevada, part of the Las Vegas metropolitan area, a savory dish under the full control of the new ownership group consisting of William Morris Endeavor, Silver Lake Partners, and Kohlberg Kravis, the perfect recipe for a thrilling fight.\n",
            "Lexical: UFC 202: Diäz vs. McGregör 2 wäs a mixed martïal arts event producëd by the Ultimäte Fighting Championship that wäs held on Äugust 20, 2016, at the T-Mobile Ärena in Parädisë, Neväda, part of the Läs Vegäs metropolitäan ärea. This event wäs the first one under the full contröl of the new ownership group consistïng of Wïllïam Morïs Endeävör, Silver Läke Pärtnerš, Kohlberg Krävïs.\n",
            "Temporal: In the annals of mixed martial arts, it is recalled that UFC 202: Diaz vs. McGregor 2, a most thrilling event, took place on a sweltering August evening in 2016, within the hallowed halls of the T-Mobile Arena, situated in the picturesque Paradise, Nevada, a gem nestled in the Las Vegas metropolitan area, during an era when the venerable Ultimate Fighting Championship was under the stewardship of the esteemed ownership group, comprising the illustrious William Morris Endeavor, Silver Lake Partners, and Kohlberg Kravis.\n"
          ]
        },
        {
          "output_type": "stream",
          "name": "stderr",
          "text": [
            "100%|██████████| 50/50 [10:16<00:00, 12.33s/it]\n"
          ]
        }
      ]
    },
    {
      "cell_type": "code",
      "source": [
        "output_df = pd.DataFrame(perturbed_data)\n",
        "output_file = \"perturbed_wikimia24_groq.csv\"\n",
        "output_df.to_csv(output_file, index=False)\n",
        "print(f\"CSV file saved: {output_file}\")"
      ],
      "metadata": {
        "colab": {
          "base_uri": "https://localhost:8080/"
        },
        "id": "s54gXQHExMrQ",
        "outputId": "da818ecf-dd67-4e3a-9b2a-6f11cc92a0ef"
      },
      "execution_count": null,
      "outputs": [
        {
          "output_type": "stream",
          "name": "stdout",
          "text": [
            "CSV file saved: perturbed_wikimia24_groq.csv\n"
          ]
        }
      ]
    },
    {
      "cell_type": "code",
      "source": [
        "print(\"\\nSample of perturbed texts:\")\n",
        "sample_idx = random.randint(0, len(output_df)-1)\n",
        "print(f\"Original: {output_df.iloc[sample_idx]['original']}\")\n",
        "print(f\"Domain Fusion: {output_df.iloc[sample_idx]['domain_fusion']}\")\n",
        "print(f\"Lexical: {output_df.iloc[sample_idx]['lexical']}\")\n",
        "print(f\"Temporal: {output_df.iloc[sample_idx]['temporal']}\")"
      ],
      "metadata": {
        "colab": {
          "base_uri": "https://localhost:8080/"
        },
        "id": "MDR-XKsXxVp8",
        "outputId": "2a765641-a969-4eab-f6a2-ecd2ee51e50a"
      },
      "execution_count": null,
      "outputs": [
        {
          "output_type": "stream",
          "name": "stdout",
          "text": [
            "\n",
            "Sample of perturbed texts:\n",
            "Original: UFC 202: Diaz vs. McGregor 2 was a mixed martial arts event produced by the Ultimate Fighting Championship that was held on August 20, 2016, at the T-Mobile Arena in Paradise, Nevada, part of the Las Vegas metropolitan area. This event was the first one under the full control of the new ownership group consisting of William Morris Endeavor, Silver Lake Partners, Kohlberg Kravis\n",
            "Domain Fusion: UFC 202: Diaz vs. McGregor 2 was a richly layered event produced by the Ultimate Fighting Championship, a culinary mastermind that carefully blended the ingredients of mixed martial arts, holding its serving on August 20, 2016, at the T-Mobile Arena in Paradise, Nevada, part of the Las Vegas metropolitan area, a savory dish under the full control of the new ownership group consisting of William Morris Endeavor, Silver Lake Partners, and Kohlberg Kravis, the perfect recipe for a thrilling fight.\n",
            "Lexical: UFC 202: Diäz vs. McGregör 2 wäs a mixed martïal arts event producëd by the Ultimäte Fighting Championship that wäs held on Äugust 20, 2016, at the T-Mobile Ärena in Parädisë, Neväda, part of the Läs Vegäs metropolitäan ärea. This event wäs the first one under the full contröl of the new ownership group consistïng of Wïllïam Morïs Endeävör, Silver Läke Pärtnerš, Kohlberg Krävïs.\n",
            "Temporal: In the annals of mixed martial arts, it is recalled that UFC 202: Diaz vs. McGregor 2, a most thrilling event, took place on a sweltering August evening in 2016, within the hallowed halls of the T-Mobile Arena, situated in the picturesque Paradise, Nevada, a gem nestled in the Las Vegas metropolitan area, during an era when the venerable Ultimate Fighting Championship was under the stewardship of the esteemed ownership group, comprising the illustrious William Morris Endeavor, Silver Lake Partners, and Kohlberg Kravis.\n"
          ]
        }
      ]
    },
    {
      "cell_type": "code",
      "source": [
        "try:\n",
        "    from google.colab import files\n",
        "    files.download(output_file)\n",
        "    print(f\"File '{output_file}' is ready for download\")\n",
        "except ImportError:\n",
        "    print(\"Not running in Google Colab. File saved locally.\")"
      ],
      "metadata": {
        "colab": {
          "base_uri": "https://localhost:8080/",
          "height": 34
        },
        "id": "Xn--BD-ZxW55",
        "outputId": "32fcb5e3-b1fe-4395-cdd7-639c81b21ef9"
      },
      "execution_count": null,
      "outputs": [
        {
          "output_type": "display_data",
          "data": {
            "text/plain": [
              "<IPython.core.display.Javascript object>"
            ],
            "application/javascript": [
              "\n",
              "    async function download(id, filename, size) {\n",
              "      if (!google.colab.kernel.accessAllowed) {\n",
              "        return;\n",
              "      }\n",
              "      const div = document.createElement('div');\n",
              "      const label = document.createElement('label');\n",
              "      label.textContent = `Downloading \"${filename}\": `;\n",
              "      div.appendChild(label);\n",
              "      const progress = document.createElement('progress');\n",
              "      progress.max = size;\n",
              "      div.appendChild(progress);\n",
              "      document.body.appendChild(div);\n",
              "\n",
              "      const buffers = [];\n",
              "      let downloaded = 0;\n",
              "\n",
              "      const channel = await google.colab.kernel.comms.open(id);\n",
              "      // Send a message to notify the kernel that we're ready.\n",
              "      channel.send({})\n",
              "\n",
              "      for await (const message of channel.messages) {\n",
              "        // Send a message to notify the kernel that we're ready.\n",
              "        channel.send({})\n",
              "        if (message.buffers) {\n",
              "          for (const buffer of message.buffers) {\n",
              "            buffers.push(buffer);\n",
              "            downloaded += buffer.byteLength;\n",
              "            progress.value = downloaded;\n",
              "          }\n",
              "        }\n",
              "      }\n",
              "      const blob = new Blob(buffers, {type: 'application/binary'});\n",
              "      const a = document.createElement('a');\n",
              "      a.href = window.URL.createObjectURL(blob);\n",
              "      a.download = filename;\n",
              "      div.appendChild(a);\n",
              "      a.click();\n",
              "      div.remove();\n",
              "    }\n",
              "  "
            ]
          },
          "metadata": {}
        },
        {
          "output_type": "display_data",
          "data": {
            "text/plain": [
              "<IPython.core.display.Javascript object>"
            ],
            "application/javascript": [
              "download(\"download_eb163519-5149-4f66-a4c3-1cf0bfec49c0\", \"perturbed_wikimia24_groq.csv\", 86219)"
            ]
          },
          "metadata": {}
        },
        {
          "output_type": "stream",
          "name": "stdout",
          "text": [
            "File 'perturbed_wikimia24_groq.csv' is ready for download\n"
          ]
        }
      ]
    }
  ]
}