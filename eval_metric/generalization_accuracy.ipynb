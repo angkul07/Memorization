{
 "cells": [
  {
   "cell_type": "code",
   "execution_count": 14,
   "metadata": {},
   "outputs": [],
   "source": [
    "import pandas as pd\n",
    "import re\n",
    "from sklearn.metrics import accuracy_score, precision_score, recall_score, f1_score"
   ]
  },
  {
   "cell_type": "code",
   "execution_count": 20,
   "metadata": {},
   "outputs": [],
   "source": [
    "def extract_answer(text):\n",
    "    match = re.search(r'#### (\\d+)(?: ####)?', text)\n",
    "    return match.group(1) if match else None"
   ]
  },
  {
   "cell_type": "markdown",
   "metadata": {},
   "source": [
    "## gsmk8_0"
   ]
  },
  {
   "cell_type": "code",
   "execution_count": null,
   "metadata": {},
   "outputs": [
    {
     "name": "stdout",
     "output_type": "stream",
     "text": [
      "Accuracy:  0.16\n",
      "Precision: 1.00\n",
      "Recall:    0.16\n",
      "F1-Score:  0.27\n"
     ]
    }
   ],
   "source": [
    "ground_truth_df = pd.read_csv('<gsmk8_test dataset path>')\n",
    "model_output_df = pd.read_csv('datasets/generalizaton_accuracy_data/accuracy_df_0.csv')\n",
    "\n",
    "ground_truth_df = ground_truth_df.head(800)\n",
    "model_output_df = model_output_df.head(800)\n",
    "\n",
    "ground_truth_answers = ground_truth_df['answer'].apply(extract_answer)\n",
    "model_output_answers = model_output_df['answer'].apply(extract_answer)\n",
    "\n",
    "labels = (ground_truth_answers == model_output_answers).astype(int)\n",
    "\n",
    "model_output_df['label'] = labels\n",
    "\n",
    "model_output_df.to_csv('accuracy_df_0_labels.csv', index=False)\n",
    "\n",
    "y_true = [1] * len(ground_truth_answers)\n",
    "y_pred = (ground_truth_answers == model_output_answers).astype(int)\n",
    "\n",
    "accuracy = accuracy_score(y_true, y_pred)\n",
    "precision = precision_score(y_true, y_pred, zero_division=0)\n",
    "recall = recall_score(y_true, y_pred, zero_division=0)\n",
    "f1 = f1_score(y_true, y_pred, zero_division=0)\n",
    "\n",
    "print(f\"Accuracy:  {accuracy:.2f}\")\n",
    "print(f\"Precision: {precision:.2f}\")\n",
    "print(f\"Recall:    {recall:.2f}\")\n",
    "print(f\"F1-Score:  {f1:.2f}\")"
   ]
  },
  {
   "cell_type": "markdown",
   "metadata": {},
   "source": [
    "## gsmk8_25"
   ]
  },
  {
   "cell_type": "code",
   "execution_count": null,
   "metadata": {},
   "outputs": [
    {
     "name": "stdout",
     "output_type": "stream",
     "text": [
      "Accuracy:  0.15\n",
      "Precision: 1.00\n",
      "Recall:    0.15\n",
      "F1-Score:  0.26\n"
     ]
    }
   ],
   "source": [
    "ground_truth_df = pd.read_csv('gsmk8_test.csv')\n",
    "model_output_df = pd.read_csv('datasets/generalizaton_accuracy_data/accuracy_df_25.csv')\n",
    "\n",
    "ground_truth_df = ground_truth_df.head(800)\n",
    "model_output_df = model_output_df.head(800)\n",
    "\n",
    "ground_truth_answers = ground_truth_df['answer'].apply(extract_answer)\n",
    "model_output_answers = model_output_df['answer'].apply(extract_answer)\n",
    "\n",
    "labels = (ground_truth_answers == model_output_answers).astype(int)\n",
    "\n",
    "model_output_df['label'] = labels\n",
    "\n",
    "model_output_df.to_csv('accuracy_df_25_labels.csv', index=False)\n",
    "\n",
    "y_true = [1] * len(ground_truth_answers)  # Ground truth is always \"correct\" in this context\n",
    "y_pred = (ground_truth_answers == model_output_answers).astype(int)  # 1 if model matches ground truth\n",
    "\n",
    "accuracy = accuracy_score(y_true, y_pred)  # Equivalent to (y_true == y_pred).mean()\n",
    "precision = precision_score(y_true, y_pred, zero_division=0)\n",
    "recall = recall_score(y_true, y_pred, zero_division=0)\n",
    "f1 = f1_score(y_true, y_pred, zero_division=0)\n",
    "\n",
    "print(f\"Accuracy:  {accuracy:.2f}\")\n",
    "print(f\"Precision: {precision:.2f}\")\n",
    "print(f\"Recall:    {recall:.2f}\")\n",
    "print(f\"F1-Score:  {f1:.2f}\")"
   ]
  },
  {
   "cell_type": "markdown",
   "metadata": {},
   "source": [
    "## gsmk8_50"
   ]
  },
  {
   "cell_type": "code",
   "execution_count": null,
   "metadata": {},
   "outputs": [
    {
     "name": "stdout",
     "output_type": "stream",
     "text": [
      "Accuracy:  0.13\n",
      "Precision: 1.00\n",
      "Recall:    0.13\n",
      "F1-Score:  0.23\n"
     ]
    }
   ],
   "source": [
    "ground_truth_df = pd.read_csv('gsmk8_test.csv')\n",
    "model_output_df = pd.read_csv('datasets/generalizaton_accuracy_data/accuracy_df_50.csv')\n",
    "\n",
    "ground_truth_df = ground_truth_df.head(800)\n",
    "model_output_df = model_output_df.head(800)\n",
    "\n",
    "ground_truth_answers = ground_truth_df['answer'].apply(extract_answer)\n",
    "model_output_answers = model_output_df['answer'].apply(extract_answer)\n",
    "\n",
    "labels = (ground_truth_answers == model_output_answers).astype(int)\n",
    "\n",
    "model_output_df['label'] = labels\n",
    "\n",
    "model_output_df.to_csv('accuracy_df_50_labels.csv', index=False)\n",
    "\n",
    "y_true = [1] * len(ground_truth_answers)\n",
    "y_pred = (ground_truth_answers == model_output_answers).astype(int)\n",
    "\n",
    "accuracy = accuracy_score(y_true, y_pred)\n",
    "precision = precision_score(y_true, y_pred, zero_division=0)\n",
    "recall = recall_score(y_true, y_pred, zero_division=0)\n",
    "f1 = f1_score(y_true, y_pred, zero_division=0)\n",
    "\n",
    "print(f\"Accuracy:  {accuracy:.2f}\")\n",
    "print(f\"Precision: {precision:.2f}\")\n",
    "print(f\"Recall:    {recall:.2f}\")\n",
    "print(f\"F1-Score:  {f1:.2f}\")"
   ]
  },
  {
   "cell_type": "markdown",
   "metadata": {},
   "source": [
    "## gsmk8_75"
   ]
  },
  {
   "cell_type": "code",
   "execution_count": null,
   "metadata": {},
   "outputs": [
    {
     "name": "stdout",
     "output_type": "stream",
     "text": [
      "Accuracy:  0.12\n",
      "Precision: 1.00\n",
      "Recall:    0.12\n",
      "F1-Score:  0.21\n"
     ]
    }
   ],
   "source": [
    "ground_truth_df = pd.read_csv('gsmk8_test.csv')\n",
    "model_output_df = pd.read_csv('datasets/generalizaton_accuracy_data/accuracy_df_75.csv')\n",
    "\n",
    "ground_truth_df = ground_truth_df.head(800)\n",
    "model_output_df = model_output_df.head(800)\n",
    "\n",
    "ground_truth_answers = ground_truth_df['answer'].apply(extract_answer)\n",
    "model_output_answers = model_output_df['answer'].apply(extract_answer)\n",
    "\n",
    "labels = (ground_truth_answers == model_output_answers).astype(int)\n",
    "\n",
    "model_output_df['label'] = labels\n",
    "\n",
    "model_output_df.to_csv('accuracy_df_75_labels.csv', index=False)\n",
    "\n",
    "y_true = [1] * len(ground_truth_answers)  # Ground truth is always \"correct\" in this context\n",
    "y_pred = (ground_truth_answers == model_output_answers).astype(int)  # 1 if model matches ground truth\n",
    "\n",
    "accuracy = accuracy_score(y_true, y_pred)  # Equivalent to (y_true == y_pred).mean()\n",
    "precision = precision_score(y_true, y_pred, zero_division=0)\n",
    "recall = recall_score(y_true, y_pred, zero_division=0)\n",
    "f1 = f1_score(y_true, y_pred, zero_division=0)\n",
    "\n",
    "print(f\"Accuracy:  {accuracy:.2f}\")\n",
    "print(f\"Precision: {precision:.2f}\")\n",
    "print(f\"Recall:    {recall:.2f}\")\n",
    "print(f\"F1-Score:  {f1:.2f}\")"
   ]
  },
  {
   "cell_type": "markdown",
   "metadata": {},
   "source": [
    "## gsmk8_100"
   ]
  },
  {
   "cell_type": "code",
   "execution_count": null,
   "metadata": {},
   "outputs": [
    {
     "name": "stdout",
     "output_type": "stream",
     "text": [
      "Accuracy:  0.13\n",
      "Precision: 1.00\n",
      "Recall:    0.13\n",
      "F1-Score:  0.22\n"
     ]
    }
   ],
   "source": [
    "ground_truth_df = pd.read_csv('gsmk8_test.csv')\n",
    "model_output_df = pd.read_csv('datasets/generalizaton_accuracy_data/accuracy_df_100.csv')\n",
    "\n",
    "ground_truth_df = ground_truth_df.head(800)\n",
    "model_output_df = model_output_df.head(800)\n",
    "\n",
    "ground_truth_answers = ground_truth_df['answer'].apply(extract_answer)\n",
    "model_output_answers = model_output_df['answer'].apply(extract_answer)\n",
    "\n",
    "labels = (ground_truth_answers == model_output_answers).astype(int)\n",
    "\n",
    "model_output_df['label'] = labels\n",
    "\n",
    "model_output_df.to_csv('accuracy_df_100_labels.csv', index=False)\n",
    "\n",
    "y_true = [1] * len(ground_truth_answers)\n",
    "y_pred = (ground_truth_answers == model_output_answers).astype(int)\n",
    "\n",
    "accuracy = accuracy_score(y_true, y_pred)\n",
    "precision = precision_score(y_true, y_pred, zero_division=0)\n",
    "recall = recall_score(y_true, y_pred, zero_division=0)\n",
    "f1 = f1_score(y_true, y_pred, zero_division=0)\n",
    "\n",
    "print(f\"Accuracy:  {accuracy:.2f}\")\n",
    "print(f\"Precision: {precision:.2f}\")\n",
    "print(f\"Recall:    {recall:.2f}\")\n",
    "print(f\"F1-Score:  {f1:.2f}\")"
   ]
  },
  {
   "cell_type": "code",
   "execution_count": null,
   "metadata": {},
   "outputs": [],
   "source": []
  }
 ],
 "metadata": {
  "kernelspec": {
   "display_name": "memollm_env",
   "language": "python",
   "name": "python3"
  },
  "language_info": {
   "codemirror_mode": {
    "name": "ipython",
    "version": 3
   },
   "file_extension": ".py",
   "mimetype": "text/x-python",
   "name": "python",
   "nbconvert_exporter": "python",
   "pygments_lexer": "ipython3",
   "version": "3.11.11"
  }
 },
 "nbformat": 4,
 "nbformat_minor": 2
}
