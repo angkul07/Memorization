{
 "cells": [
  {
   "cell_type": "markdown",
   "source": [
    "A Notebook for processing experimental results.\n",
    "\n",
    "All runs correspond to a folder in `outputs/` from which we can load config information and results from json data."
   ],
   "metadata": {
    "collapsed": false
   },
   "id": "8819094b533018fc"
  },
  {
   "cell_type": "code",
   "outputs": [],
   "source": [
    "import json\n",
    "from pathlib import Path\n",
    "import pandas as pd"
   ],
   "metadata": {
    "collapsed": false,
    "ExecuteTime": {
     "end_time": "2024-04-12T12:09:02.761133Z",
     "start_time": "2024-04-12T12:09:02.167577Z"
    }
   },
   "id": "337aab98af3643dc",
   "execution_count": 1
  },
  {
   "cell_type": "code",
   "outputs": [],
   "source": [
    "# Set this to filter runs based on the cfg.experiment_name argument\n",
    "experiment_name = None\n",
    "\n",
    "# It can be a list like this:\n",
    "# experiment_name = [\"pythia-small\", \"pythia-big\"]"
   ],
   "metadata": {
    "collapsed": false,
    "ExecuteTime": {
     "end_time": "2024-04-12T12:09:03.848958Z",
     "start_time": "2024-04-12T12:09:03.845438Z"
    }
   },
   "id": "757ba31709497865",
   "execution_count": 2
  },
  {
   "cell_type": "code",
   "outputs": [],
   "source": [
    "folder_path = Path(\"outputs\")\n",
    "json_list = []\n",
    "\n",
    "for json_file in folder_path.glob(\"*/*.json\"):\n",
    "    with open(json_file, \"r\", encoding=\"utf-8\") as f:\n",
    "        # Load the JSON content\n",
    "        json_content = json.load(f)\n",
    "        \n",
    "        # Append the content as is (which will result in a single cell containing the JSON in the DataFrame)\n",
    "        if experiment_name is not None:\n",
    "            if \"cfg_experiment_name\" in json_content and json_content[\"cfg_experiment_name\"] in experiment_name:\n",
    "                json_list.append(json_content)\n",
    "        else:\n",
    "            json_list.append(json_content)\n",
    "# Convert the list of JSON objects to a DataFrame\n",
    "df = pd.DataFrame(json_list)"
   ],
   "metadata": {
    "collapsed": false,
    "ExecuteTime": {
     "end_time": "2024-04-12T12:10:52.116311Z",
     "start_time": "2024-04-12T12:10:52.109492Z"
    }
   },
   "id": "8d027b206c17c5de",
   "execution_count": 11
  },
  {
   "cell_type": "code",
   "outputs": [
    {
     "data": {
      "text/plain": "   success  num_free_tokens                                 target_str  \\\n0    False               10  To be or not to be, that is the question.   \n1    False               10                    jumps over the lazy dog   \n2    False               10                   I think, therefore I am.   \n\n   target_length  cfg_batch_size cfg_discrete_optimizer  cfg_lr  \\\n0             12             100                    gcg    0.01   \n1              6             100                    gcg    0.01   \n2              7             100                    gcg    0.01   \n\n          cfg_model_name  cfg_num_steps cfg_optimizer  ...  cfg_input_str  \\\n0  EleutherAI/pythia-14m             20          adam  ...                  \n1  EleutherAI/pythia-14m             20          adam  ...                  \n2  EleutherAI/pythia-14m             20          adam  ...                  \n\n                              cfg_target_str cfg_chat_template  \\\n0  To be or not to be, that is the question.              [, ]   \n1                    jumps over the lazy dog              [, ]   \n2                   I think, therefore I am.              [, ]   \n\n  cfg_system_prompt    cfg_dataset cfg_data_idx cfg_random_weights  \\\n0                    famous_quotes          0.0              False   \n1                             None          NaN              False   \n2                    famous_quotes          1.0              False   \n\n  cfg_max_tokens cfg_mini_batch_size               time  \n0             10                 100  20240412-08:06:00  \n1             10                 100  20240412-08:05:01  \n2             10                 100  20240412-08:07:23  \n\n[3 rows x 24 columns]",
      "text/html": "<div>\n<style scoped>\n    .dataframe tbody tr th:only-of-type {\n        vertical-align: middle;\n    }\n\n    .dataframe tbody tr th {\n        vertical-align: top;\n    }\n\n    .dataframe thead th {\n        text-align: right;\n    }\n</style>\n<table border=\"1\" class=\"dataframe\">\n  <thead>\n    <tr style=\"text-align: right;\">\n      <th></th>\n      <th>success</th>\n      <th>num_free_tokens</th>\n      <th>target_str</th>\n      <th>target_length</th>\n      <th>cfg_batch_size</th>\n      <th>cfg_discrete_optimizer</th>\n      <th>cfg_lr</th>\n      <th>cfg_model_name</th>\n      <th>cfg_num_steps</th>\n      <th>cfg_optimizer</th>\n      <th>...</th>\n      <th>cfg_input_str</th>\n      <th>cfg_target_str</th>\n      <th>cfg_chat_template</th>\n      <th>cfg_system_prompt</th>\n      <th>cfg_dataset</th>\n      <th>cfg_data_idx</th>\n      <th>cfg_random_weights</th>\n      <th>cfg_max_tokens</th>\n      <th>cfg_mini_batch_size</th>\n      <th>time</th>\n    </tr>\n  </thead>\n  <tbody>\n    <tr>\n      <th>0</th>\n      <td>False</td>\n      <td>10</td>\n      <td>To be or not to be, that is the question.</td>\n      <td>12</td>\n      <td>100</td>\n      <td>gcg</td>\n      <td>0.01</td>\n      <td>EleutherAI/pythia-14m</td>\n      <td>20</td>\n      <td>adam</td>\n      <td>...</td>\n      <td></td>\n      <td>To be or not to be, that is the question.</td>\n      <td>[, ]</td>\n      <td></td>\n      <td>famous_quotes</td>\n      <td>0.0</td>\n      <td>False</td>\n      <td>10</td>\n      <td>100</td>\n      <td>20240412-08:06:00</td>\n    </tr>\n    <tr>\n      <th>1</th>\n      <td>False</td>\n      <td>10</td>\n      <td>jumps over the lazy dog</td>\n      <td>6</td>\n      <td>100</td>\n      <td>gcg</td>\n      <td>0.01</td>\n      <td>EleutherAI/pythia-14m</td>\n      <td>20</td>\n      <td>adam</td>\n      <td>...</td>\n      <td></td>\n      <td>jumps over the lazy dog</td>\n      <td>[, ]</td>\n      <td></td>\n      <td>None</td>\n      <td>NaN</td>\n      <td>False</td>\n      <td>10</td>\n      <td>100</td>\n      <td>20240412-08:05:01</td>\n    </tr>\n    <tr>\n      <th>2</th>\n      <td>False</td>\n      <td>10</td>\n      <td>I think, therefore I am.</td>\n      <td>7</td>\n      <td>100</td>\n      <td>gcg</td>\n      <td>0.01</td>\n      <td>EleutherAI/pythia-14m</td>\n      <td>20</td>\n      <td>adam</td>\n      <td>...</td>\n      <td></td>\n      <td>I think, therefore I am.</td>\n      <td>[, ]</td>\n      <td></td>\n      <td>famous_quotes</td>\n      <td>1.0</td>\n      <td>False</td>\n      <td>10</td>\n      <td>100</td>\n      <td>20240412-08:07:23</td>\n    </tr>\n  </tbody>\n</table>\n<p>3 rows × 24 columns</p>\n</div>"
     },
     "execution_count": 13,
     "metadata": {},
     "output_type": "execute_result"
    }
   ],
   "source": [
    "df.head().round(2)"
   ],
   "metadata": {
    "collapsed": false,
    "ExecuteTime": {
     "end_time": "2024-04-12T12:11:04.524587Z",
     "start_time": "2024-04-12T12:11:04.515877Z"
    }
   },
   "id": "5529d488e46ef405",
   "execution_count": 13
  },
  {
   "cell_type": "code",
   "outputs": [],
   "source": [
    "# Add columns with compression ratio and memorization and sort\n",
    "df[\"ratio\"] = df[\"target_length\"] / df[\"num_free_tokens\"]\n",
    "df[\"memorized\"] = df[\"ratio\"] > 1\n",
    "df.loc[df[\"success\"] == False, \"memorized\"] = False\n",
    "df = df.sort_values(by=[\"cfg_model_name\", \"cfg_dataset\", \"cfg_data_idx\", \"cfg_discrete_optimizer\"])"
   ],
   "metadata": {
    "collapsed": false,
    "ExecuteTime": {
     "end_time": "2024-04-12T12:11:49.587114Z",
     "start_time": "2024-04-12T12:11:49.578651Z"
    }
   },
   "id": "14e759e300cf964e",
   "execution_count": 14
  },
  {
   "cell_type": "code",
   "outputs": [
    {
     "data": {
      "text/plain": "   success  num_free_tokens                                 target_str  \\\n0    False               10  To be or not to be, that is the question.   \n2    False               10                   I think, therefore I am.   \n\n   target_length  cfg_batch_size cfg_discrete_optimizer  cfg_lr  \\\n0             12             100                    gcg    0.01   \n2              7             100                    gcg    0.01   \n\n          cfg_model_name  cfg_num_steps cfg_optimizer  ...  cfg_chat_template  \\\n0  EleutherAI/pythia-14m             20          adam  ...               [, ]   \n2  EleutherAI/pythia-14m             20          adam  ...               [, ]   \n\n   cfg_system_prompt    cfg_dataset cfg_data_idx cfg_random_weights  \\\n0                     famous_quotes          0.0              False   \n2                     famous_quotes          1.0              False   \n\n  cfg_max_tokens cfg_mini_batch_size               time ratio  memorized  \n0             10                 100  20240412-08:06:00   1.2      False  \n2             10                 100  20240412-08:07:23   0.7      False  \n\n[2 rows x 26 columns]",
      "text/html": "<div>\n<style scoped>\n    .dataframe tbody tr th:only-of-type {\n        vertical-align: middle;\n    }\n\n    .dataframe tbody tr th {\n        vertical-align: top;\n    }\n\n    .dataframe thead th {\n        text-align: right;\n    }\n</style>\n<table border=\"1\" class=\"dataframe\">\n  <thead>\n    <tr style=\"text-align: right;\">\n      <th></th>\n      <th>success</th>\n      <th>num_free_tokens</th>\n      <th>target_str</th>\n      <th>target_length</th>\n      <th>cfg_batch_size</th>\n      <th>cfg_discrete_optimizer</th>\n      <th>cfg_lr</th>\n      <th>cfg_model_name</th>\n      <th>cfg_num_steps</th>\n      <th>cfg_optimizer</th>\n      <th>...</th>\n      <th>cfg_chat_template</th>\n      <th>cfg_system_prompt</th>\n      <th>cfg_dataset</th>\n      <th>cfg_data_idx</th>\n      <th>cfg_random_weights</th>\n      <th>cfg_max_tokens</th>\n      <th>cfg_mini_batch_size</th>\n      <th>time</th>\n      <th>ratio</th>\n      <th>memorized</th>\n    </tr>\n  </thead>\n  <tbody>\n    <tr>\n      <th>0</th>\n      <td>False</td>\n      <td>10</td>\n      <td>To be or not to be, that is the question.</td>\n      <td>12</td>\n      <td>100</td>\n      <td>gcg</td>\n      <td>0.01</td>\n      <td>EleutherAI/pythia-14m</td>\n      <td>20</td>\n      <td>adam</td>\n      <td>...</td>\n      <td>[, ]</td>\n      <td></td>\n      <td>famous_quotes</td>\n      <td>0.0</td>\n      <td>False</td>\n      <td>10</td>\n      <td>100</td>\n      <td>20240412-08:06:00</td>\n      <td>1.2</td>\n      <td>False</td>\n    </tr>\n    <tr>\n      <th>2</th>\n      <td>False</td>\n      <td>10</td>\n      <td>I think, therefore I am.</td>\n      <td>7</td>\n      <td>100</td>\n      <td>gcg</td>\n      <td>0.01</td>\n      <td>EleutherAI/pythia-14m</td>\n      <td>20</td>\n      <td>adam</td>\n      <td>...</td>\n      <td>[, ]</td>\n      <td></td>\n      <td>famous_quotes</td>\n      <td>1.0</td>\n      <td>False</td>\n      <td>10</td>\n      <td>100</td>\n      <td>20240412-08:07:23</td>\n      <td>0.7</td>\n      <td>False</td>\n    </tr>\n  </tbody>\n</table>\n<p>2 rows × 26 columns</p>\n</div>"
     },
     "execution_count": 19,
     "metadata": {},
     "output_type": "execute_result"
    }
   ],
   "source": [
    "# Filter the rows where dataset is 'random', the model is 'EleutherAI/pythia-14m', and success is True\n",
    "filtered_df = df[(df['cfg_dataset'] == 'famous_quotes') &\n",
    "                 (df['cfg_model_name'] == 'EleutherAI/pythia-14m')\n",
    "                 ]\n",
    "filtered_df.head().round(2)"
   ],
   "metadata": {
    "collapsed": false,
    "ExecuteTime": {
     "end_time": "2024-04-12T12:13:35.306626Z",
     "start_time": "2024-04-12T12:13:35.291714Z"
    }
   },
   "id": "f3c999ffb1266688",
   "execution_count": 19
  },
  {
   "cell_type": "code",
   "outputs": [
    {
     "data": {
      "text/plain": "Empty DataFrame\nColumns: [ratio, memorized, success]\nIndex: []",
      "text/html": "<div>\n<style scoped>\n    .dataframe tbody tr th:only-of-type {\n        vertical-align: middle;\n    }\n\n    .dataframe tbody tr th {\n        vertical-align: top;\n    }\n\n    .dataframe thead th {\n        text-align: right;\n    }\n</style>\n<table border=\"1\" class=\"dataframe\">\n  <thead>\n    <tr style=\"text-align: right;\">\n      <th></th>\n      <th></th>\n      <th></th>\n      <th>ratio</th>\n      <th>memorized</th>\n      <th>success</th>\n    </tr>\n    <tr>\n      <th>cfg_model_name</th>\n      <th>cfg_dataset</th>\n      <th>cfg_discrete_optimizer</th>\n      <th></th>\n      <th></th>\n      <th></th>\n    </tr>\n  </thead>\n  <tbody>\n  </tbody>\n</table>\n</div>"
     },
     "execution_count": 20,
     "metadata": {},
     "output_type": "execute_result"
    }
   ],
   "source": [
    "# Sort and dedup\n",
    "df_sorted = df.sort_values(by=['cfg_model_name', 'cfg_discrete_optimizer', 'cfg_dataset', 'cfg_data_idx', 'success'], ascending=[True, True, True, True, False])\n",
    "df = df_sorted.drop_duplicates(subset=['cfg_dataset', 'cfg_data_idx', 'cfg_model_name', 'cfg_discrete_optimizer'], keep='first')\n",
    "df = df[df[\"success\"] == True]\n",
    "\n",
    "# Make summary counting the average ratio and success rate for each dataset and discrete_optimizer include counts\n",
    "summary = df.groupby([\"cfg_model_name\", \"cfg_dataset\", \"cfg_discrete_optimizer\"]).agg(\n",
    "    {\"ratio\": \"mean\", \"memorized\": \"mean\", \"success\": \"count\"}).round(2)\n",
    "summary"
   ],
   "metadata": {
    "collapsed": false,
    "ExecuteTime": {
     "end_time": "2024-04-12T12:14:36.158431Z",
     "start_time": "2024-04-12T12:14:36.144177Z"
    }
   },
   "id": "585f76598e4455fa",
   "execution_count": 20
  },
  {
   "cell_type": "code",
   "outputs": [],
   "source": [],
   "metadata": {
    "collapsed": false
   },
   "id": "6278d1767c5d2a84"
  }
 ],
 "metadata": {
  "kernelspec": {
   "display_name": "Python 3",
   "language": "python",
   "name": "python3"
  },
  "language_info": {
   "codemirror_mode": {
    "name": "ipython",
    "version": 2
   },
   "file_extension": ".py",
   "mimetype": "text/x-python",
   "name": "python",
   "nbconvert_exporter": "python",
   "pygments_lexer": "ipython2",
   "version": "2.7.6"
  }
 },
 "nbformat": 4,
 "nbformat_minor": 5
}
